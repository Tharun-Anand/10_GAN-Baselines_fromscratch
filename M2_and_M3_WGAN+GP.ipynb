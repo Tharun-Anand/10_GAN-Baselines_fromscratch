{
  "nbformat": 4,
  "nbformat_minor": 0,
  "metadata": {
    "colab": {
      "provenance": [],
      "gpuType": "T4"
    },
    "kernelspec": {
      "name": "python3",
      "display_name": "Python 3"
    },
    "language_info": {
      "name": "python"
    },
    "accelerator": "GPU",
    "gpuClass": "standard",
    "widgets": {
      "application/vnd.jupyter.widget-state+json": {
        "8c791224974d4e7b85ac173c77c38f07": {
          "model_module": "@jupyter-widgets/controls",
          "model_name": "HBoxModel",
          "model_module_version": "1.5.0",
          "state": {
            "_dom_classes": [],
            "_model_module": "@jupyter-widgets/controls",
            "_model_module_version": "1.5.0",
            "_model_name": "HBoxModel",
            "_view_count": null,
            "_view_module": "@jupyter-widgets/controls",
            "_view_module_version": "1.5.0",
            "_view_name": "HBoxView",
            "box_style": "",
            "children": [
              "IPY_MODEL_d7656f9728404a429d37f00e6b086daa",
              "IPY_MODEL_6c7b493e5017482db645b1be07f9b067",
              "IPY_MODEL_c03a63f1287a43b3913cd5d575a81b88"
            ],
            "layout": "IPY_MODEL_a3e54ca7a5f040ec9d9b1d6279b23eca"
          }
        },
        "d7656f9728404a429d37f00e6b086daa": {
          "model_module": "@jupyter-widgets/controls",
          "model_name": "HTMLModel",
          "model_module_version": "1.5.0",
          "state": {
            "_dom_classes": [],
            "_model_module": "@jupyter-widgets/controls",
            "_model_module_version": "1.5.0",
            "_model_name": "HTMLModel",
            "_view_count": null,
            "_view_module": "@jupyter-widgets/controls",
            "_view_module_version": "1.5.0",
            "_view_name": "HTMLView",
            "description": "",
            "description_tooltip": null,
            "layout": "IPY_MODEL_854ea0ab6cca4be6954fdb708dc72d31",
            "placeholder": "​",
            "style": "IPY_MODEL_3a7e361a16e64bcab2feba934b65598e",
            "value": "Epoch 1:  61%"
          }
        },
        "6c7b493e5017482db645b1be07f9b067": {
          "model_module": "@jupyter-widgets/controls",
          "model_name": "FloatProgressModel",
          "model_module_version": "1.5.0",
          "state": {
            "_dom_classes": [],
            "_model_module": "@jupyter-widgets/controls",
            "_model_module_version": "1.5.0",
            "_model_name": "FloatProgressModel",
            "_view_count": null,
            "_view_module": "@jupyter-widgets/controls",
            "_view_module_version": "1.5.0",
            "_view_name": "ProgressView",
            "bar_style": "",
            "description": "",
            "description_tooltip": null,
            "layout": "IPY_MODEL_e68cf24c149c4312bb3182129fa193d8",
            "max": 938,
            "min": 0,
            "orientation": "horizontal",
            "style": "IPY_MODEL_5f3754ac6afb45d395bbb1ffb7fcb10d",
            "value": 575
          }
        },
        "c03a63f1287a43b3913cd5d575a81b88": {
          "model_module": "@jupyter-widgets/controls",
          "model_name": "HTMLModel",
          "model_module_version": "1.5.0",
          "state": {
            "_dom_classes": [],
            "_model_module": "@jupyter-widgets/controls",
            "_model_module_version": "1.5.0",
            "_model_name": "HTMLModel",
            "_view_count": null,
            "_view_module": "@jupyter-widgets/controls",
            "_view_module_version": "1.5.0",
            "_view_name": "HTMLView",
            "description": "",
            "description_tooltip": null,
            "layout": "IPY_MODEL_4f5dfc0839144c1bb12fa1ae937b37b1",
            "placeholder": "​",
            "style": "IPY_MODEL_a314f70cf9eb438fb82486b1f6ec32d4",
            "value": " 575/938 [00:42&lt;00:27, 13.38it/s, v_num=mq9k, g_loss_step=-3.51, d_loss_step=2.280, g_loss_epoch=-6.57, d_loss_epoch=3.480]"
          }
        },
        "a3e54ca7a5f040ec9d9b1d6279b23eca": {
          "model_module": "@jupyter-widgets/base",
          "model_name": "LayoutModel",
          "model_module_version": "1.2.0",
          "state": {
            "_model_module": "@jupyter-widgets/base",
            "_model_module_version": "1.2.0",
            "_model_name": "LayoutModel",
            "_view_count": null,
            "_view_module": "@jupyter-widgets/base",
            "_view_module_version": "1.2.0",
            "_view_name": "LayoutView",
            "align_content": null,
            "align_items": null,
            "align_self": null,
            "border": null,
            "bottom": null,
            "display": "inline-flex",
            "flex": null,
            "flex_flow": "row wrap",
            "grid_area": null,
            "grid_auto_columns": null,
            "grid_auto_flow": null,
            "grid_auto_rows": null,
            "grid_column": null,
            "grid_gap": null,
            "grid_row": null,
            "grid_template_areas": null,
            "grid_template_columns": null,
            "grid_template_rows": null,
            "height": null,
            "justify_content": null,
            "justify_items": null,
            "left": null,
            "margin": null,
            "max_height": null,
            "max_width": null,
            "min_height": null,
            "min_width": null,
            "object_fit": null,
            "object_position": null,
            "order": null,
            "overflow": null,
            "overflow_x": null,
            "overflow_y": null,
            "padding": null,
            "right": null,
            "top": null,
            "visibility": null,
            "width": "100%"
          }
        },
        "854ea0ab6cca4be6954fdb708dc72d31": {
          "model_module": "@jupyter-widgets/base",
          "model_name": "LayoutModel",
          "model_module_version": "1.2.0",
          "state": {
            "_model_module": "@jupyter-widgets/base",
            "_model_module_version": "1.2.0",
            "_model_name": "LayoutModel",
            "_view_count": null,
            "_view_module": "@jupyter-widgets/base",
            "_view_module_version": "1.2.0",
            "_view_name": "LayoutView",
            "align_content": null,
            "align_items": null,
            "align_self": null,
            "border": null,
            "bottom": null,
            "display": null,
            "flex": null,
            "flex_flow": null,
            "grid_area": null,
            "grid_auto_columns": null,
            "grid_auto_flow": null,
            "grid_auto_rows": null,
            "grid_column": null,
            "grid_gap": null,
            "grid_row": null,
            "grid_template_areas": null,
            "grid_template_columns": null,
            "grid_template_rows": null,
            "height": null,
            "justify_content": null,
            "justify_items": null,
            "left": null,
            "margin": null,
            "max_height": null,
            "max_width": null,
            "min_height": null,
            "min_width": null,
            "object_fit": null,
            "object_position": null,
            "order": null,
            "overflow": null,
            "overflow_x": null,
            "overflow_y": null,
            "padding": null,
            "right": null,
            "top": null,
            "visibility": null,
            "width": null
          }
        },
        "3a7e361a16e64bcab2feba934b65598e": {
          "model_module": "@jupyter-widgets/controls",
          "model_name": "DescriptionStyleModel",
          "model_module_version": "1.5.0",
          "state": {
            "_model_module": "@jupyter-widgets/controls",
            "_model_module_version": "1.5.0",
            "_model_name": "DescriptionStyleModel",
            "_view_count": null,
            "_view_module": "@jupyter-widgets/base",
            "_view_module_version": "1.2.0",
            "_view_name": "StyleView",
            "description_width": ""
          }
        },
        "e68cf24c149c4312bb3182129fa193d8": {
          "model_module": "@jupyter-widgets/base",
          "model_name": "LayoutModel",
          "model_module_version": "1.2.0",
          "state": {
            "_model_module": "@jupyter-widgets/base",
            "_model_module_version": "1.2.0",
            "_model_name": "LayoutModel",
            "_view_count": null,
            "_view_module": "@jupyter-widgets/base",
            "_view_module_version": "1.2.0",
            "_view_name": "LayoutView",
            "align_content": null,
            "align_items": null,
            "align_self": null,
            "border": null,
            "bottom": null,
            "display": null,
            "flex": "2",
            "flex_flow": null,
            "grid_area": null,
            "grid_auto_columns": null,
            "grid_auto_flow": null,
            "grid_auto_rows": null,
            "grid_column": null,
            "grid_gap": null,
            "grid_row": null,
            "grid_template_areas": null,
            "grid_template_columns": null,
            "grid_template_rows": null,
            "height": null,
            "justify_content": null,
            "justify_items": null,
            "left": null,
            "margin": null,
            "max_height": null,
            "max_width": null,
            "min_height": null,
            "min_width": null,
            "object_fit": null,
            "object_position": null,
            "order": null,
            "overflow": null,
            "overflow_x": null,
            "overflow_y": null,
            "padding": null,
            "right": null,
            "top": null,
            "visibility": null,
            "width": null
          }
        },
        "5f3754ac6afb45d395bbb1ffb7fcb10d": {
          "model_module": "@jupyter-widgets/controls",
          "model_name": "ProgressStyleModel",
          "model_module_version": "1.5.0",
          "state": {
            "_model_module": "@jupyter-widgets/controls",
            "_model_module_version": "1.5.0",
            "_model_name": "ProgressStyleModel",
            "_view_count": null,
            "_view_module": "@jupyter-widgets/base",
            "_view_module_version": "1.2.0",
            "_view_name": "StyleView",
            "bar_color": null,
            "description_width": ""
          }
        },
        "4f5dfc0839144c1bb12fa1ae937b37b1": {
          "model_module": "@jupyter-widgets/base",
          "model_name": "LayoutModel",
          "model_module_version": "1.2.0",
          "state": {
            "_model_module": "@jupyter-widgets/base",
            "_model_module_version": "1.2.0",
            "_model_name": "LayoutModel",
            "_view_count": null,
            "_view_module": "@jupyter-widgets/base",
            "_view_module_version": "1.2.0",
            "_view_name": "LayoutView",
            "align_content": null,
            "align_items": null,
            "align_self": null,
            "border": null,
            "bottom": null,
            "display": null,
            "flex": null,
            "flex_flow": null,
            "grid_area": null,
            "grid_auto_columns": null,
            "grid_auto_flow": null,
            "grid_auto_rows": null,
            "grid_column": null,
            "grid_gap": null,
            "grid_row": null,
            "grid_template_areas": null,
            "grid_template_columns": null,
            "grid_template_rows": null,
            "height": null,
            "justify_content": null,
            "justify_items": null,
            "left": null,
            "margin": null,
            "max_height": null,
            "max_width": null,
            "min_height": null,
            "min_width": null,
            "object_fit": null,
            "object_position": null,
            "order": null,
            "overflow": null,
            "overflow_x": null,
            "overflow_y": null,
            "padding": null,
            "right": null,
            "top": null,
            "visibility": null,
            "width": null
          }
        },
        "a314f70cf9eb438fb82486b1f6ec32d4": {
          "model_module": "@jupyter-widgets/controls",
          "model_name": "DescriptionStyleModel",
          "model_module_version": "1.5.0",
          "state": {
            "_model_module": "@jupyter-widgets/controls",
            "_model_module_version": "1.5.0",
            "_model_name": "DescriptionStyleModel",
            "_view_count": null,
            "_view_module": "@jupyter-widgets/base",
            "_view_module_version": "1.2.0",
            "_view_name": "StyleView",
            "description_width": ""
          }
        }
      }
    }
  },
  "cells": [
    {
      "cell_type": "markdown",
      "source": [
        "# Wasserstein Generative Adversarial Network"
      ],
      "metadata": {
        "id": "jJnqDELD8t1x"
      }
    },
    {
      "cell_type": "markdown",
      "source": [
        "**Main Improvements:**\n",
        "\n",
        "1. Earth Mover's Distance (Remove Sigmoid Layer from D).  \n",
        "2. Weight Clipping after every optimizer step.  "
      ],
      "metadata": {
        "id": "_xp_Q0GbaM1V"
      }
    },
    {
      "cell_type": "markdown",
      "source": [
        "## Imports"
      ],
      "metadata": {
        "id": "BKl81qZA8yvl"
      }
    },
    {
      "cell_type": "markdown",
      "source": [
        "### wandb (interactive cell)"
      ],
      "metadata": {
        "id": "HNGGKEk680T9"
      }
    },
    {
      "cell_type": "code",
      "execution_count": 1,
      "metadata": {
        "colab": {
          "base_uri": "https://localhost:8080/",
          "height": 335
        },
        "id": "RL25Wf7N7U3d",
        "outputId": "ce24dbe0-3ac4-40b1-dcb8-6684565fa27e"
      },
      "outputs": [
        {
          "output_type": "stream",
          "name": "stdout",
          "text": [
            "\u001b[2K     \u001b[90m━━━━━━━━━━━━━━━━━━━━━━━━━━━━━━━━━━━━━━━━\u001b[0m \u001b[32m2.0/2.0 MB\u001b[0m \u001b[31m16.9 MB/s\u001b[0m eta \u001b[36m0:00:00\u001b[0m\n",
            "\u001b[2K     \u001b[90m━━━━━━━━━━━━━━━━━━━━━━━━━━━━━━━━━━━━━━\u001b[0m \u001b[32m719.0/719.0 kB\u001b[0m \u001b[31m57.8 MB/s\u001b[0m eta \u001b[36m0:00:00\u001b[0m\n",
            "\u001b[2K     \u001b[90m━━━━━━━━━━━━━━━━━━━━━━━━━━━━━━━━━━━━━━\u001b[0m \u001b[32m519.2/519.2 kB\u001b[0m \u001b[31m43.0 MB/s\u001b[0m eta \u001b[36m0:00:00\u001b[0m\n",
            "\u001b[2K     \u001b[90m━━━━━━━━━━━━━━━━━━━━━━━━━━━━━━━━━━━━━━\u001b[0m \u001b[32m184.3/184.3 kB\u001b[0m \u001b[31m22.5 MB/s\u001b[0m eta \u001b[36m0:00:00\u001b[0m\n",
            "\u001b[2K     \u001b[90m━━━━━━━━━━━━━━━━━━━━━━━━━━━━━━━━━━━━━━\u001b[0m \u001b[32m205.1/205.1 kB\u001b[0m \u001b[31m23.9 MB/s\u001b[0m eta \u001b[36m0:00:00\u001b[0m\n",
            "\u001b[?25h  Preparing metadata (setup.py) ... \u001b[?25l\u001b[?25hdone\n",
            "\u001b[2K     \u001b[90m━━━━━━━━━━━━━━━━━━━━━━━━━━━━━━━━━━━━━━━━\u001b[0m \u001b[32m1.0/1.0 MB\u001b[0m \u001b[31m57.5 MB/s\u001b[0m eta \u001b[36m0:00:00\u001b[0m\n",
            "\u001b[2K     \u001b[90m━━━━━━━━━━━━━━━━━━━━━━━━━━━━━━━━━━━━━━━━\u001b[0m \u001b[32m62.7/62.7 kB\u001b[0m \u001b[31m8.4 MB/s\u001b[0m eta \u001b[36m0:00:00\u001b[0m\n",
            "\u001b[2K     \u001b[90m━━━━━━━━━━━━━━━━━━━━━━━━━━━━━━━━━━━━━━━\u001b[0m \u001b[32m114.5/114.5 kB\u001b[0m \u001b[31m6.1 MB/s\u001b[0m eta \u001b[36m0:00:00\u001b[0m\n",
            "\u001b[2K     \u001b[90m━━━━━━━━━━━━━━━━━━━━━━━━━━━━━━━━━━━━━━\u001b[0m \u001b[32m268.8/268.8 kB\u001b[0m \u001b[31m17.1 MB/s\u001b[0m eta \u001b[36m0:00:00\u001b[0m\n",
            "\u001b[2K     \u001b[90m━━━━━━━━━━━━━━━━━━━━━━━━━━━━━━━━━━━━━━\u001b[0m \u001b[32m149.6/149.6 kB\u001b[0m \u001b[31m10.5 MB/s\u001b[0m eta \u001b[36m0:00:00\u001b[0m\n",
            "\u001b[?25h  Building wheel for pathtools (setup.py) ... \u001b[?25l\u001b[?25hdone\n"
          ]
        },
        {
          "output_type": "display_data",
          "data": {
            "text/plain": [
              "<IPython.core.display.Javascript object>"
            ],
            "application/javascript": [
              "\n",
              "        window._wandbApiKey = new Promise((resolve, reject) => {\n",
              "            function loadScript(url) {\n",
              "            return new Promise(function(resolve, reject) {\n",
              "                let newScript = document.createElement(\"script\");\n",
              "                newScript.onerror = reject;\n",
              "                newScript.onload = resolve;\n",
              "                document.body.appendChild(newScript);\n",
              "                newScript.src = url;\n",
              "            });\n",
              "            }\n",
              "            loadScript(\"https://cdn.jsdelivr.net/npm/postmate/build/postmate.min.js\").then(() => {\n",
              "            const iframe = document.createElement('iframe')\n",
              "            iframe.style.cssText = \"width:0;height:0;border:none\"\n",
              "            document.body.appendChild(iframe)\n",
              "            const handshake = new Postmate({\n",
              "                container: iframe,\n",
              "                url: 'https://wandb.ai/authorize'\n",
              "            });\n",
              "            const timeout = setTimeout(() => reject(\"Couldn't auto authenticate\"), 5000)\n",
              "            handshake.then(function(child) {\n",
              "                child.on('authorize', data => {\n",
              "                    clearTimeout(timeout)\n",
              "                    resolve(data)\n",
              "                });\n",
              "            });\n",
              "            })\n",
              "        });\n",
              "    "
            ]
          },
          "metadata": {}
        },
        {
          "output_type": "stream",
          "name": "stderr",
          "text": [
            "\u001b[34m\u001b[1mwandb\u001b[0m: Logging into wandb.ai. (Learn how to deploy a W&B server locally: https://wandb.me/wandb-server)\n",
            "\u001b[34m\u001b[1mwandb\u001b[0m: You can find your API key in your browser here: https://wandb.ai/authorize\n",
            "wandb: Paste an API key from your profile and hit enter, or press ctrl+c to quit:"
          ]
        },
        {
          "name": "stdout",
          "output_type": "stream",
          "text": [
            " ··········\n"
          ]
        },
        {
          "output_type": "stream",
          "name": "stderr",
          "text": [
            "\u001b[34m\u001b[1mwandb\u001b[0m: Appending key for api.wandb.ai to your netrc file: /root/.netrc\n"
          ]
        },
        {
          "output_type": "execute_result",
          "data": {
            "text/plain": [
              "True"
            ]
          },
          "metadata": {},
          "execution_count": 1
        }
      ],
      "source": [
        "!pip -qqq install wandb pytorch-lightning torchmetrics > /dev/null\n",
        "\n",
        "import wandb\n",
        "from pytorch_lightning.loggers import WandbLogger\n",
        "\n",
        "wandb.login()\n",
        "\n",
        "# API Key:\n",
        "# d926baa25b6a14ffa4e5c30a6f3bbffbeca8fcf1"
      ]
    },
    {
      "cell_type": "markdown",
      "source": [
        "### Lightning"
      ],
      "metadata": {
        "id": "2fYiQ8KT93mk"
      }
    },
    {
      "cell_type": "code",
      "source": [
        "try:\n",
        "  import lightning.pytorch as pl\n",
        "except:\n",
        "  print(\"[!] Couldn't find pytorch-lightning.\\nInstalling it...\\n\")\n",
        "  !pip install lightning > /dev/null\n",
        "  import lightning.pytorch as pl"
      ],
      "metadata": {
        "colab": {
          "base_uri": "https://localhost:8080/"
        },
        "id": "l72VnqKx946V",
        "outputId": "2de561ee-21d7-46c3-d4a3-278b5432010a"
      },
      "execution_count": 2,
      "outputs": [
        {
          "output_type": "stream",
          "name": "stdout",
          "text": [
            "[!] Couldn't find pytorch-lightning.\n",
            "Installing it...\n",
            "\n"
          ]
        }
      ]
    },
    {
      "cell_type": "code",
      "source": [
        "from lightning.pytorch.utilities.model_summary import ModelSummary"
      ],
      "metadata": {
        "id": "2f6GKjlv97Hk"
      },
      "execution_count": 3,
      "outputs": []
    },
    {
      "cell_type": "code",
      "source": [
        "from pytorch_lightning import seed_everything"
      ],
      "metadata": {
        "id": "aW1Wbm2298Km"
      },
      "execution_count": 4,
      "outputs": []
    },
    {
      "cell_type": "markdown",
      "source": [
        "### standard imports"
      ],
      "metadata": {
        "id": "t1EQePfV83O2"
      }
    },
    {
      "cell_type": "code",
      "source": [
        "import os\n",
        "import shutil\n",
        "import pathlib\n",
        "\n",
        "from PIL import Image\n",
        "import numpy as np\n",
        "import cv2 as cv\n",
        "import random\n",
        "import matplotlib.pyplot as plt\n",
        "from tqdm.auto import tqdm\n",
        "\n",
        "import torch\n",
        "import torch.nn as nn\n",
        "import torch.nn.functional as F\n",
        "from torch import optim\n",
        "\n",
        "from torch.utils.data import DataLoader, random_split\n",
        "from torch.utils.data import Dataset\n",
        "\n",
        "import torchvision\n",
        "from torchvision import datasets"
      ],
      "metadata": {
        "id": "6AevVvdl85Um"
      },
      "execution_count": 5,
      "outputs": []
    },
    {
      "cell_type": "code",
      "source": [
        "import torchvision.transforms as T\n",
        "from torchvision.transforms import Compose, ToTensor, Resize\n",
        "from torchvision.utils import make_grid"
      ],
      "metadata": {
        "id": "Dzq3qiLS9-u8"
      },
      "execution_count": 6,
      "outputs": []
    },
    {
      "cell_type": "markdown",
      "source": [
        "### Albumentations"
      ],
      "metadata": {
        "id": "Y7NgVvbE-AHU"
      }
    },
    {
      "cell_type": "code",
      "source": [
        "try:\n",
        "  import albumentations as A\n",
        "  from albumentations.pytorch import ToTensorV2\n",
        "except:\n",
        "  print(\"[!] Couldn't find albumentations... installing it.\")\n",
        "  !pip install -U albumentations\n",
        "  import albumentations as A\n",
        "  from albumentations.pytorch import ToTensorV2"
      ],
      "metadata": {
        "id": "NOCIrRda-BYM"
      },
      "execution_count": 7,
      "outputs": []
    },
    {
      "cell_type": "markdown",
      "source": [
        "### Custom Definitions"
      ],
      "metadata": {
        "id": "k7-nIydz-Fp8"
      }
    },
    {
      "cell_type": "code",
      "source": [
        "# Folder Utilities ----------------------------\n",
        "\n",
        "## Create dir if it doesn't exist\n",
        "def create_dir(dir_name):\n",
        "  if not os.path.exists(f'/content/{dir_name}'):\n",
        "    os.mkdir(f'/content/{dir_name}')\n",
        "\n",
        "## Delete dir: checkpoints\n",
        "def delete_dir(dir_name):\n",
        "  if os.path.isdir(f'/content/{dir_name}'):\n",
        "    shutil.rmtree(f'/content/{dir_name}')\n",
        "\n",
        "# ---------------------------------------------"
      ],
      "metadata": {
        "id": "B7a_Sbx5-Gyu"
      },
      "execution_count": 9,
      "outputs": []
    },
    {
      "cell_type": "markdown",
      "source": [
        "## Config File, Seeds & Devices"
      ],
      "metadata": {
        "id": "qigozplb-TDs"
      }
    },
    {
      "cell_type": "code",
      "source": [
        "# Log this config file to wandb\n",
        "CONFIG = dict(\n",
        "    seed=42,\n",
        "    DATA_ROOT = '/content/',\n",
        "    BATCH_SIZE = 64,\n",
        "    WORKERS = 2,\n",
        "    IMG_SIZE = (28,28),\n",
        "    NUM_EPOCHS = 20,\n",
        "    nz=100,\n",
        "    lr = 0.00005,\n",
        "    nc = 1,  \n",
        "    disc_steps=5,\n",
        "    checkpoint_path='/content/checkpoints/',\n",
        "    clipping_c=0.01\n",
        "    )"
      ],
      "metadata": {
        "id": "uWjUuUh8-PQF"
      },
      "execution_count": 10,
      "outputs": []
    },
    {
      "cell_type": "code",
      "source": [
        "seed_everything(CONFIG['seed'])"
      ],
      "metadata": {
        "colab": {
          "base_uri": "https://localhost:8080/"
        },
        "id": "J2PolDP7SqEU",
        "outputId": "15267e2b-9ca3-4ab8-8159-dc54a819c9d0"
      },
      "execution_count": 11,
      "outputs": [
        {
          "output_type": "stream",
          "name": "stderr",
          "text": [
            "INFO:lightning_fabric.utilities.seed:Global seed set to 42\n"
          ]
        },
        {
          "output_type": "execute_result",
          "data": {
            "text/plain": [
              "42"
            ]
          },
          "metadata": {},
          "execution_count": 11
        }
      ]
    },
    {
      "cell_type": "code",
      "source": [
        "# device = torch.device('cpu')\n",
        "if torch.cuda.is_available():\n",
        "  device = torch.device('cuda')\n",
        "else:\n",
        "  device = torch.device('cpu')\n",
        "\n",
        "device"
      ],
      "metadata": {
        "colab": {
          "base_uri": "https://localhost:8080/"
        },
        "id": "sfi7e5KrSrsk",
        "outputId": "c513f252-76c1-449f-904b-511032bb08b0"
      },
      "execution_count": 12,
      "outputs": [
        {
          "output_type": "execute_result",
          "data": {
            "text/plain": [
              "device(type='cuda')"
            ]
          },
          "metadata": {},
          "execution_count": 12
        }
      ]
    },
    {
      "cell_type": "markdown",
      "source": [
        "## Transforms"
      ],
      "metadata": {
        "id": "Z0bspYGB851c"
      }
    },
    {
      "cell_type": "code",
      "source": [
        "# import torchvision.transforms as T\n",
        "# train_transform = A.Compose(\n",
        "#     [\n",
        "#         A.SmallestMaxSize(max_size=160),\n",
        "#         A.ShiftScaleRotate(shift_limit=0.05, scale_limit=0.05, rotate_limit=15, p=0.5),\n",
        "#         A.RandomCrop(height=128, width=128),\n",
        "#         A.RGBShift(r_shift_limit=15, g_shift_limit=15, b_shift_limit=15, p=0.5),\n",
        "#         A.RandomBrightnessContrast(p=0.5),\n",
        "#         A.Normalize(mean=(0.485, 0.456, 0.406), std=(0.229, 0.224, 0.225)),\n",
        "#         ToTensorV2(),\n",
        "#     ]\n",
        "# )\n",
        "train_transform = Compose([\n",
        "    # T.RandomAffine(degrees=15, translate=(0.1,0.1), scale=(0.8,1.2)),\n",
        "    # T.RandomHorizontalFlip(p=0.5),\n",
        "    T.GaussianBlur(kernel_size=3),\n",
        "    ToTensor()\n",
        "])"
      ],
      "metadata": {
        "id": "zvbPlyvZ89rF"
      },
      "execution_count": 192,
      "outputs": []
    },
    {
      "cell_type": "markdown",
      "source": [
        "## Dataset & DataLoaders (use lightning's Data Module class this time)"
      ],
      "metadata": {
        "id": "QXCjhCis8-Ft"
      }
    },
    {
      "cell_type": "code",
      "source": [
        "train_data = torchvision.datasets.FashionMNIST(root=\"train_data\", \n",
        "                                               train = True, \n",
        "                                               transform = train_transform, \n",
        "                                               target_transform = None, \n",
        "                                               download = True)"
      ],
      "metadata": {
        "id": "fyutMQiH-U8U"
      },
      "execution_count": 193,
      "outputs": []
    },
    {
      "cell_type": "code",
      "source": [
        "test_data = torchvision.datasets.FashionMNIST(root=\"test_data\",\n",
        "                                              train=False, \n",
        "                                              transform=Compose([ToTensor()]), \n",
        "                                              target_transform=None, \n",
        "                                              download=True)"
      ],
      "metadata": {
        "id": "y-sbDzg1ox7K"
      },
      "execution_count": 194,
      "outputs": []
    },
    {
      "cell_type": "code",
      "source": [
        "print(len(test_data), len(train_data))"
      ],
      "metadata": {
        "colab": {
          "base_uri": "https://localhost:8080/"
        },
        "id": "A-rOZjAmEZJf",
        "outputId": "e4c1dd0a-f5e0-423a-9fec-21c9f5098b3a"
      },
      "execution_count": 195,
      "outputs": [
        {
          "output_type": "stream",
          "name": "stdout",
          "text": [
            "10000 60000\n"
          ]
        }
      ]
    },
    {
      "cell_type": "code",
      "source": [
        "train_dataloader = DataLoader(train_data, batch_size=CONFIG['BATCH_SIZE'], shuffle=True)\n",
        "test_dataloader = DataLoader(test_data, batch_size=CONFIG['BATCH_SIZE'], shuffle=True)"
      ],
      "metadata": {
        "id": "w4taEkO_EoEg"
      },
      "execution_count": 196,
      "outputs": []
    },
    {
      "cell_type": "markdown",
      "source": [
        "## Sanity Visualizations"
      ],
      "metadata": {
        "id": "8IdfCGJn9EYU"
      }
    },
    {
      "cell_type": "code",
      "source": [
        "labels_map = {\n",
        "    0: \"T-Shirt\",\n",
        "    1: \"Trouser\",\n",
        "    2: \"Pullover\",\n",
        "    3: \"Dress\",\n",
        "    4: \"Coat\",\n",
        "    5: \"Sandal\",\n",
        "    6: \"Shirt\",\n",
        "    7: \"Sneaker\",\n",
        "    8: \"Bag\",\n",
        "    9: \"Ankle Boot\",\n",
        "}\n",
        "figure = plt.figure(figsize=(8, 8))\n",
        "cols, rows = 3, 3\n",
        "for i in range(1, cols * rows + 1):\n",
        "    sample_idx = torch.randint(len(train_data), size=(1,)).item()\n",
        "    img, label = train_data[sample_idx]\n",
        "    # print(img.shape)\n",
        "    figure.add_subplot(rows, cols, i)\n",
        "    plt.title(labels_map[label])\n",
        "    plt.axis(\"off\")\n",
        "    plt.imshow(img.squeeze(), cmap=\"gray\")\n",
        "plt.show()"
      ],
      "metadata": {
        "colab": {
          "base_uri": "https://localhost:8080/",
          "height": 675
        },
        "id": "qP4uDops9Grt",
        "outputId": "2868548a-af8c-4d29-d782-83a9b95006aa"
      },
      "execution_count": 197,
      "outputs": [
        {
          "output_type": "display_data",
          "data": {
            "text/plain": [
              "<Figure size 800x800 with 9 Axes>"
            ],
            "image/png": "[encoded data removed]"
          },
          "metadata": {}
        }
      ]
    },
    {
      "cell_type": "markdown",
      "source": [
        "## Model Arch"
      ],
      "metadata": {
        "id": "8xEbBzpU9Hil"
      }
    },
    {
      "cell_type": "code",
      "source": [
        "from torchvision import models\n",
        "from torchsummary import summary"
      ],
      "metadata": {
        "id": "eagh9GG-SbwA"
      },
      "execution_count": 198,
      "outputs": []
    },
    {
      "cell_type": "markdown",
      "source": [
        "### Discriminator\n",
        "\n",
        "> No Sigmoid at the end!   \n",
        "> Values can range from -∞ to ∞"
      ],
      "metadata": {
        "id": "H7c8Yqcc9MYN"
      }
    },
    {
      "cell_type": "code",
      "source": [
        "class Discriminator(nn.Module):\n",
        "  def __init__(self, img_shape):\n",
        "    super().__init__()\n",
        "\n",
        "    self.img_shape = img_shape\n",
        "    self.model = nn.Sequential(\n",
        "        nn.Linear(int(np.prod(self.img_shape)), 512),\n",
        "        nn.ReLU(inplace=True),\n",
        "        nn.Linear(512, 256),\n",
        "        nn.ReLU(inplace=True),\n",
        "        nn.Linear(256, 128),\n",
        "        nn.ReLU(inplace=True),   \n",
        "        nn.Linear(128,1)\n",
        "    )\n",
        "  \n",
        "  def forward(self, x):\n",
        "    x = x.view(x.size(0), -1)\n",
        "    real_or_fake = self.model(x)\n",
        "    return real_or_fake"
      ],
      "metadata": {
        "id": "IrSce6u_9LNM"
      },
      "execution_count": 199,
      "outputs": []
    },
    {
      "cell_type": "code",
      "source": [
        "d = Discriminator(img_shape=CONFIG['IMG_SIZE']).to(device)\n",
        "summary(d, (1,28,28))"
      ],
      "metadata": {
        "colab": {
          "base_uri": "https://localhost:8080/"
        },
        "id": "OtkrA-fbSgLM",
        "outputId": "a85e010e-81d0-4a4d-87b6-20cd14dca754"
      },
      "execution_count": 200,
      "outputs": [
        {
          "output_type": "stream",
          "name": "stdout",
          "text": [
            "----------------------------------------------------------------\n",
            "        Layer (type)               Output Shape         Param #\n",
            "================================================================\n",
            "            Linear-1                  [-1, 512]         401,920\n",
            "              ReLU-2                  [-1, 512]               0\n",
            "            Linear-3                  [-1, 256]         131,328\n",
            "              ReLU-4                  [-1, 256]               0\n",
            "            Linear-5                  [-1, 128]          32,896\n",
            "              ReLU-6                  [-1, 128]               0\n",
            "            Linear-7                    [-1, 1]             129\n",
            "================================================================\n",
            "Total params: 566,273\n",
            "Trainable params: 566,273\n",
            "Non-trainable params: 0\n",
            "----------------------------------------------------------------\n",
            "Input size (MB): 0.00\n",
            "Forward/backward pass size (MB): 0.01\n",
            "Params size (MB): 2.16\n",
            "Estimated Total Size (MB): 2.18\n",
            "----------------------------------------------------------------\n"
          ]
        }
      ]
    },
    {
      "cell_type": "markdown",
      "source": [
        "### Generator"
      ],
      "metadata": {
        "id": "a7Gx1Evy9OJH"
      }
    },
    {
      "cell_type": "code",
      "source": [
        "class Generator(nn.Module):\n",
        "  def __init__(self, img_shape, latent_dim: int = 100):\n",
        "    super().__init__()\n",
        "\n",
        "    self.img_shape = img_shape\n",
        "\n",
        "    self.model = nn.Sequential(\n",
        "        nn.Flatten(),\n",
        "        nn.Linear(latent_dim, 128),\n",
        "        nn.ReLU(inplace=True),\n",
        "        nn.Linear(128, 256),\n",
        "        nn.ReLU(inplace=True),\n",
        "        nn.Linear(256, 512),\n",
        "        nn.ReLU(inplace=True),\n",
        "        nn.Linear(512, 784),\n",
        "        nn.Sigmoid()          \n",
        "    )\n",
        "  \n",
        "  def forward(self, z):\n",
        "    img = self.model(z)\n",
        "    img = img.view(img.size(0), *self.img_shape)\n",
        "    return img"
      ],
      "metadata": {
        "id": "qpX_I4qB9PJt"
      },
      "execution_count": 201,
      "outputs": []
    },
    {
      "cell_type": "code",
      "source": [
        "g = Generator(CONFIG['IMG_SIZE']).to(device)\n",
        "summary(g, (100, 1, 1))"
      ],
      "metadata": {
        "colab": {
          "base_uri": "https://localhost:8080/"
        },
        "id": "zsoJaO9zSeAz",
        "outputId": "9150b0a1-f5cc-4494-852e-5980cc192c3a"
      },
      "execution_count": 202,
      "outputs": [
        {
          "output_type": "stream",
          "name": "stdout",
          "text": [
            "----------------------------------------------------------------\n",
            "        Layer (type)               Output Shape         Param #\n",
            "================================================================\n",
            "           Flatten-1                  [-1, 100]               0\n",
            "            Linear-2                  [-1, 128]          12,928\n",
            "              ReLU-3                  [-1, 128]               0\n",
            "            Linear-4                  [-1, 256]          33,024\n",
            "              ReLU-5                  [-1, 256]               0\n",
            "            Linear-6                  [-1, 512]         131,584\n",
            "              ReLU-7                  [-1, 512]               0\n",
            "            Linear-8                  [-1, 784]         402,192\n",
            "           Sigmoid-9                  [-1, 784]               0\n",
            "================================================================\n",
            "Total params: 579,728\n",
            "Trainable params: 579,728\n",
            "Non-trainable params: 0\n",
            "----------------------------------------------------------------\n",
            "Input size (MB): 0.00\n",
            "Forward/backward pass size (MB): 0.03\n",
            "Params size (MB): 2.21\n",
            "Estimated Total Size (MB): 2.24\n",
            "----------------------------------------------------------------\n"
          ]
        }
      ]
    },
    {
      "cell_type": "markdown",
      "source": [
        "## FID"
      ],
      "metadata": {
        "id": "HiqSa8B6oxo5"
      }
    },
    {
      "cell_type": "code",
      "source": [
        "class InceptionV3(nn.Module):\n",
        "    \"\"\"Pretrained InceptionV3 network returning feature maps\"\"\"\n",
        "\n",
        "    # Index of default block of inception to return,\n",
        "    # corresponds to output of final average pooling\n",
        "    DEFAULT_BLOCK_INDEX = 3\n",
        "\n",
        "    # Maps feature dimensionality to their output blocks indices\n",
        "    BLOCK_INDEX_BY_DIM = {\n",
        "        64: 0,   # First max pooling features\n",
        "        192: 1,  # Second max pooling featurs\n",
        "        768: 2,  # Pre-aux classifier features\n",
        "        2048: 3  # Final average pooling features\n",
        "    }\n",
        "\n",
        "    def __init__(self,\n",
        "                 output_blocks=[DEFAULT_BLOCK_INDEX],\n",
        "                 resize_input=True,\n",
        "                 normalize_input=True,\n",
        "                 requires_grad=False):\n",
        "        \n",
        "        super(InceptionV3, self).__init__()\n",
        "\n",
        "        self.resize_input = resize_input\n",
        "        self.normalize_input = normalize_input\n",
        "        self.output_blocks = sorted(output_blocks)\n",
        "        self.last_needed_block = max(output_blocks)\n",
        "\n",
        "        assert self.last_needed_block <= 3, \\\n",
        "            'Last possible output block index is 3'\n",
        "\n",
        "        self.blocks = nn.ModuleList()\n",
        "\n",
        "        \n",
        "        inception = torchvision.models.inception_v3(pretrained=True)\n",
        "\n",
        "        # Block 0: input to maxpool1\n",
        "        block0 = [\n",
        "            inception.Conv2d_1a_3x3,\n",
        "            inception.Conv2d_2a_3x3,\n",
        "            inception.Conv2d_2b_3x3,\n",
        "            nn.MaxPool2d(kernel_size=3, stride=2)\n",
        "        ]\n",
        "        self.blocks.append(nn.Sequential(*block0))\n",
        "\n",
        "        # Block 1: maxpool1 to maxpool2\n",
        "        if self.last_needed_block >= 1:\n",
        "            block1 = [\n",
        "                inception.Conv2d_3b_1x1,\n",
        "                inception.Conv2d_4a_3x3,\n",
        "                nn.MaxPool2d(kernel_size=3, stride=2)\n",
        "            ]\n",
        "            self.blocks.append(nn.Sequential(*block1))\n",
        "\n",
        "        # Block 2: maxpool2 to aux classifier\n",
        "        if self.last_needed_block >= 2:\n",
        "            block2 = [\n",
        "                inception.Mixed_5b,\n",
        "                inception.Mixed_5c,\n",
        "                inception.Mixed_5d,\n",
        "                inception.Mixed_6a,\n",
        "                inception.Mixed_6b,\n",
        "                inception.Mixed_6c,\n",
        "                inception.Mixed_6d,\n",
        "                inception.Mixed_6e,\n",
        "            ]\n",
        "            self.blocks.append(nn.Sequential(*block2))\n",
        "\n",
        "        # Block 3: aux classifier to final avgpool\n",
        "        if self.last_needed_block >= 3:\n",
        "            block3 = [\n",
        "                inception.Mixed_7a,\n",
        "                inception.Mixed_7b,\n",
        "                inception.Mixed_7c,\n",
        "                nn.AdaptiveAvgPool2d(output_size=(1, 1))\n",
        "            ]\n",
        "            self.blocks.append(nn.Sequential(*block3))\n",
        "\n",
        "        for param in self.parameters():\n",
        "            param.requires_grad = requires_grad\n",
        "\n",
        "    def forward(self, inp):\n",
        "        \"\"\"Get Inception feature maps\n",
        "        Parameters\n",
        "        ----------\n",
        "        inp : torch.autograd.Variable\n",
        "            Input tensor of shape Bx3xHxW. Values are expected to be in\n",
        "            range (0, 1)\n",
        "        Returns\n",
        "        -------\n",
        "        List of torch.autograd.Variable, corresponding to the selected output\n",
        "        block, sorted ascending by index\n",
        "        \"\"\"\n",
        "        outp = []\n",
        "        if inp.shape[1] == 1:\n",
        "          inp = inp.expand(inp.shape[0], 3, *inp.shape[2:])\n",
        "          print(inp.shape)\n",
        "        x = inp\n",
        "\n",
        "        if self.resize_input:\n",
        "            x = F.interpolate(x,\n",
        "                              size=(299, 299),\n",
        "                              mode='bilinear',\n",
        "                              align_corners=False)\n",
        "\n",
        "        if self.normalize_input:\n",
        "            x = 2 * x - 1  # Scale from range (0, 1) to range (-1, 1)\n",
        "\n",
        "        for idx, block in enumerate(self.blocks):\n",
        "            x = block(x)\n",
        "            if idx in self.output_blocks:\n",
        "                outp.append(x)\n",
        "\n",
        "            if idx == self.last_needed_block:\n",
        "                break\n",
        "\n",
        "        return outp\n",
        "    \n",
        "    \n",
        "block_idx = InceptionV3.BLOCK_INDEX_BY_DIM[2048]\n",
        "model_inc = InceptionV3([block_idx])\n",
        "model_inc = model_inc.cuda()\n",
        "\n",
        "\n",
        "def calculate_activation_statistics(images,model,batch_size=128, dims=2048,\n",
        "                    cuda=False):\n",
        "    model.eval()\n",
        "    act=np.empty((len(images), dims))\n",
        "    \n",
        "    if cuda:\n",
        "        batch=images.cuda()\n",
        "    else:\n",
        "        batch=images\n",
        "    pred = model(batch)[0]\n",
        "\n",
        "        # If model output is not scalar, apply global spatial average pooling.\n",
        "        # This happens if you choose a dimensionality not equal 2048.\n",
        "    if pred.size(2) != 1 or pred.size(3) != 1:\n",
        "        pred = nn.functional.adaptive_avg_pool2d(pred, output_size=(1, 1))\n",
        "\n",
        "    act= pred.cpu().data.numpy().reshape(pred.size(0), -1)\n",
        "    \n",
        "    mu = np.mean(act, axis=0)\n",
        "    sigma = np.cov(act, rowvar=False)\n",
        "    return mu, sigma\n",
        "\n",
        "\n",
        "from scipy.linalg import sqrtm\n",
        "def calculate_frechet_distance(mu1, sigma1, mu2, sigma2, eps=1e-6):\n",
        "    \"\"\"\n",
        "    The Frechet distance between two multivariate Gaussians X_1 ~ N(mu_1, C_1)\n",
        "    and X_2 ~ N(mu_2, C_2) is:\n",
        "            d^2 = ||mu_1 - mu_2||^2 + Tr(C_1 + C_2 - 2*sqrt(C_1*C_2))\n",
        "    \"\"\"\n",
        "\n",
        "    mu1 = np.atleast_1d(mu1)\n",
        "    mu2 = np.atleast_1d(mu2)\n",
        "\n",
        "    sigma1 = np.atleast_2d(sigma1)\n",
        "    sigma2 = np.atleast_2d(sigma2)\n",
        "\n",
        "    assert mu1.shape == mu2.shape, \\\n",
        "        'Training and test mean vectors have different lengths'\n",
        "    assert sigma1.shape == sigma2.shape, \\\n",
        "        'Training and test covariances have different dimensions'\n",
        "\n",
        "    diff = mu1 - mu2\n",
        "    \n",
        "    covmean, _ = sqrtm(sigma1.dot(sigma2), disp=False)\n",
        "    if not np.isfinite(covmean).all():\n",
        "        msg = ('fid calculation produces singular product; '\n",
        "               'adding %s to diagonal of cov estimates') % eps\n",
        "        print(msg)\n",
        "        offset = np.eye(sigma1.shape[0]) * eps\n",
        "        covmean = np.linalg.sqrtm((sigma1 + offset).dot(sigma2 + offset))\n",
        "\n",
        "    \n",
        "    if np.iscomplexobj(covmean):\n",
        "        if not np.allclose(np.diagonal(covmean).imag, 0, atol=1e-3):\n",
        "            m = np.max(np.abs(covmean.imag))\n",
        "            raise ValueError('Imaginary component {}'.format(m))\n",
        "        covmean = covmean.real\n",
        "\n",
        "    tr_covmean = np.trace(covmean)\n",
        "\n",
        "    return (diff.dot(diff) + np.trace(sigma1) +\n",
        "            np.trace(sigma2) - 2 * tr_covmean)\n",
        "\n",
        "\n",
        "def calculate_fretchet(images_real,images_fake,model):\n",
        "     mu_1,std_1=calculate_activation_statistics(images_real,model,cuda=True)\n",
        "     mu_2,std_2=calculate_activation_statistics(images_fake,model,cuda=True)\n",
        "    \n",
        "     \"\"\"get fretched distance\"\"\"\n",
        "     fid_value = calculate_frechet_distance(mu_1, std_1, mu_2, std_2)\n",
        "     return fid_value"
      ],
      "metadata": {
        "id": "SV6Nq_iOoyw_",
        "colab": {
          "base_uri": "https://localhost:8080/"
        },
        "outputId": "c39ab81e-019a-4f88-b6dd-4d72cbbd06f8"
      },
      "execution_count": 203,
      "outputs": [
        {
          "output_type": "stream",
          "name": "stderr",
          "text": [
            "/usr/local/lib/python3.10/dist-packages/torchvision/models/_utils.py:208: UserWarning: The parameter 'pretrained' is deprecated since 0.13 and may be removed in the future, please use 'weights' instead.\n",
            "  warnings.warn(\n",
            "/usr/local/lib/python3.10/dist-packages/torchvision/models/_utils.py:223: UserWarning: Arguments other than a weight enum or `None` for 'weights' are deprecated since 0.13 and may be removed in the future. The current behavior is equivalent to passing `weights=Inception_V3_Weights.IMAGENET1K_V1`. You can also use `weights=Inception_V3_Weights.DEFAULT` to get the most up-to-date weights.\n",
            "  warnings.warn(msg)\n"
          ]
        }
      ]
    },
    {
      "cell_type": "markdown",
      "source": [
        "## Lightning Recipe"
      ],
      "metadata": {
        "id": "2JiMBjrMJaFM"
      }
    },
    {
      "cell_type": "code",
      "source": [
        "class LIT_WGAN(pl.LightningModule):\n",
        "  \n",
        "  def __init__(self, \n",
        "               discriminator_model, \n",
        "               generator_model, \n",
        "               latent_dim: int = 100, \n",
        "               lr: float = 0.003, \n",
        "               clipping_c: float = 0.01,\n",
        "               disc_steps: int = 5,\n",
        "               isGP=False):\n",
        "    \n",
        "    super().__init__()\n",
        "    self.save_hyperparameters(ignore=[discriminator_model, generator_model])\n",
        "    self.automatic_optimization = False\n",
        "\n",
        "    self.discriminator = discriminator_model\n",
        "    self.generator = generator_model\n",
        "    self.weight_cliping_limit = clipping_c\n",
        "\n",
        "    self.isGP = isGP\n",
        "  \n",
        "  def configure_optimizers(self):\n",
        "    lr = self.hparams.lr\n",
        "\n",
        "    optim_g = torch.optim.RMSprop(self.generator.parameters(), lr=lr)\n",
        "    optim_d = torch.optim.RMSprop(self.discriminator.parameters(), lr=lr)\n",
        "\n",
        "    return [optim_g, optim_d], []\n",
        "\n",
        "  def compute_gradient_penalty(self, real_samples, fake_samples):\n",
        "    # Random weight term for interpolation between real and fake samples\n",
        "    alpha = torch.Tensor(np.random.random((real_samples.size(0), 1, 1, 1))).to(self.device)\n",
        "\n",
        "    # Get random interpolation between real and fake samples\n",
        "    # print((torch.sub(alpha, 1) * fake_samples).shape)\n",
        "    interpolates = (alpha * real_samples + (torch.sub(alpha,1) * fake_samples)).requires_grad_(True)\n",
        "    interpolates = interpolates.to(self.device)\n",
        "    # print(\"interpolates.shape:\",interpolates.shape)\n",
        "    d_interpolates = self.discriminator(interpolates)\n",
        "    # print(\"d_interpolates.shape:\", d_interpolates.shape)\n",
        "    fake = torch.Tensor(real_samples.shape[0], 1).fill_(1.0).to(self.device)\n",
        "    # Get gradient w.r.t. interpolates\n",
        "    gradients = torch.autograd.grad(\n",
        "        outputs=d_interpolates,\n",
        "        inputs=interpolates,\n",
        "        grad_outputs=fake,\n",
        "        create_graph=True,\n",
        "        retain_graph=True,\n",
        "        only_inputs=True,\n",
        "    )[0]\n",
        "    gradients = gradients.view(gradients.size(0), -1).to(self.device)\n",
        "    # print(\"gradients.shape:\", gradients.shape)\n",
        "    gradient_penalty = ((gradients.norm(2, dim=1) - 1) ** 2).mean()\n",
        "    return gradient_penalty\n",
        "\n",
        "  def forward(self, z):\n",
        "    return self.generator(z)\n",
        " \n",
        "\n",
        "  def test_step(self, batch, batch_idx): # Use for Exploring the latent space \n",
        "    imgs, _ = batch\n",
        "    pass\n",
        "\n",
        "  def validation_step(self, batch, batch_idx):\n",
        "    imgs, _ = batch\n",
        "\n",
        "    imgs = imgs.to(device)\n",
        "\n",
        "    z = torch.randn(imgs.shape[0], self.hparams.latent_dim, 1, 1) # N x Z_d x 1 x 1\n",
        "    z = z.type_as(imgs).to(device)\n",
        "\n",
        "    fake_imgs = self.generator(z)\n",
        "    g_loss = -1.0 * self.discriminator(fake_imgs).mean(0)\n",
        "\n",
        "    d_loss_real = -1.0 * self.discriminator(imgs).mean(0) # move towards -inf\n",
        "    d_loss_fake = self.discriminator(self.generator(z)).mean(0) # move towards -inf\n",
        "    \n",
        "    gp_term = 10. * self.compute_gradient_penalty(imgs, fake_imgs)\n",
        "    if self.isGP:\n",
        "      d_loss = gp_term\n",
        "    else:\n",
        "      d_loss = 0\n",
        "\n",
        "    d_loss += (d_loss_fake + d_loss_real) / 2.\n",
        "\n",
        "    print(fake_imgs.shape)\n",
        "    fid = calculate_fretchet(imgs, fake_imgs, model_inc)\n",
        "\n",
        "    self.log_dict({\"val_g_loss\": g_loss, \"val_d_loss\": d_loss, \"FID\": fid}, \n",
        "                  on_step=True, \n",
        "                  on_epoch=True, \n",
        "                  prog_bar=True, \n",
        "                  logger=True)\n",
        "\n",
        "  def training_step(self, batch, batch_idx):\n",
        "    imgs, _ = batch\n",
        "    # print(f\"{batch_idx}:: imgs.shape =\",imgs.shape)\n",
        "    opt_g, opt_d = self.optimizers()\n",
        "\n",
        "    z = torch.randn(imgs.shape[0], self.hparams.latent_dim, 1, 1) # N x Z_d x 1 x 1\n",
        "    z = z.type_as(imgs)\n",
        "\n",
        "    # print(f\"Disc out shape:\", self.discriminator(self(z)).shape)\n",
        "\n",
        "    # Train G:\n",
        "    self.toggle_optimizer(opt_g)\n",
        "    \n",
        "    # Generator loss:\n",
        "    fake_imgs = self.generator(z)\n",
        "    # print(f\"Gen out: {fake_imgs.shape}\")\n",
        "    # print(f\"Disc out: {self.discriminator(fake_imgs).mean(0).shape}\")\n",
        "    g_loss = -1.0 * self.discriminator(fake_imgs).mean(0) # minus to minimize g_loss:: ideal out per example: -inf\n",
        "\n",
        "    # Grad step:\n",
        "    self.manual_backward(g_loss)\n",
        "    opt_g.step()\n",
        "    opt_g.zero_grad()\n",
        "\n",
        "        \n",
        "    self.untoggle_optimizer(opt_g)\n",
        "\n",
        "    # Train Discriminator\n",
        "    self.toggle_optimizer(opt_d)\n",
        "\n",
        "    for i in range(self.hparams.disc_steps): # 5 (from WGAN paper)\n",
        "      # Discriminator loss:\n",
        "      d_loss_real = -1.0 * self.discriminator(imgs).mean(0).item() # move towards -inf\n",
        "      d_loss_fake = self.discriminator(self.generator(z)).mean(0).item() # move towards -inf\n",
        "\n",
        "      # Lambda_gp = 10.0\n",
        "      gp_term = 10. * self.compute_gradient_penalty(imgs, self.generator(z)[:, None, :, :])\n",
        "      if self.isGP:\n",
        "        d_loss = gp_term\n",
        "      else:\n",
        "        d_loss = 0\n",
        "\n",
        "      d_loss += (d_loss_fake + d_loss_real) / 2.\n",
        "\n",
        "      # self.log(\"d_loss\", d_loss, prog_bar=True)\n",
        "      self.manual_backward(d_loss)\n",
        "      opt_d.step()\n",
        "\n",
        "      if not self.isGP:\n",
        "        for weight in self.discriminator.parameters():\n",
        "          weight.data.clamp_(-self.weight_cliping_limit, self.weight_cliping_limit)\n",
        "\n",
        "      opt_d.zero_grad()\n",
        "    \n",
        "\n",
        "    self.untoggle_optimizer(opt_d)\n",
        "    # print(fake_imgs[0].shape)\n",
        "    \n",
        "    self.logger.experiment.log({\"Gen_Image_1 (during training)\":[wandb.Image(fake_imgs[0].cpu(), caption=\"Gen Out\")]})\n",
        "\n",
        "    self.log_dict({\"g_loss\": g_loss, \"d_loss\": d_loss}, \n",
        "                  on_step=True, \n",
        "                  on_epoch=True, \n",
        "                  prog_bar=True, \n",
        "                  logger=True)\n"
      ],
      "metadata": {
        "id": "qoZf73jnJb02"
      },
      "execution_count": 204,
      "outputs": []
    },
    {
      "cell_type": "code",
      "source": [
        "wgan = LIT_WGAN(\n",
        "      discriminator_model = Discriminator(CONFIG['IMG_SIZE']), \n",
        "      generator_model = Generator(CONFIG['IMG_SIZE']), \n",
        "      latent_dim = CONFIG['nz'],\n",
        "      lr=CONFIG['lr'],\n",
        "      clipping_c = CONFIG['clipping_c'],\n",
        "      disc_steps=CONFIG['disc_steps'],\n",
        "      isGP=True\n",
        "    )\n",
        "\n",
        "summary = ModelSummary(wgan, max_depth=-1)\n",
        "print(summary)"
      ],
      "metadata": {
        "colab": {
          "base_uri": "https://localhost:8080/"
        },
        "id": "x4MdtV6pS5Q7",
        "outputId": "2fdc6fe3-071b-4614-e4b6-5a6893d40756"
      },
      "execution_count": 205,
      "outputs": [
        {
          "output_type": "stream",
          "name": "stdout",
          "text": [
            "   | Name                  | Type          | Params\n",
            "---------------------------------------------------------\n",
            "0  | discriminator         | Discriminator | 566 K \n",
            "1  | discriminator.model   | Sequential    | 566 K \n",
            "2  | discriminator.model.0 | Linear        | 401 K \n",
            "3  | discriminator.model.1 | ReLU          | 0     \n",
            "4  | discriminator.model.2 | Linear        | 131 K \n",
            "5  | discriminator.model.3 | ReLU          | 0     \n",
            "6  | discriminator.model.4 | Linear        | 32.9 K\n",
            "7  | discriminator.model.5 | ReLU          | 0     \n",
            "8  | discriminator.model.6 | Linear        | 129   \n",
            "9  | generator             | Generator     | 579 K \n",
            "10 | generator.model       | Sequential    | 579 K \n",
            "11 | generator.model.0     | Flatten       | 0     \n",
            "12 | generator.model.1     | Linear        | 12.9 K\n",
            "13 | generator.model.2     | ReLU          | 0     \n",
            "14 | generator.model.3     | Linear        | 33.0 K\n",
            "15 | generator.model.4     | ReLU          | 0     \n",
            "16 | generator.model.5     | Linear        | 131 K \n",
            "17 | generator.model.6     | ReLU          | 0     \n",
            "18 | generator.model.7     | Linear        | 402 K \n",
            "19 | generator.model.8     | Sigmoid       | 0     \n",
            "---------------------------------------------------------\n",
            "1.1 M     Trainable params\n",
            "0         Non-trainable params\n",
            "1.1 M     Total params\n",
            "4.584     Total estimated model params size (MB)\n"
          ]
        },
        {
          "output_type": "stream",
          "name": "stderr",
          "text": [
            "/usr/local/lib/python3.10/dist-packages/lightning/pytorch/utilities/parsing.py:197: UserWarning: Attribute 'discriminator_model' is an instance of `nn.Module` and is already saved during checkpointing. It is recommended to ignore them using `self.save_hyperparameters(ignore=['discriminator_model'])`.\n",
            "  rank_zero_warn(\n",
            "/usr/local/lib/python3.10/dist-packages/lightning/pytorch/utilities/parsing.py:197: UserWarning: Attribute 'generator_model' is an instance of `nn.Module` and is already saved during checkpointing. It is recommended to ignore them using `self.save_hyperparameters(ignore=['generator_model'])`.\n",
            "  rank_zero_warn(\n"
          ]
        }
      ]
    },
    {
      "cell_type": "markdown",
      "source": [
        "## Logger: Proj, Run ... Names"
      ],
      "metadata": {
        "id": "UBs1k1UcTEHR"
      }
    },
    {
      "cell_type": "code",
      "source": [
        "wandb_logger = WandbLogger(project='M2-WGAN', \n",
        "                           name='exp-gp-2_blur',\n",
        "                           config=CONFIG,\n",
        "                           job_type='train',\n",
        "                           log_model=\"all\")\n",
        "\n",
        "# wandb_logger = WandbLogger(project='M2-WGAN', \n",
        "#                            name='exp-gp-3_flip_and_blur',\n",
        "#                            config=CONFIG,\n",
        "#                            job_type='train',\n",
        "#                            log_model=\"all\")\n",
        "\n",
        "# wandb_logger = WandbLogger(project='M2-WGAN', \n",
        "#                            name='exp-gp-4_all_augs',\n",
        "#                            config=CONFIG,\n",
        "#                            job_type='train',\n",
        "#                            log_model=\"all\")"
      ],
      "metadata": {
        "colab": {
          "base_uri": "https://localhost:8080/",
          "height": 104
        },
        "id": "kcyCL6snTG7T",
        "outputId": "06151bd9-32d0-40db-cef2-bf92daab104e"
      },
      "execution_count": 206,
      "outputs": [
        {
          "output_type": "display_data",
          "data": {
            "text/plain": [
              "<IPython.core.display.HTML object>"
            ],
            "text/html": [
              "Tracking run with wandb version 0.15.3"
            ]
          },
          "metadata": {}
        },
        {
          "output_type": "display_data",
          "data": {
            "text/plain": [
              "<IPython.core.display.HTML object>"
            ],
            "text/html": [
              "Run data is saved locally in <code>./wandb/run-20230521_060102-es2amq9k</code>"
            ]
          },
          "metadata": {}
        },
        {
          "output_type": "display_data",
          "data": {
            "text/plain": [
              "<IPython.core.display.HTML object>"
            ],
            "text/html": [
              "Syncing run <strong><a href='https://wandb.ai/aryangarg019/M2-WGAN/runs/es2amq9k' target=\"_blank\">exp-gp-1_no_augs</a></strong> to <a href='https://wandb.ai/aryangarg019/M2-WGAN' target=\"_blank\">Weights & Biases</a> (<a href='https://wandb.me/run' target=\"_blank\">docs</a>)<br/>"
            ]
          },
          "metadata": {}
        },
        {
          "output_type": "display_data",
          "data": {
            "text/plain": [
              "<IPython.core.display.HTML object>"
            ],
            "text/html": [
              " View project at <a href='https://wandb.ai/aryangarg019/M2-WGAN' target=\"_blank\">https://wandb.ai/aryangarg019/M2-WGAN</a>"
            ]
          },
          "metadata": {}
        },
        {
          "output_type": "display_data",
          "data": {
            "text/plain": [
              "<IPython.core.display.HTML object>"
            ],
            "text/html": [
              " View run at <a href='https://wandb.ai/aryangarg019/M2-WGAN/runs/es2amq9k' target=\"_blank\">https://wandb.ai/aryangarg019/M2-WGAN/runs/es2amq9k</a>"
            ]
          },
          "metadata": {}
        }
      ]
    },
    {
      "cell_type": "markdown",
      "source": [
        "## Trainer Callbacks"
      ],
      "metadata": {
        "id": "mt04CG7LTA7K"
      }
    },
    {
      "cell_type": "code",
      "source": [
        "from pytorch_lightning import Callback\n",
        "from lightning.pytorch.callbacks import DeviceStatsMonitor, TQDMProgressBar, ModelCheckpoint, EarlyStopping, LearningRateMonitor\n",
        "\n",
        "# Checkpoint\n",
        "checkpoint_callback = ModelCheckpoint(dirpath=CONFIG['checkpoint_path'],\n",
        "                                      filename='{epoch}-{g_loss:.3f}',\n",
        "                                      monitor='g_loss',\n",
        "                                      save_top_k=-1,\n",
        "                                      save_last=True,\n",
        "                                      save_weights_only=True,\n",
        "                                      verbose=True,\n",
        "                                      mode='min')\n",
        "\n",
        "# Exp2: Learning Rate Monitor\n",
        "lr_monitor = LearningRateMonitor(logging_interval='step', log_momentum=False)\n",
        "\n",
        "# Earlystopping\n",
        "# earlystopping = EarlyStopping(monitor='val_d_acc', patience=3, mode='min')"
      ],
      "metadata": {
        "id": "IMhsymGETCPd"
      },
      "execution_count": 207,
      "outputs": []
    },
    {
      "cell_type": "markdown",
      "source": [
        "## Trainer"
      ],
      "metadata": {
        "id": "PafBi2NoTPh6"
      }
    },
    {
      "cell_type": "code",
      "source": [
        "trainer = pl.Trainer(fast_dev_run=False,    # For debugging purposes\n",
        "                     log_every_n_steps=1,   # set the logging frequency\n",
        "                     accelerator='auto',    # Precedence: tpu > gpu >> cpu\n",
        "                     devices=\"auto\",        # all\n",
        "                     max_epochs= 5,         # CONFIG['NUM_EPOCHS'],\n",
        "                     callbacks=[TQDMProgressBar(refresh_rate=25), \n",
        "                                checkpoint_callback, \n",
        "                                lr_monitor],\n",
        "                     logger=wandb_logger,    # wandb <3\n",
        "                     )"
      ],
      "metadata": {
        "colab": {
          "base_uri": "https://localhost:8080/"
        },
        "id": "gPteL0AuTO7p",
        "outputId": "4c5141d4-c2ba-45fd-823c-2ee3a48713ad"
      },
      "execution_count": 208,
      "outputs": [
        {
          "output_type": "stream",
          "name": "stderr",
          "text": [
            "INFO: GPU available: True (cuda), used: True\n",
            "INFO:lightning.pytorch.utilities.rank_zero:GPU available: True (cuda), used: True\n",
            "INFO: TPU available: False, using: 0 TPU cores\n",
            "INFO:lightning.pytorch.utilities.rank_zero:TPU available: False, using: 0 TPU cores\n",
            "INFO: IPU available: False, using: 0 IPUs\n",
            "INFO:lightning.pytorch.utilities.rank_zero:IPU available: False, using: 0 IPUs\n",
            "INFO: HPU available: False, using: 0 HPUs\n",
            "INFO:lightning.pytorch.utilities.rank_zero:HPU available: False, using: 0 HPUs\n"
          ]
        }
      ]
    },
    {
      "cell_type": "markdown",
      "source": [
        "## Training"
      ],
      "metadata": {
        "id": "lL4nBV6eTXua"
      }
    },
    {
      "cell_type": "code",
      "source": [
        "trainer.fit(wgan, train_dataloader)"
      ],
      "metadata": {
        "colab": {
          "base_uri": "https://localhost:8080/",
          "height": 565,
          "referenced_widgets": [
            "8c791224974d4e7b85ac173c77c38f07",
            "d7656f9728404a429d37f00e6b086daa",
            "6c7b493e5017482db645b1be07f9b067",
            "c03a63f1287a43b3913cd5d575a81b88",
            "a3e54ca7a5f040ec9d9b1d6279b23eca",
            "854ea0ab6cca4be6954fdb708dc72d31",
            "3a7e361a16e64bcab2feba934b65598e",
            "e68cf24c149c4312bb3182129fa193d8",
            "5f3754ac6afb45d395bbb1ffb7fcb10d",
            "4f5dfc0839144c1bb12fa1ae937b37b1",
            "a314f70cf9eb438fb82486b1f6ec32d4"
          ]
        },
        "id": "K1_kqDmpTSGC",
        "outputId": "ee144623-dc4f-4a29-d1ea-04683fe63965"
      },
      "execution_count": null,
      "outputs": [
        {
          "output_type": "stream",
          "name": "stderr",
          "text": [
            "/usr/local/lib/python3.10/dist-packages/lightning/pytorch/trainer/configuration_validator.py:72: PossibleUserWarning: You defined a `validation_step` but have no `val_dataloader`. Skipping val loop.\n",
            "  rank_zero_warn(\n",
            "/usr/local/lib/python3.10/dist-packages/lightning/pytorch/callbacks/model_checkpoint.py:612: UserWarning: Checkpoint directory /content/checkpoints exists and is not empty.\n",
            "  rank_zero_warn(f\"Checkpoint directory {dirpath} exists and is not empty.\")\n",
            "INFO: LOCAL_RANK: 0 - CUDA_VISIBLE_DEVICES: [0]\n",
            "INFO:lightning.pytorch.accelerators.cuda:LOCAL_RANK: 0 - CUDA_VISIBLE_DEVICES: [0]\n",
            "INFO: \n",
            "  | Name          | Type          | Params\n",
            "------------------------------------------------\n",
            "0 | discriminator | Discriminator | 566 K \n",
            "1 | generator     | Generator     | 579 K \n",
            "------------------------------------------------\n",
            "1.1 M     Trainable params\n",
            "0         Non-trainable params\n",
            "1.1 M     Total params\n",
            "4.584     Total estimated model params size (MB)\n",
            "INFO:lightning.pytorch.callbacks.model_summary:\n",
            "  | Name          | Type          | Params\n",
            "------------------------------------------------\n",
            "0 | discriminator | Discriminator | 566 K \n",
            "1 | generator     | Generator     | 579 K \n",
            "------------------------------------------------\n",
            "1.1 M     Trainable params\n",
            "0         Non-trainable params\n",
            "1.1 M     Total params\n",
            "4.584     Total estimated model params size (MB)\n"
          ]
        },
        {
          "output_type": "display_data",
          "data": {
            "text/plain": [
              "Training: 0it [00:00, ?it/s]"
            ],
            "application/vnd.jupyter.widget-view+json": {
              "version_major": 2,
              "version_minor": 0,
              "model_id": "8c791224974d4e7b85ac173c77c38f07"
            }
          },
          "metadata": {}
        },
        {
          "output_type": "stream",
          "name": "stderr",
          "text": [
            "INFO: Epoch 0, global step 5628: 'g_loss' reached -6.57098 (best -6.57098), saving model to '/content/checkpoints/epoch=0-g_loss=-6.571.ckpt' as top 1\n",
            "INFO:lightning.pytorch.utilities.rank_zero:Epoch 0, global step 5628: 'g_loss' reached -6.57098 (best -6.57098), saving model to '/content/checkpoints/epoch=0-g_loss=-6.571.ckpt' as top 1\n"
          ]
        }
      ]
    },
    {
      "cell_type": "markdown",
      "source": [
        "## Call Finish on Exp logger"
      ],
      "metadata": {
        "id": "aEHG4cjBgIMO"
      }
    },
    {
      "cell_type": "code",
      "source": [
        "wandb.finish()"
      ],
      "metadata": {
        "id": "9_3-dK_FgF2m"
      },
      "execution_count": null,
      "outputs": []
    },
    {
      "cell_type": "code",
      "source": [],
      "metadata": {
        "id": "eqiT4jWm4Fyw"
      },
      "execution_count": null,
      "outputs": []
    }
  ]
}