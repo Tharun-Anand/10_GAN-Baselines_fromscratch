{
  "cells": [
    {
      "cell_type": "markdown",
      "metadata": {
        "id": "i9JhNnBfzpEJ"
      },
      "source": [
        "# Generative Adversarial Networks   (Vanilla)\n",
        "\n",
        "> Goodfellow I, Pouget-Abadie J, Mirza M, Xu B, Warde-Farley D, Ozair S, Courville A, Bengio Yoshua"
      ]
    },
    {
      "cell_type": "markdown",
      "metadata": {
        "id": "mclVncJozwdO"
      },
      "source": [
        "## 0A. Imports"
      ]
    },
    {
      "cell_type": "markdown",
      "metadata": {
        "id": "XDL0iXQdWR8t"
      },
      "source": [
        "#### **!! INTERACTIVE CELL !!**\n",
        "##### wandb Logger: Needs login key!"
      ]
    },
    {
      "cell_type": "code",
      "execution_count": 90,
      "metadata": {
        "colab": {
          "base_uri": "https://localhost:8080/"
        },
        "id": "CwWugcl83qQO",
        "outputId": "7efcd176-1de2-4440-ac44-bc07a5417294"
      },
      "outputs": [
        {
          "output_type": "execute_result",
          "data": {
            "text/plain": [
              "True"
            ]
          },
          "metadata": {},
          "execution_count": 90
        }
      ],
      "source": [
        "!pip -qqq install wandb pytorch-lightning torchmetrics\n",
        "\n",
        "import wandb\n",
        "from pytorch_lightning.loggers import WandbLogger\n",
        "\n",
        "wandb.login()\n",
        "\n",
        "# API Key:\n",
        "# d926baa25b6a14ffa4e5c30a6f3bbffbeca8fcf1"
      ]
    },
    {
      "cell_type": "code",
      "execution_count": null,
      "metadata": {
        "colab": {
          "base_uri": "https://localhost:8080/"
        },
        "id": "59JTWnjGwGKF",
        "outputId": "f3aef1cd-7fdc-4872-f1ac-9ade2a33a6e1"
      },
      "outputs": [
        {
          "name": "stdout",
          "output_type": "stream",
          "text": [
            "\u001b[34m\u001b[1mwandb\u001b[0m: Logging into wandb.ai. (Learn how to deploy a W&B server locally: https://wandb.me/wandb-server)\n",
            "\u001b[34m\u001b[1mwandb\u001b[0m: You can find your API key in your browser here: https://wandb.ai/authorize\n",
            "\u001b[34m\u001b[1mwandb\u001b[0m: Paste an API key from your profile and hit enter, or press ctrl+c to quit: \n",
            "\u001b[34m\u001b[1mwandb\u001b[0m: Appending key for api.wandb.ai to your netrc file: /root/.netrc\n"
          ]
        }
      ],
      "source": [
        "# Use in case wandb fails\n",
        "!wandb login --relogin"
      ]
    },
    {
      "cell_type": "markdown",
      "metadata": {
        "id": "70laTPYSWAyz"
      },
      "source": [
        "#### Pytorch-Lightning (Don't open... very large installation output)"
      ]
    },
    {
      "cell_type": "code",
      "execution_count": 91,
      "metadata": {
        "id": "282MBcMo1xEw"
      },
      "outputs": [],
      "source": [
        "try:\n",
        "  import lightning.pytorch as pl\n",
        "except:\n",
        "  print(\"[!] Couldn't find pytorch-lightning.\\nInstalling it...\\n\")\n",
        "  !pip install lightning > /dev/null\n",
        "  import lightning.pytorch as pl"
      ]
    },
    {
      "cell_type": "code",
      "execution_count": 92,
      "metadata": {
        "id": "AYATUpp6axqg"
      },
      "outputs": [],
      "source": [
        "from lightning.pytorch.utilities.model_summary import ModelSummary"
      ]
    },
    {
      "cell_type": "markdown",
      "metadata": {
        "id": "mPp7Mq23WKU1"
      },
      "source": [
        "#### Standard imports"
      ]
    },
    {
      "cell_type": "code",
      "execution_count": 93,
      "metadata": {
        "id": "bSN1aR7uzvjR"
      },
      "outputs": [],
      "source": [
        "import os\n",
        "import shutil\n",
        "import pathlib\n",
        "\n",
        "import numpy as np\n",
        "import cv2 as cv\n",
        "import random\n",
        "import matplotlib.pyplot as plt\n",
        "from tqdm.auto import tqdm\n",
        "\n",
        "import torch\n",
        "import torch.nn as nn\n",
        "import torch.nn.functional as F\n",
        "from torch import optim\n",
        "\n",
        "from torch.utils.data import DataLoader, random_split\n",
        "from torch.utils.data import Dataset\n",
        "\n",
        "import torchvision\n",
        "from torchvision import datasets\n",
        "\n",
        "try:\n",
        "    from torchinfo import summary\n",
        "except:\n",
        "    print(\"[!] Couldn't find torchinfo... installing it.\")\n",
        "    !pip install -q torchinfo\n",
        "    from torchinfo import summary"
      ]
    },
    {
      "cell_type": "code",
      "execution_count": 94,
      "metadata": {
        "id": "9sfm-IiAwxGM"
      },
      "outputs": [],
      "source": [
        "import torchvision.transforms as T\n",
        "from torchvision.transforms import Compose, ToTensor"
      ]
    },
    {
      "cell_type": "markdown",
      "metadata": {
        "id": "k6m7pD-mWORV"
      },
      "source": [
        "#### Albumentations "
      ]
    },
    {
      "cell_type": "code",
      "execution_count": 95,
      "metadata": {
        "id": "CCWwCEfsxy01"
      },
      "outputs": [],
      "source": [
        "try:\n",
        "  import albumentations as A\n",
        "  from albumentations.pytorch import ToTensorV2\n",
        "except:\n",
        "  print(\"[!] Couldn't find albumentations... installing it.\")\n",
        "  !pip install -U albumentations\n",
        "  import albumentations as A\n",
        "  from albumentations.pytorch import ToTensorV2"
      ]
    },
    {
      "cell_type": "code",
      "execution_count": 96,
      "metadata": {
        "id": "AEfrB45J2cEP"
      },
      "outputs": [],
      "source": [
        "from pytorch_lightning import seed_everything"
      ]
    },
    {
      "cell_type": "markdown",
      "metadata": {
        "id": "YUJLDsz7tCGY"
      },
      "source": [
        "#### Seeds (lightning)"
      ]
    },
    {
      "cell_type": "code",
      "execution_count": 97,
      "metadata": {
        "colab": {
          "base_uri": "https://localhost:8080/"
        },
        "id": "VOWMTsBgsPBJ",
        "outputId": "1faa0c21-c4ee-4017-d047-c9f4b9e008f0"
      },
      "outputs": [
        {
          "output_type": "stream",
          "name": "stderr",
          "text": [
            "INFO:lightning_fabric.utilities.seed:Global seed set to 42\n"
          ]
        },
        {
          "output_type": "execute_result",
          "data": {
            "text/plain": [
              "42"
            ]
          },
          "metadata": {},
          "execution_count": 97
        }
      ],
      "source": [
        "seed_everything(42)"
      ]
    },
    {
      "cell_type": "markdown",
      "metadata": {
        "id": "tMu80kTTPpE2"
      },
      "source": [
        "#### Device set up: "
      ]
    },
    {
      "cell_type": "code",
      "execution_count": 98,
      "metadata": {
        "colab": {
          "base_uri": "https://localhost:8080/"
        },
        "id": "8f7lkMrEPSbp",
        "outputId": "07081fa7-1305-48ff-b390-f6752daada02"
      },
      "outputs": [
        {
          "output_type": "execute_result",
          "data": {
            "text/plain": [
              "device(type='cuda')"
            ]
          },
          "metadata": {},
          "execution_count": 98
        }
      ],
      "source": [
        "# device = torch.device('cpu')\n",
        "if torch.cuda.is_available():\n",
        "  device = torch.device('cuda')\n",
        "else:\n",
        "  device = torch.device('cpu')\n",
        "\n",
        "device"
      ]
    },
    {
      "cell_type": "markdown",
      "metadata": {
        "id": "S3WZTglnYhFb"
      },
      "source": [
        "## 0B. Utilities"
      ]
    },
    {
      "cell_type": "code",
      "execution_count": 99,
      "metadata": {
        "id": "WEiHdJXQYjm8"
      },
      "outputs": [],
      "source": [
        "# Folder Utilities ----------------------------\n",
        "\n",
        "## Create dir if it doesn't exist\n",
        "def create_dir(dir_name):\n",
        "  if not os.path.exists(f'/content/{dir_name}'):\n",
        "    os.mkdir(f'/content/{dir_name}')\n",
        "\n",
        "## Delete dir: checkpoints\n",
        "def delete_dir(dir_name):\n",
        "  if os.path.isdir(f'/content/{dir_name}'):\n",
        "    shutil.rmtree(f'/content/{dir_name}')\n",
        "\n",
        "# ---------------------------------------------"
      ]
    },
    {
      "cell_type": "markdown",
      "metadata": {
        "id": "9jU2TbElH8LF"
      },
      "source": [
        "## 1. Transforms & Datasets \n",
        "\n",
        "Dataset-1: FashionMNIST\n",
        "\n",
        "#### TODO: Play around with the transforms as experiments - Report"
      ]
    },
    {
      "cell_type": "markdown",
      "metadata": {
        "id": "W1p_F21CWjB0"
      },
      "source": [
        "### Transforms"
      ]
    },
    {
      "cell_type": "code",
      "execution_count": 154,
      "metadata": {
        "id": "lRUsBJJPwe6H"
      },
      "outputs": [],
      "source": [
        "train_transform = Compose(\n",
        "    [\n",
        "        # T.RandomAffine(degrees=15, translate=(0.1,0.1), scale=(0.8,1.2)), # 1\n",
        "        # T.RandomHorizontalFlip(p=0.5), # 2\n",
        "        # T.GaussianBlur(kernel_size=3), # 3\n",
        "        ToTensor(),\n",
        "    ]\n",
        ")"
      ]
    },
    {
      "cell_type": "code",
      "execution_count": 155,
      "metadata": {
        "id": "QNwmgSfZykx7"
      },
      "outputs": [],
      "source": [
        "test_transform = Compose([ToTensor()])"
      ]
    },
    {
      "cell_type": "markdown",
      "metadata": {
        "id": "c766HVUCWn5P"
      },
      "source": [
        "### Dataset Download & Transformation"
      ]
    },
    {
      "cell_type": "code",
      "execution_count": 156,
      "metadata": {
        "id": "6bIPN93lH6_u"
      },
      "outputs": [],
      "source": [
        "train_fashion = datasets.FashionMNIST(\n",
        "    root=\"data\",\n",
        "    train=True,\n",
        "    download=True,\n",
        "    transform=train_transform,\n",
        "    target_transform=None\n",
        ")\n",
        "\n",
        "train_fashion, val_fashion = random_split(train_fashion, [55000, 5000])\n",
        "\n",
        "test_fashion = datasets.FashionMNIST(\n",
        "    root=\"data\",\n",
        "    train=False,\n",
        "    download=True,\n",
        "    transform=ToTensor(),\n",
        "    target_transform=None\n",
        ")"
      ]
    },
    {
      "cell_type": "code",
      "execution_count": 157,
      "metadata": {
        "colab": {
          "base_uri": "https://localhost:8080/"
        },
        "id": "bYKpiulzuxzt",
        "outputId": "75520613-4c75-4ef3-ea68-8bc27bdfa57f"
      },
      "outputs": [
        {
          "output_type": "stream",
          "name": "stdout",
          "text": [
            "Train samples: 55000 | Test samples: 10000 | Val samples: 5000\n"
          ]
        }
      ],
      "source": [
        "print(\"Train samples:\", len(train_fashion), \"| Test samples:\" , len(test_fashion), \"| Val samples:\", len(val_fashion))"
      ]
    },
    {
      "cell_type": "markdown",
      "metadata": {
        "id": "Ktux79DeWsM7"
      },
      "source": [
        "### Sanity Visualization"
      ]
    },
    {
      "cell_type": "code",
      "execution_count": 158,
      "metadata": {
        "colab": {
          "base_uri": "https://localhost:8080/",
          "height": 675
        },
        "id": "_296_bCJtqk0",
        "outputId": "9838fafe-7310-4275-fb7e-ebd1ce52ba07"
      },
      "outputs": [
        {
          "output_type": "display_data",
          "data": {
            "text/plain": [
              "<Figure size 800x800 with 9 Axes>"
            ],
            "image/png": "[encoded data removed]"
          },
          "metadata": {}
        }
      ],
      "source": [
        "labels_map = {i: x for i,x in enumerate(test_fashion.classes)}\n",
        "\n",
        "figure = plt.figure(figsize=(8, 8))\n",
        "cols, rows = 3, 3\n",
        "for i in range(1, cols * rows + 1):\n",
        "    sample_idx = torch.randint(len(train_fashion), size=(1,)).item()\n",
        "    img, label = train_fashion[sample_idx]\n",
        "    figure.add_subplot(rows, cols, i)\n",
        "    plt.title(labels_map[label])\n",
        "    plt.axis(\"off\")\n",
        "    plt.imshow(img.squeeze(), cmap=\"gray\")\n",
        "plt.show()"
      ]
    },
    {
      "cell_type": "markdown",
      "metadata": {
        "id": "2m_YBkbbuEkX"
      },
      "source": [
        "## 2. Dataloader:   \n",
        "\n",
        "Params:   \n",
        "> BS: *32* , Shuffle = *True*"
      ]
    },
    {
      "cell_type": "code",
      "execution_count": 159,
      "metadata": {
        "id": "8FTiz0WluGD4"
      },
      "outputs": [],
      "source": [
        "train_dataloader = DataLoader(train_fashion, batch_size=32, shuffle=True)\n",
        "val_dataloader = DataLoader(val_fashion, batch_size=32, shuffle=True)\n",
        "test_dataloader = DataLoader(test_fashion, batch_size=32, shuffle=True)"
      ]
    },
    {
      "cell_type": "markdown",
      "metadata": {
        "id": "W0WdA-ARICA2"
      },
      "source": [
        "## 3. Model Architecture"
      ]
    },
    {
      "cell_type": "markdown",
      "metadata": {
        "id": "-bAehmW9S13o"
      },
      "source": [
        "### Discriminator:"
      ]
    },
    {
      "cell_type": "code",
      "execution_count": 160,
      "metadata": {
        "id": "iQ5wJXrvIEDT"
      },
      "outputs": [],
      "source": [
        "class Discriminator(nn.Module):\n",
        "  def __init__(self, img_shape):\n",
        "    super().__init__()\n",
        "\n",
        "    self.model = nn.Sequential(\n",
        "        nn.Linear(int(np.prod(img_shape)), 512),\n",
        "        nn.ReLU(inplace=True),\n",
        "        nn.Linear(512, 256),\n",
        "        nn.ReLU(inplace=True),\n",
        "        nn.Linear(256, 128),\n",
        "        nn.ReLU(inplace=True),   \n",
        "        nn.Linear(128,1),\n",
        "        nn.Sigmoid() \n",
        "    )\n",
        "  \n",
        "  def forward(self, x):\n",
        "    x = x.view(x.size(0), -1)\n",
        "    real_or_fake = self.model(x)\n",
        "    return real_or_fake"
      ]
    },
    {
      "cell_type": "markdown",
      "metadata": {
        "id": "p6x-eynoS3rX"
      },
      "source": [
        "### Generator:"
      ]
    },
    {
      "cell_type": "code",
      "execution_count": 161,
      "metadata": {
        "id": "U2lL4usaS6d_"
      },
      "outputs": [],
      "source": [
        "class Generator(nn.Module):\n",
        "  def __init__(self, img_shape, latent_dim: int = 100):\n",
        "    super().__init__()\n",
        "\n",
        "    self.img_shape = img_shape\n",
        "\n",
        "    # Paper says nothing about batchNorm?\n",
        "    self.model = nn.Sequential(\n",
        "        nn.Linear(latent_dim, 128),\n",
        "        nn.ReLU(inplace=True),\n",
        "        nn.Linear(128, 256),\n",
        "        nn.ReLU(inplace=True),\n",
        "        nn.Linear(256, 512),\n",
        "        nn.ReLU(inplace=True),\n",
        "        nn.Linear(512, 784),\n",
        "        nn.Sigmoid()          # Implementation detail: As per paper\n",
        "    )\n",
        "  \n",
        "  def forward(self, z):\n",
        "    img = self.model(z)\n",
        "    img = img.view(img.size(0), *self.img_shape)\n",
        "    return img"
      ]
    },
    {
      "cell_type": "markdown",
      "metadata": {
        "id": "prAOWe8GIEzT"
      },
      "source": [
        "## 4. Frechet Inception Distance"
      ]
    },
    {
      "cell_type": "code",
      "execution_count": 162,
      "metadata": {
        "id": "088IpVw3CnrS"
      },
      "outputs": [],
      "source": [
        "class InceptionV3(nn.Module):\n",
        "    \"\"\"Pretrained InceptionV3 network returning feature maps\"\"\"\n",
        "\n",
        "    # Index of default block of inception to return,\n",
        "    # corresponds to output of final average pooling\n",
        "    DEFAULT_BLOCK_INDEX = 3\n",
        "\n",
        "    # Maps feature dimensionality to their output blocks indices\n",
        "    BLOCK_INDEX_BY_DIM = {\n",
        "        64: 0,   # First max pooling features\n",
        "        192: 1,  # Second max pooling featurs\n",
        "        768: 2,  # Pre-aux classifier features\n",
        "        2048: 3  # Final average pooling features\n",
        "    }\n",
        "\n",
        "    def __init__(self,\n",
        "                 output_blocks=[DEFAULT_BLOCK_INDEX],\n",
        "                 resize_input=True,\n",
        "                 normalize_input=True,\n",
        "                 requires_grad=False):\n",
        "        \n",
        "        super(InceptionV3, self).__init__()\n",
        "\n",
        "        self.resize_input = resize_input\n",
        "        self.normalize_input = normalize_input\n",
        "        self.output_blocks = sorted(output_blocks)\n",
        "        self.last_needed_block = max(output_blocks)\n",
        "\n",
        "        assert self.last_needed_block <= 3, \\\n",
        "            'Last possible output block index is 3'\n",
        "\n",
        "        self.blocks = nn.ModuleList()\n",
        "\n",
        "        \n",
        "        inception = torchvision.models.inception_v3(pretrained=True)\n",
        "\n",
        "        # Block 0: input to maxpool1\n",
        "        block0 = [\n",
        "            inception.Conv2d_1a_3x3,\n",
        "            inception.Conv2d_2a_3x3,\n",
        "            inception.Conv2d_2b_3x3,\n",
        "            nn.MaxPool2d(kernel_size=3, stride=2)\n",
        "        ]\n",
        "        self.blocks.append(nn.Sequential(*block0))\n",
        "\n",
        "        # Block 1: maxpool1 to maxpool2\n",
        "        if self.last_needed_block >= 1:\n",
        "            block1 = [\n",
        "                inception.Conv2d_3b_1x1,\n",
        "                inception.Conv2d_4a_3x3,\n",
        "                nn.MaxPool2d(kernel_size=3, stride=2)\n",
        "            ]\n",
        "            self.blocks.append(nn.Sequential(*block1))\n",
        "\n",
        "        # Block 2: maxpool2 to aux classifier\n",
        "        if self.last_needed_block >= 2:\n",
        "            block2 = [\n",
        "                inception.Mixed_5b,\n",
        "                inception.Mixed_5c,\n",
        "                inception.Mixed_5d,\n",
        "                inception.Mixed_6a,\n",
        "                inception.Mixed_6b,\n",
        "                inception.Mixed_6c,\n",
        "                inception.Mixed_6d,\n",
        "                inception.Mixed_6e,\n",
        "            ]\n",
        "            self.blocks.append(nn.Sequential(*block2))\n",
        "\n",
        "        # Block 3: aux classifier to final avgpool\n",
        "        if self.last_needed_block >= 3:\n",
        "            block3 = [\n",
        "                inception.Mixed_7a,\n",
        "                inception.Mixed_7b,\n",
        "                inception.Mixed_7c,\n",
        "                nn.AdaptiveAvgPool2d(output_size=(1, 1))\n",
        "            ]\n",
        "            self.blocks.append(nn.Sequential(*block3))\n",
        "\n",
        "        for param in self.parameters():\n",
        "            param.requires_grad = requires_grad\n",
        "\n",
        "    def forward(self, inp):\n",
        "        \"\"\"Get Inception feature maps\n",
        "        Parameters\n",
        "        ----------\n",
        "        inp : torch.autograd.Variable\n",
        "            Input tensor of shape Bx3xHxW. Values are expected to be in\n",
        "            range (0, 1)\n",
        "        Returns\n",
        "        -------\n",
        "        List of torch.autograd.Variable, corresponding to the selected output\n",
        "        block, sorted ascending by index\n",
        "        \"\"\"\n",
        "        outp = []\n",
        "        if inp.shape[1] == 1:\n",
        "          inp = inp.expand(inp.shape[0], 3, *inp.shape[2:])\n",
        "          print(inp.shape)\n",
        "        x = inp\n",
        "\n",
        "        if self.resize_input:\n",
        "            x = F.interpolate(x,\n",
        "                              size=(299, 299),\n",
        "                              mode='bilinear',\n",
        "                              align_corners=False)\n",
        "\n",
        "        if self.normalize_input:\n",
        "            x = 2 * x - 1  # Scale from range (0, 1) to range (-1, 1)\n",
        "\n",
        "        for idx, block in enumerate(self.blocks):\n",
        "            x = block(x)\n",
        "            if idx in self.output_blocks:\n",
        "                outp.append(x)\n",
        "\n",
        "            if idx == self.last_needed_block:\n",
        "                break\n",
        "\n",
        "        return outp\n",
        "    \n",
        "    \n",
        "block_idx = InceptionV3.BLOCK_INDEX_BY_DIM[2048]\n",
        "model_inc = InceptionV3([block_idx])\n",
        "model_inc = model_inc.cuda()\n",
        "\n",
        "\n",
        "def calculate_activation_statistics(images,model,batch_size=128, dims=2048,\n",
        "                    cuda=False):\n",
        "    model.eval()\n",
        "    act=np.empty((len(images), dims))\n",
        "    \n",
        "    if cuda:\n",
        "        batch=images.cuda()\n",
        "    else:\n",
        "        batch=images\n",
        "    pred = model(batch)[0]\n",
        "\n",
        "        # If model output is not scalar, apply global spatial average pooling.\n",
        "        # This happens if you choose a dimensionality not equal 2048.\n",
        "    if pred.size(2) != 1 or pred.size(3) != 1:\n",
        "        pred = nn.functional.adaptive_avg_pool2d(pred, output_size=(1, 1))\n",
        "\n",
        "    act= pred.cpu().data.numpy().reshape(pred.size(0), -1)\n",
        "    \n",
        "    mu = np.mean(act, axis=0)\n",
        "    sigma = np.cov(act, rowvar=False)\n",
        "    return mu, sigma\n",
        "\n",
        "\n",
        "from scipy.linalg import sqrtm\n",
        "def calculate_frechet_distance(mu1, sigma1, mu2, sigma2, eps=1e-6):\n",
        "    \"\"\"\n",
        "    The Frechet distance between two multivariate Gaussians X_1 ~ N(mu_1, C_1)\n",
        "    and X_2 ~ N(mu_2, C_2) is:\n",
        "            d^2 = ||mu_1 - mu_2||^2 + Tr(C_1 + C_2 - 2*sqrt(C_1*C_2))\n",
        "    \"\"\"\n",
        "\n",
        "    mu1 = np.atleast_1d(mu1)\n",
        "    mu2 = np.atleast_1d(mu2)\n",
        "\n",
        "    sigma1 = np.atleast_2d(sigma1)\n",
        "    sigma2 = np.atleast_2d(sigma2)\n",
        "\n",
        "    assert mu1.shape == mu2.shape, \\\n",
        "        'Training and test mean vectors have different lengths'\n",
        "    assert sigma1.shape == sigma2.shape, \\\n",
        "        'Training and test covariances have different dimensions'\n",
        "\n",
        "    diff = mu1 - mu2\n",
        "    \n",
        "    covmean, _ = sqrtm(sigma1.dot(sigma2), disp=False)\n",
        "    if not np.isfinite(covmean).all():\n",
        "        msg = ('fid calculation produces singular product; '\n",
        "               'adding %s to diagonal of cov estimates') % eps\n",
        "        print(msg)\n",
        "        offset = np.eye(sigma1.shape[0]) * eps\n",
        "        covmean = np.linalg.sqrtm((sigma1 + offset).dot(sigma2 + offset))\n",
        "\n",
        "    \n",
        "    if np.iscomplexobj(covmean):\n",
        "        if not np.allclose(np.diagonal(covmean).imag, 0, atol=1e-3):\n",
        "            m = np.max(np.abs(covmean.imag))\n",
        "            raise ValueError('Imaginary component {}'.format(m))\n",
        "        covmean = covmean.real\n",
        "\n",
        "    tr_covmean = np.trace(covmean)\n",
        "\n",
        "    return (diff.dot(diff) + np.trace(sigma1) +\n",
        "            np.trace(sigma2) - 2 * tr_covmean)\n",
        "\n",
        "\n",
        "def calculate_fretchet(images_real,images_fake,model):\n",
        "     mu_1,std_1=calculate_activation_statistics(images_real,model,cuda=True)\n",
        "     mu_2,std_2=calculate_activation_statistics(images_fake,model,cuda=True)\n",
        "    \n",
        "     \"\"\"get fretched distance\"\"\"\n",
        "     fid_value = calculate_frechet_distance(mu_1, std_1, mu_2, std_2)\n",
        "     return fid_value"
      ]
    },
    {
      "cell_type": "markdown",
      "metadata": {
        "id": "nBj4cfKBXBy1"
      },
      "source": [
        "## 5. Recipe"
      ]
    },
    {
      "cell_type": "code",
      "execution_count": 163,
      "metadata": {
        "id": "bb6WQfNqIGVD"
      },
      "outputs": [],
      "source": [
        "class LIT_GAN(pl.LightningModule):\n",
        "  \n",
        "  def __init__(self, \n",
        "               discriminator_model, \n",
        "               generator_model, \n",
        "               latent_dim: int = 100, \n",
        "               lr: float = 0.003, \n",
        "               b1: float = 0.5, \n",
        "               b2: float = 0.999,\n",
        "               disc_steps: int = 1):\n",
        "    \n",
        "    super().__init__()\n",
        "    self.save_hyperparameters(ignore=[discriminator_model, generator_model])\n",
        "    self.automatic_optimization = False\n",
        "\n",
        "    self.discriminator = discriminator_model\n",
        "    self.generator = generator_model\n",
        "\n",
        "    self.validation_z = torch.randn(8, self.hparams.latent_dim)\n",
        "  \n",
        "  def configure_optimizers(self):\n",
        "    lr = self.hparams.lr\n",
        "    b1 = self.hparams.b1\n",
        "    b2 = self.hparams.b2\n",
        "\n",
        "    optim_g = torch.optim.Adam(self.generator.parameters(), lr=lr, betas=(b1,b2))\n",
        "    optim_d = torch.optim.Adam(self.discriminator.parameters(), lr=lr, betas=(b1,b2))\n",
        "    \n",
        "    return [optim_g, optim_d], []\n",
        "\n",
        "\n",
        "  def forward(self, z):\n",
        "    return self.generator(z)\n",
        "\n",
        "\n",
        "  def adv_loss(self, prob, target):\n",
        "    loss = F.binary_cross_entropy(prob, target)\n",
        "    return loss\n",
        "\n",
        "  def training_step(self, batch, batch_idx):\n",
        "    imgs, _ = batch\n",
        "    # print(f\"{batch_idx}:: imgs.shape =\",imgs.shape)\n",
        "    imgs = imgs.to(device)\n",
        "\n",
        "    opt_g, opt_d = self.optimizers()\n",
        "\n",
        "    z = torch.randn(imgs.shape[0], self.hparams.latent_dim) # N x Z_d\n",
        "    z = z.type_as(imgs).to(device)\n",
        "\n",
        "    fake_arr = torch.zeros(imgs.size(0), 1).to(device) # N: 0s\n",
        "    real_arr = torch.ones(imgs.size(0), 1).to(device) # N: 1s\n",
        "    # print(f\"Disc out shape:\", self.discriminator(self(z)).shape)\n",
        "    # Train G:\n",
        "    self.toggle_optimizer(opt_g)\n",
        "    \n",
        "    # Generator loss:\n",
        "    g_out = self.forward(z)\n",
        "    g_loss = self.adv_loss(self.discriminator(self(z)), real_arr) # Fooling the Disc: How Real is the fake output?\n",
        "\n",
        "    # Grad step:\n",
        "    # self.log(\"g_loss\", g_loss, prog_bar=True)\n",
        "    self.manual_backward(g_loss)\n",
        "    opt_g.step()\n",
        "    opt_g.zero_grad()\n",
        "    self.untoggle_optimizer(opt_g)\n",
        "\n",
        "    # Train Discriminator\n",
        "    self.toggle_optimizer(opt_d)\n",
        "    \n",
        "    # Paper's proposition: To keep D at optimum discriminative power\n",
        "    # Train it 'k' steps (h-param)\n",
        "    # Experimentally k is kept at 1\n",
        "    \n",
        "    for i in range(self.hparams.disc_steps):\n",
        "      # Discriminator loss:\n",
        "      d_loss_real = self.adv_loss(self.discriminator(imgs), real_arr)\n",
        "      d_loss_fake = self.adv_loss(self.discriminator(self(z)), fake_arr)\n",
        "      d_loss = (d_loss_fake + d_loss_real) / 2.\n",
        "\n",
        "      # self.log(\"d_loss\", d_loss, prog_bar=True)\n",
        "      self.manual_backward(d_loss)\n",
        "      opt_d.step()\n",
        "      opt_d.zero_grad()\n",
        "\n",
        "    self.untoggle_optimizer(opt_d)\n",
        "    \n",
        "    self.log_dict({\"g_loss\": g_loss, \"d_loss\": d_loss}, prog_bar=True)\n",
        "    self.logger.experiment.log({\"Gen_Image_1 (during training)\":[wandb.Image(g_out[0].cpu(), caption=\"Gen Out\")]})\n",
        "\n",
        "  def validation_step(self, batch, batch_idx):\n",
        "    imgs, _ = batch\n",
        "\n",
        "    imgs = imgs.to(device)\n",
        "\n",
        "    z = torch.randn(imgs.shape[0], self.hparams.latent_dim) # N x Z_d\n",
        "    z = z.type_as(imgs).to(device)\n",
        "\n",
        "    fake_arr = torch.zeros(imgs.size(0), 1).to(device) # N: 0s\n",
        "    real_arr = torch.ones(imgs.size(0), 1).to(device) # N: 1s\n",
        "\n",
        "    g_out = self.forward(z)\n",
        "    g_out = g_out[:,None,:,:]\n",
        "    # print(g_out.shape)\n",
        "    g_loss = self.adv_loss(self.discriminator(self(z)), real_arr)\n",
        "    \n",
        "    d_loss_real = self.adv_loss(self.discriminator(imgs), real_arr)\n",
        "    d_loss_fake = self.adv_loss(self.discriminator(self(z)), fake_arr)\n",
        "    d_loss = (d_loss_fake + d_loss_real) / 2\n",
        "\n",
        "    # self.inception.update(g_out)\n",
        "    imgs_fid = imgs.expand(imgs.shape[0], 3, *imgs.shape[2:])\n",
        "    g_out_fid = g_out.expand(g_out.shape[0], 3, *g_out.shape[2:])\n",
        "    this_fid = calculate_fretchet(imgs_fid, g_out_fid, model_inc)\n",
        "    print(f\"FID: {this_fid:.3f}\")\n",
        "\n",
        "    self.log_dict({\"val_g_loss\": g_loss, \n",
        "                   \"val_d_loss\": d_loss, \n",
        "                   \"FID\":  this_fid}, on_step=True, on_epoch=True, prog_bar=True)"
      ]
    },
    {
      "cell_type": "markdown",
      "metadata": {
        "id": "pANi1TnwXESy"
      },
      "source": [
        "### Recipe & trainer: initializations"
      ]
    },
    {
      "cell_type": "code",
      "execution_count": 164,
      "metadata": {
        "colab": {
          "base_uri": "https://localhost:8080/"
        },
        "id": "6aIO7Pr5rrft",
        "outputId": "ea877732-fdb1-4adb-e1c8-f57bf65f1bf5"
      },
      "outputs": [
        {
          "output_type": "execute_result",
          "data": {
            "text/plain": [
              "(torch.Size([32, 1, 28, 28]), torch.Size([32]))"
            ]
          },
          "metadata": {},
          "execution_count": 164
        }
      ],
      "source": [
        "sample_img, sample_target = next(iter(train_dataloader))\n",
        "sample_img.shape, sample_target.size()"
      ]
    },
    {
      "cell_type": "code",
      "execution_count": 165,
      "metadata": {
        "colab": {
          "base_uri": "https://localhost:8080/"
        },
        "id": "232-Wbo7UBI-",
        "outputId": "56a4c9ef-fa12-4164-a9e0-cb350f22914d"
      },
      "outputs": [
        {
          "output_type": "stream",
          "name": "stdout",
          "text": [
            "   | Name                  | Type          | Params\n",
            "---------------------------------------------------------\n",
            "0  | discriminator         | Discriminator | 566 K \n",
            "1  | discriminator.model   | Sequential    | 566 K \n",
            "2  | discriminator.model.0 | Linear        | 401 K \n",
            "3  | discriminator.model.1 | ReLU          | 0     \n",
            "4  | discriminator.model.2 | Linear        | 131 K \n",
            "5  | discriminator.model.3 | ReLU          | 0     \n",
            "6  | discriminator.model.4 | Linear        | 32.9 K\n",
            "7  | discriminator.model.5 | ReLU          | 0     \n",
            "8  | discriminator.model.6 | Linear        | 129   \n",
            "9  | discriminator.model.7 | Sigmoid       | 0     \n",
            "10 | generator             | Generator     | 579 K \n",
            "11 | generator.model       | Sequential    | 579 K \n",
            "12 | generator.model.0     | Linear        | 12.9 K\n",
            "13 | generator.model.1     | ReLU          | 0     \n",
            "14 | generator.model.2     | Linear        | 33.0 K\n",
            "15 | generator.model.3     | ReLU          | 0     \n",
            "16 | generator.model.4     | Linear        | 131 K \n",
            "17 | generator.model.5     | ReLU          | 0     \n",
            "18 | generator.model.6     | Linear        | 402 K \n",
            "19 | generator.model.7     | Sigmoid       | 0     \n",
            "---------------------------------------------------------\n",
            "1.1 M     Trainable params\n",
            "0         Non-trainable params\n",
            "1.1 M     Total params\n",
            "4.584     Total estimated model params size (MB)\n"
          ]
        }
      ],
      "source": [
        "van_gan = LIT_GAN(\n",
        "      Discriminator(img_shape=(sample_img.size(2), sample_img.size(3))), \n",
        "      Generator(img_shape=(sample_img.size(2), sample_img.size(3))), \n",
        "      lr=1e-3\n",
        "    )\n",
        "summary = ModelSummary(van_gan, max_depth=-1)\n",
        "print(summary)"
      ]
    },
    {
      "cell_type": "code",
      "execution_count": 166,
      "metadata": {
        "id": "AbWhTZRHXiXG"
      },
      "outputs": [],
      "source": [
        "delete_dir(\"van_gan_exps\")\n",
        "create_dir(\"van_gan_exps\")"
      ]
    },
    {
      "cell_type": "markdown",
      "source": [
        "## Logger Init"
      ],
      "metadata": {
        "id": "SafKzlsbfXC2"
      }
    },
    {
      "cell_type": "code",
      "execution_count": 167,
      "metadata": {
        "colab": {
          "base_uri": "https://localhost:8080/",
          "height": 104
        },
        "id": "F4EiJ_s-wwzR",
        "outputId": "aadd2b26-fada-4daa-dde5-8bf7b7a2a649"
      },
      "outputs": [
        {
          "output_type": "display_data",
          "data": {
            "text/plain": [
              "<IPython.core.display.HTML object>"
            ],
            "text/html": [
              "Tracking run with wandb version 0.15.2"
            ]
          },
          "metadata": {}
        },
        {
          "output_type": "display_data",
          "data": {
            "text/plain": [
              "<IPython.core.display.HTML object>"
            ],
            "text/html": [
              "Run data is saved locally in <code>./wandb/run-20230517_071242-216lzu3t</code>"
            ]
          },
          "metadata": {}
        },
        {
          "output_type": "display_data",
          "data": {
            "text/plain": [
              "<IPython.core.display.HTML object>"
            ],
            "text/html": [
              "Syncing run <strong><a href='https://wandb.ai/aryangarg019/M1_GAN/runs/216lzu3t' target=\"_blank\">exp-5-no_augs</a></strong> to <a href='https://wandb.ai/aryangarg019/M1_GAN' target=\"_blank\">Weights & Biases</a> (<a href='https://wandb.me/run' target=\"_blank\">docs</a>)<br/>"
            ]
          },
          "metadata": {}
        },
        {
          "output_type": "display_data",
          "data": {
            "text/plain": [
              "<IPython.core.display.HTML object>"
            ],
            "text/html": [
              " View project at <a href='https://wandb.ai/aryangarg019/M1_GAN' target=\"_blank\">https://wandb.ai/aryangarg019/M1_GAN</a>"
            ]
          },
          "metadata": {}
        },
        {
          "output_type": "display_data",
          "data": {
            "text/plain": [
              "<IPython.core.display.HTML object>"
            ],
            "text/html": [
              " View run at <a href='https://wandb.ai/aryangarg019/M1_GAN/runs/216lzu3t' target=\"_blank\">https://wandb.ai/aryangarg019/M1_GAN/runs/216lzu3t</a>"
            ]
          },
          "metadata": {}
        }
      ],
      "source": [
        "wandb_logger = WandbLogger(project=\"M1_GAN\", \n",
        "                           name=\"exp-5-no_augs\",\n",
        "                           job_type='train_val',\n",
        "                           log_model=\"all\")"
      ]
    },
    {
      "cell_type": "code",
      "execution_count": 168,
      "metadata": {
        "colab": {
          "base_uri": "https://localhost:8080/"
        },
        "id": "HTbAs0txwsDO",
        "outputId": "2c4fb17d-88c7-4df5-ac47-248ee8fea61d"
      },
      "outputs": [
        {
          "output_type": "stream",
          "name": "stderr",
          "text": [
            "INFO: GPU available: True (cuda), used: True\n",
            "INFO:lightning.pytorch.utilities.rank_zero:GPU available: True (cuda), used: True\n",
            "INFO: TPU available: False, using: 0 TPU cores\n",
            "INFO:lightning.pytorch.utilities.rank_zero:TPU available: False, using: 0 TPU cores\n",
            "INFO: IPU available: False, using: 0 IPUs\n",
            "INFO:lightning.pytorch.utilities.rank_zero:IPU available: False, using: 0 IPUs\n",
            "INFO: HPU available: False, using: 0 HPUs\n",
            "INFO:lightning.pytorch.utilities.rank_zero:HPU available: False, using: 0 HPUs\n"
          ]
        }
      ],
      "source": [
        "# train model\n",
        "from lightning.pytorch.callbacks import DeviceStatsMonitor, TQDMProgressBar\n",
        "\n",
        "trainer = pl.Trainer(default_root_dir=\"/content/van_gan_exps/\", \n",
        "                     fast_dev_run=False,\n",
        "                     logger=wandb_logger,   # wandb <3\n",
        "                     log_every_n_steps=1,   # set the logging frequency\n",
        "                     accelerator='auto',\n",
        "                     devices=\"auto\",        # all\n",
        "                     max_epochs=5,          # number of epochs\n",
        "                     deterministic=True,    # keep it deterministic\n",
        "                     callbacks=[TQDMProgressBar(refresh_rate=10)],\n",
        "                     )"
      ]
    },
    {
      "cell_type": "markdown",
      "metadata": {
        "id": "8zxlTdrLkXfl"
      },
      "source": [
        "## Training:"
      ]
    },
    {
      "cell_type": "code",
      "execution_count": 169,
      "metadata": {
        "colab": {
          "base_uri": "https://localhost:8080/",
          "height": 622,
          "referenced_widgets": [
            "51b1fc97bb7141339e8be954553c4df9",
            "42b61c62f2864926aca9a7c012680129",
            "5929a90811ed4194a4b7652da60efb7e",
            "eecbee2f87c440dbb325a72f96ae8c69",
            "6d450ec7864a4d48b061e3960be147ae",
            "8016cf57ed5e48259204a6eb12118ee0",
            "cc7489160a4e435baf3527f0b77b38b3",
            "84cddaebcec04c7fa6ab161def7ff90e",
            "f0400753a7a545949fb6c812621d9761",
            "f9b576541a6d4215a7dfb375b0b66690",
            "1352a5af9f3245dfa29aabac915cfc3c"
          ]
        },
        "id": "Q4L4AfKudcBi",
        "outputId": "5ee46670-1227-41fa-c2f2-70a5e5e32ac9"
      },
      "outputs": [
        {
          "output_type": "stream",
          "name": "stderr",
          "text": [
            "INFO: LOCAL_RANK: 0 - CUDA_VISIBLE_DEVICES: [0]\n",
            "INFO:lightning.pytorch.accelerators.cuda:LOCAL_RANK: 0 - CUDA_VISIBLE_DEVICES: [0]\n",
            "INFO: \n",
            "  | Name          | Type          | Params\n",
            "------------------------------------------------\n",
            "0 | discriminator | Discriminator | 566 K \n",
            "1 | generator     | Generator     | 579 K \n",
            "------------------------------------------------\n",
            "1.1 M     Trainable params\n",
            "0         Non-trainable params\n",
            "1.1 M     Total params\n",
            "4.584     Total estimated model params size (MB)\n",
            "INFO:lightning.pytorch.callbacks.model_summary:\n",
            "  | Name          | Type          | Params\n",
            "------------------------------------------------\n",
            "0 | discriminator | Discriminator | 566 K \n",
            "1 | generator     | Generator     | 579 K \n",
            "------------------------------------------------\n",
            "1.1 M     Trainable params\n",
            "0         Non-trainable params\n",
            "1.1 M     Total params\n",
            "4.584     Total estimated model params size (MB)\n"
          ]
        },
        {
          "output_type": "display_data",
          "data": {
            "text/plain": [
              "Training: 0it [00:00, ?it/s]"
            ],
            "application/vnd.jupyter.widget-view+json": {
              "version_major": 2,
              "version_minor": 0,
              "model_id": "51b1fc97bb7141339e8be954553c4df9"
            }
          },
          "metadata": {}
        },
        {
          "output_type": "stream",
          "name": "stderr",
          "text": [
            "\u001b[34m\u001b[1mwandb\u001b[0m: 429 encountered ({\"error\":\"rate limit exceeded\"}), retrying request\n",
            "\u001b[34m\u001b[1mwandb\u001b[0m: 429 encountered ({\"error\":\"rate limit exceeded\"}), retrying request\n",
            "\u001b[34m\u001b[1mwandb\u001b[0m: 429 encountered ({\"error\":\"rate limit exceeded\"}), retrying request\n",
            "\u001b[34m\u001b[1mwandb\u001b[0m: 429 encountered ({\"error\":\"rate limit exceeded\"}), retrying request\n",
            "\u001b[34m\u001b[1mwandb\u001b[0m: 429 encountered ({\"error\":\"rate limit exceeded\"}), retrying request\n",
            "\u001b[34m\u001b[1mwandb\u001b[0m: 429 encountered ({\"error\":\"rate limit exceeded\"}), retrying request\n",
            "\u001b[34m\u001b[1mwandb\u001b[0m: 429 encountered ({\"error\":\"rate limit exceeded\"}), retrying request\n",
            "\u001b[34m\u001b[1mwandb\u001b[0m: 429 encountered ({\"error\":\"rate limit exceeded\"}), retrying request\n",
            "\u001b[34m\u001b[1mwandb\u001b[0m: Network error resolved after 0:00:01.105046, resuming normal operation.\n",
            "INFO: `Trainer.fit` stopped: `max_epochs=5` reached.\n",
            "INFO:lightning.pytorch.utilities.rank_zero:`Trainer.fit` stopped: `max_epochs=5` reached.\n"
          ]
        }
      ],
      "source": [
        "# Train model:\n",
        "trainer.fit(van_gan, train_dataloader)"
      ]
    },
    {
      "cell_type": "markdown",
      "metadata": {
        "id": "zMwgd53dFp3O"
      },
      "source": [
        "## Validation"
      ]
    },
    {
      "cell_type": "code",
      "execution_count": 170,
      "metadata": {
        "id": "EjEOsswtGF67",
        "colab": {
          "base_uri": "https://localhost:8080/"
        },
        "outputId": "3ef3f52f-19e2-4c1b-829e-6d6da85db165"
      },
      "outputs": [
        {
          "output_type": "stream",
          "name": "stdout",
          "text": [
            "313\n"
          ]
        }
      ],
      "source": [
        "print(len(test_dataloader))"
      ]
    },
    {
      "cell_type": "code",
      "execution_count": 171,
      "metadata": {
        "colab": {
          "base_uri": "https://localhost:8080/",
          "height": 518,
          "referenced_widgets": [
            "11a8857ddc1d4bcfb934b3d4adf31ef9",
            "407a9aa2524a4c2487b301b92c834838",
            "8ce59d89310641968b96abbaf5c538c8",
            "66073b695a694c7aaea2ff0b01ceb487",
            "bd963b8aac8c4a46b68eb3815e2b74f2",
            "50998c71b775458ea339cc7596856966",
            "d37236f82c38403283eacd4ef277f7f9",
            "420d2ed8e8004e36abba4b02adf8e85c",
            "75c7c7accd2942e99d028120f2d43cdd",
            "851e23fd6e114b5d85a31bd8e004785d",
            "938bf81547044304be13b8436e947402"
          ]
        },
        "id": "B1iZ5FKIEyYd",
        "outputId": "3fdbb14b-a5a9-42b9-d269-4d55504ef7f1"
      },
      "outputs": [
        {
          "output_type": "stream",
          "name": "stderr",
          "text": [
            "INFO: LOCAL_RANK: 0 - CUDA_VISIBLE_DEVICES: [0]\n",
            "INFO:lightning.pytorch.accelerators.cuda:LOCAL_RANK: 0 - CUDA_VISIBLE_DEVICES: [0]\n"
          ]
        },
        {
          "output_type": "display_data",
          "data": {
            "text/plain": [
              "Validation: 0it [00:00, ?it/s]"
            ],
            "application/vnd.jupyter.widget-view+json": {
              "version_major": 2,
              "version_minor": 0,
              "model_id": "11a8857ddc1d4bcfb934b3d4adf31ef9"
            }
          },
          "metadata": {}
        },
        {
          "output_type": "stream",
          "name": "stdout",
          "text": [
            "FID: 291.616\n",
            "FID: 276.018\n",
            "FID: 289.650\n",
            "FID: 280.756\n",
            "FID: 281.333\n",
            "FID: 307.409\n",
            "FID: 270.095\n",
            "FID: 299.875\n",
            "FID: 280.968\n",
            "FID: 300.506\n",
            "FID: 284.109\n",
            "FID: 262.074\n",
            "FID: 289.733\n",
            "FID: 291.482\n",
            "FID: 267.360\n",
            "FID: 312.637\n",
            "FID: 305.884\n",
            "FID: 291.732\n",
            "FID: 283.828\n",
            "FID: 293.164\n",
            "FID: 295.731\n",
            "FID: 296.416\n",
            "FID: 272.912\n",
            "FID: 283.957\n",
            "FID: 284.172\n"
          ]
        }
      ],
      "source": [
        "trainer.validate(model=van_gan, dataloaders=test_dataloader)"
      ]
    },
    {
      "cell_type": "markdown",
      "metadata": {
        "id": "0xLzeYyjFrOU"
      },
      "source": [
        "## Finish Logger Instance"
      ]
    },
    {
      "cell_type": "code",
      "execution_count": 172,
      "metadata": {
        "colab": {
          "base_uri": "https://localhost:8080/",
          "height": 333
        },
        "id": "WamyyguQisCG",
        "outputId": "ca694a74-2ab0-4247-a30d-7d93b0878b17"
      },
      "outputs": [
        {
          "output_type": "display_data",
          "data": {
            "text/plain": [
              "<IPython.core.display.HTML object>"
            ],
            "text/html": [
              "Waiting for W&B process to finish... <strong style=\"color:green\">(success).</strong>"
            ]
          },
          "metadata": {}
        },
        {
          "output_type": "display_data",
          "data": {
            "text/plain": [
              "<IPython.core.display.HTML object>"
            ],
            "text/html": [
              "<style>\n",
              "    table.wandb td:nth-child(1) { padding: 0 10px; text-align: left ; width: auto;} td:nth-child(2) {text-align: left ; width: 100%}\n",
              "    .wandb-row { display: flex; flex-direction: row; flex-wrap: wrap; justify-content: flex-start; width: 100% }\n",
              "    .wandb-col { display: flex; flex-direction: column; flex-basis: 100%; flex: 1; padding: 10px; }\n",
              "    </style>\n",
              "<div class=\"wandb-row\"><div class=\"wandb-col\"><h3>Run history:</h3><br/><table class=\"wandb\"><tr><td>FID_step</td><td>▅▃▅▄▄▇▂▆▄▆▄▁▅▅▂█▇▅▄▅▆▆▃▄▄</td></tr><tr><td>d_loss</td><td>▄▁▄▄▅▄▄▅▅▅▄▆▆▅▄▅▆▅▅▆▅▆▆▆▆▇▆▇▇▆▆█▇▇▇▇▇▇▇▇</td></tr><tr><td>epoch</td><td>▁▁▁▁▁▁▁▁▃▃▃▃▃▃▃▃▅▅▅▅▅▅▅▅▆▆▆▆▆▆▆▆████████</td></tr><tr><td>g_loss</td><td>▅█▂▃▂▃▂▂▂▂▁▂▂▂▂▂▂▂▂▁▂▂▁▁▁▁▁▁▁▂▁▁▁▁▁▁▁▁▁▁</td></tr><tr><td>trainer/global_step</td><td>▁▁▁▂▂▂▂▂▂▃▃▃▃▃▃▄▄▄▄▄▅▅▅▅▅▅▆▆▆▆▆▇▇▇▇▇▇███</td></tr><tr><td>val_d_loss_step</td><td>█▂▆▅▄▅▅▄▂▃▃▄▆▆▇▆▄▅▆▄▅▄▄▁▄</td></tr><tr><td>val_g_loss_step</td><td>▄▇▂▂▃▆▄▃▁▅▄▆▆▄▃▇▇▁▄▆▇▇▅█▃</td></tr></table><br/></div><div class=\"wandb-col\"><h3>Run summary:</h3><br/><table class=\"wandb\"><tr><td>FID_step</td><td>284.17228</td></tr><tr><td>d_loss</td><td>0.70322</td></tr><tr><td>epoch</td><td>4</td></tr><tr><td>g_loss</td><td>0.76358</td></tr><tr><td>trainer/global_step</td><td>24</td></tr><tr><td>val_d_loss_step</td><td>0.65881</td></tr><tr><td>val_g_loss_step</td><td>0.78566</td></tr></table><br/></div></div>"
            ]
          },
          "metadata": {}
        },
        {
          "output_type": "display_data",
          "data": {
            "text/plain": [
              "<IPython.core.display.HTML object>"
            ],
            "text/html": [
              " View run <strong style=\"color:#cdcd00\">exp-5-no_augs</strong> at: <a href='https://wandb.ai/aryangarg019/M1_GAN/runs/216lzu3t' target=\"_blank\">https://wandb.ai/aryangarg019/M1_GAN/runs/216lzu3t</a><br/>Synced 5 W&B file(s), 8595 media file(s), 5 artifact file(s) and 0 other file(s)"
            ]
          },
          "metadata": {}
        },
        {
          "output_type": "display_data",
          "data": {
            "text/plain": [
              "<IPython.core.display.HTML object>"
            ],
            "text/html": [
              "Find logs at: <code>./wandb/run-20230517_071242-216lzu3t/logs</code>"
            ]
          },
          "metadata": {}
        }
      ],
      "source": [
        "wandb.finish()"
      ]
    },
    {
      "cell_type": "code",
      "execution_count": null,
      "metadata": {
        "id": "FhaiYtF_HPz-"
      },
      "outputs": [],
      "source": []
    }
  ],
  "metadata": {
    "accelerator": "GPU",
    "colab": {
      "provenance": [],
      "collapsed_sections": [
        "8zxlTdrLkXfl"
      ]
    },
    "gpuClass": "standard",
    "kernelspec": {
      "display_name": "Python 3",
      "name": "python3"
    },
    "language_info": {
      "name": "python"
    },
    "widgets": {
      "application/vnd.jupyter.widget-state+json": {
        "51b1fc97bb7141339e8be954553c4df9": {
          "model_module": "@jupyter-widgets/controls",
          "model_name": "HBoxModel",
          "model_module_version": "1.5.0",
          "state": {
            "_dom_classes": [],
            "_model_module": "@jupyter-widgets/controls",
            "_model_module_version": "1.5.0",
            "_model_name": "HBoxModel",
            "_view_count": null,
            "_view_module": "@jupyter-widgets/controls",
            "_view_module_version": "1.5.0",
            "_view_name": "HBoxView",
            "box_style": "",
            "children": [
              "IPY_MODEL_42b61c62f2864926aca9a7c012680129",
              "IPY_MODEL_5929a90811ed4194a4b7652da60efb7e",
              "IPY_MODEL_eecbee2f87c440dbb325a72f96ae8c69"
            ],
            "layout": "IPY_MODEL_6d450ec7864a4d48b061e3960be147ae"
          }
        },
        "42b61c62f2864926aca9a7c012680129": {
          "model_module": "@jupyter-widgets/controls",
          "model_name": "HTMLModel",
          "model_module_version": "1.5.0",
          "state": {
            "_dom_classes": [],
            "_model_module": "@jupyter-widgets/controls",
            "_model_module_version": "1.5.0",
            "_model_name": "HTMLModel",
            "_view_count": null,
            "_view_module": "@jupyter-widgets/controls",
            "_view_module_version": "1.5.0",
            "_view_name": "HTMLView",
            "description": "",
            "description_tooltip": null,
            "layout": "IPY_MODEL_8016cf57ed5e48259204a6eb12118ee0",
            "placeholder": "​",
            "style": "IPY_MODEL_cc7489160a4e435baf3527f0b77b38b3",
            "value": "Epoch 4: 100%"
          }
        },
        "5929a90811ed4194a4b7652da60efb7e": {
          "model_module": "@jupyter-widgets/controls",
          "model_name": "FloatProgressModel",
          "model_module_version": "1.5.0",
          "state": {
            "_dom_classes": [],
            "_model_module": "@jupyter-widgets/controls",
            "_model_module_version": "1.5.0",
            "_model_name": "FloatProgressModel",
            "_view_count": null,
            "_view_module": "@jupyter-widgets/controls",
            "_view_module_version": "1.5.0",
            "_view_name": "ProgressView",
            "bar_style": "success",
            "description": "",
            "description_tooltip": null,
            "layout": "IPY_MODEL_84cddaebcec04c7fa6ab161def7ff90e",
            "max": 1719,
            "min": 0,
            "orientation": "horizontal",
            "style": "IPY_MODEL_f0400753a7a545949fb6c812621d9761",
            "value": 1719
          }
        },
        "eecbee2f87c440dbb325a72f96ae8c69": {
          "model_module": "@jupyter-widgets/controls",
          "model_name": "HTMLModel",
          "model_module_version": "1.5.0",
          "state": {
            "_dom_classes": [],
            "_model_module": "@jupyter-widgets/controls",
            "_model_module_version": "1.5.0",
            "_model_name": "HTMLModel",
            "_view_count": null,
            "_view_module": "@jupyter-widgets/controls",
            "_view_module_version": "1.5.0",
            "_view_name": "HTMLView",
            "description": "",
            "description_tooltip": null,
            "layout": "IPY_MODEL_f9b576541a6d4215a7dfb375b0b66690",
            "placeholder": "​",
            "style": "IPY_MODEL_1352a5af9f3245dfa29aabac915cfc3c",
            "value": " 1719/1719 [01:38&lt;00:00, 17.52it/s, v_num=zu3t, g_loss=0.764, d_loss=0.703]"
          }
        },
        "6d450ec7864a4d48b061e3960be147ae": {
          "model_module": "@jupyter-widgets/base",
          "model_name": "LayoutModel",
          "model_module_version": "1.2.0",
          "state": {
            "_model_module": "@jupyter-widgets/base",
            "_model_module_version": "1.2.0",
            "_model_name": "LayoutModel",
            "_view_count": null,
            "_view_module": "@jupyter-widgets/base",
            "_view_module_version": "1.2.0",
            "_view_name": "LayoutView",
            "align_content": null,
            "align_items": null,
            "align_self": null,
            "border": null,
            "bottom": null,
            "display": "inline-flex",
            "flex": null,
            "flex_flow": "row wrap",
            "grid_area": null,
            "grid_auto_columns": null,
            "grid_auto_flow": null,
            "grid_auto_rows": null,
            "grid_column": null,
            "grid_gap": null,
            "grid_row": null,
            "grid_template_areas": null,
            "grid_template_columns": null,
            "grid_template_rows": null,
            "height": null,
            "justify_content": null,
            "justify_items": null,
            "left": null,
            "margin": null,
            "max_height": null,
            "max_width": null,
            "min_height": null,
            "min_width": null,
            "object_fit": null,
            "object_position": null,
            "order": null,
            "overflow": null,
            "overflow_x": null,
            "overflow_y": null,
            "padding": null,
            "right": null,
            "top": null,
            "visibility": null,
            "width": "100%"
          }
        },
        "8016cf57ed5e48259204a6eb12118ee0": {
          "model_module": "@jupyter-widgets/base",
          "model_name": "LayoutModel",
          "model_module_version": "1.2.0",
          "state": {
            "_model_module": "@jupyter-widgets/base",
            "_model_module_version": "1.2.0",
            "_model_name": "LayoutModel",
            "_view_count": null,
            "_view_module": "@jupyter-widgets/base",
            "_view_module_version": "1.2.0",
            "_view_name": "LayoutView",
            "align_content": null,
            "align_items": null,
            "align_self": null,
            "border": null,
            "bottom": null,
            "display": null,
            "flex": null,
            "flex_flow": null,
            "grid_area": null,
            "grid_auto_columns": null,
            "grid_auto_flow": null,
            "grid_auto_rows": null,
            "grid_column": null,
            "grid_gap": null,
            "grid_row": null,
            "grid_template_areas": null,
            "grid_template_columns": null,
            "grid_template_rows": null,
            "height": null,
            "justify_content": null,
            "justify_items": null,
            "left": null,
            "margin": null,
            "max_height": null,
            "max_width": null,
            "min_height": null,
            "min_width": null,
            "object_fit": null,
            "object_position": null,
            "order": null,
            "overflow": null,
            "overflow_x": null,
            "overflow_y": null,
            "padding": null,
            "right": null,
            "top": null,
            "visibility": null,
            "width": null
          }
        },
        "cc7489160a4e435baf3527f0b77b38b3": {
          "model_module": "@jupyter-widgets/controls",
          "model_name": "DescriptionStyleModel",
          "model_module_version": "1.5.0",
          "state": {
            "_model_module": "@jupyter-widgets/controls",
            "_model_module_version": "1.5.0",
            "_model_name": "DescriptionStyleModel",
            "_view_count": null,
            "_view_module": "@jupyter-widgets/base",
            "_view_module_version": "1.2.0",
            "_view_name": "StyleView",
            "description_width": ""
          }
        },
        "84cddaebcec04c7fa6ab161def7ff90e": {
          "model_module": "@jupyter-widgets/base",
          "model_name": "LayoutModel",
          "model_module_version": "1.2.0",
          "state": {
            "_model_module": "@jupyter-widgets/base",
            "_model_module_version": "1.2.0",
            "_model_name": "LayoutModel",
            "_view_count": null,
            "_view_module": "@jupyter-widgets/base",
            "_view_module_version": "1.2.0",
            "_view_name": "LayoutView",
            "align_content": null,
            "align_items": null,
            "align_self": null,
            "border": null,
            "bottom": null,
            "display": null,
            "flex": "2",
            "flex_flow": null,
            "grid_area": null,
            "grid_auto_columns": null,
            "grid_auto_flow": null,
            "grid_auto_rows": null,
            "grid_column": null,
            "grid_gap": null,
            "grid_row": null,
            "grid_template_areas": null,
            "grid_template_columns": null,
            "grid_template_rows": null,
            "height": null,
            "justify_content": null,
            "justify_items": null,
            "left": null,
            "margin": null,
            "max_height": null,
            "max_width": null,
            "min_height": null,
            "min_width": null,
            "object_fit": null,
            "object_position": null,
            "order": null,
            "overflow": null,
            "overflow_x": null,
            "overflow_y": null,
            "padding": null,
            "right": null,
            "top": null,
            "visibility": null,
            "width": null
          }
        },
        "f0400753a7a545949fb6c812621d9761": {
          "model_module": "@jupyter-widgets/controls",
          "model_name": "ProgressStyleModel",
          "model_module_version": "1.5.0",
          "state": {
            "_model_module": "@jupyter-widgets/controls",
            "_model_module_version": "1.5.0",
            "_model_name": "ProgressStyleModel",
            "_view_count": null,
            "_view_module": "@jupyter-widgets/base",
            "_view_module_version": "1.2.0",
            "_view_name": "StyleView",
            "bar_color": null,
            "description_width": ""
          }
        },
        "f9b576541a6d4215a7dfb375b0b66690": {
          "model_module": "@jupyter-widgets/base",
          "model_name": "LayoutModel",
          "model_module_version": "1.2.0",
          "state": {
            "_model_module": "@jupyter-widgets/base",
            "_model_module_version": "1.2.0",
            "_model_name": "LayoutModel",
            "_view_count": null,
            "_view_module": "@jupyter-widgets/base",
            "_view_module_version": "1.2.0",
            "_view_name": "LayoutView",
            "align_content": null,
            "align_items": null,
            "align_self": null,
            "border": null,
            "bottom": null,
            "display": null,
            "flex": null,
            "flex_flow": null,
            "grid_area": null,
            "grid_auto_columns": null,
            "grid_auto_flow": null,
            "grid_auto_rows": null,
            "grid_column": null,
            "grid_gap": null,
            "grid_row": null,
            "grid_template_areas": null,
            "grid_template_columns": null,
            "grid_template_rows": null,
            "height": null,
            "justify_content": null,
            "justify_items": null,
            "left": null,
            "margin": null,
            "max_height": null,
            "max_width": null,
            "min_height": null,
            "min_width": null,
            "object_fit": null,
            "object_position": null,
            "order": null,
            "overflow": null,
            "overflow_x": null,
            "overflow_y": null,
            "padding": null,
            "right": null,
            "top": null,
            "visibility": null,
            "width": null
          }
        },
        "1352a5af9f3245dfa29aabac915cfc3c": {
          "model_module": "@jupyter-widgets/controls",
          "model_name": "DescriptionStyleModel",
          "model_module_version": "1.5.0",
          "state": {
            "_model_module": "@jupyter-widgets/controls",
            "_model_module_version": "1.5.0",
            "_model_name": "DescriptionStyleModel",
            "_view_count": null,
            "_view_module": "@jupyter-widgets/base",
            "_view_module_version": "1.2.0",
            "_view_name": "StyleView",
            "description_width": ""
          }
        },
        "11a8857ddc1d4bcfb934b3d4adf31ef9": {
          "model_module": "@jupyter-widgets/controls",
          "model_name": "HBoxModel",
          "model_module_version": "1.5.0",
          "state": {
            "_dom_classes": [],
            "_model_module": "@jupyter-widgets/controls",
            "_model_module_version": "1.5.0",
            "_model_name": "HBoxModel",
            "_view_count": null,
            "_view_module": "@jupyter-widgets/controls",
            "_view_module_version": "1.5.0",
            "_view_name": "HBoxView",
            "box_style": "",
            "children": [
              "IPY_MODEL_407a9aa2524a4c2487b301b92c834838",
              "IPY_MODEL_8ce59d89310641968b96abbaf5c538c8",
              "IPY_MODEL_66073b695a694c7aaea2ff0b01ceb487"
            ],
            "layout": "IPY_MODEL_bd963b8aac8c4a46b68eb3815e2b74f2"
          }
        },
        "407a9aa2524a4c2487b301b92c834838": {
          "model_module": "@jupyter-widgets/controls",
          "model_name": "HTMLModel",
          "model_module_version": "1.5.0",
          "state": {
            "_dom_classes": [],
            "_model_module": "@jupyter-widgets/controls",
            "_model_module_version": "1.5.0",
            "_model_name": "HTMLModel",
            "_view_count": null,
            "_view_module": "@jupyter-widgets/controls",
            "_view_module_version": "1.5.0",
            "_view_name": "HTMLView",
            "description": "",
            "description_tooltip": null,
            "layout": "IPY_MODEL_50998c71b775458ea339cc7596856966",
            "placeholder": "​",
            "style": "IPY_MODEL_d37236f82c38403283eacd4ef277f7f9",
            "value": "Validation DataLoader 0:   6%"
          }
        },
        "8ce59d89310641968b96abbaf5c538c8": {
          "model_module": "@jupyter-widgets/controls",
          "model_name": "FloatProgressModel",
          "model_module_version": "1.5.0",
          "state": {
            "_dom_classes": [],
            "_model_module": "@jupyter-widgets/controls",
            "_model_module_version": "1.5.0",
            "_model_name": "FloatProgressModel",
            "_view_count": null,
            "_view_module": "@jupyter-widgets/controls",
            "_view_module_version": "1.5.0",
            "_view_name": "ProgressView",
            "bar_style": "",
            "description": "",
            "description_tooltip": null,
            "layout": "IPY_MODEL_420d2ed8e8004e36abba4b02adf8e85c",
            "max": 313,
            "min": 0,
            "orientation": "horizontal",
            "style": "IPY_MODEL_75c7c7accd2942e99d028120f2d43cdd",
            "value": 20
          }
        },
        "66073b695a694c7aaea2ff0b01ceb487": {
          "model_module": "@jupyter-widgets/controls",
          "model_name": "HTMLModel",
          "model_module_version": "1.5.0",
          "state": {
            "_dom_classes": [],
            "_model_module": "@jupyter-widgets/controls",
            "_model_module_version": "1.5.0",
            "_model_name": "HTMLModel",
            "_view_count": null,
            "_view_module": "@jupyter-widgets/controls",
            "_view_module_version": "1.5.0",
            "_view_name": "HTMLView",
            "description": "",
            "description_tooltip": null,
            "layout": "IPY_MODEL_851e23fd6e114b5d85a31bd8e004785d",
            "placeholder": "​",
            "style": "IPY_MODEL_938bf81547044304be13b8436e947402",
            "value": " 20/313 [05:25&lt;1:19:28, 16.27s/it]"
          }
        },
        "bd963b8aac8c4a46b68eb3815e2b74f2": {
          "model_module": "@jupyter-widgets/base",
          "model_name": "LayoutModel",
          "model_module_version": "1.2.0",
          "state": {
            "_model_module": "@jupyter-widgets/base",
            "_model_module_version": "1.2.0",
            "_model_name": "LayoutModel",
            "_view_count": null,
            "_view_module": "@jupyter-widgets/base",
            "_view_module_version": "1.2.0",
            "_view_name": "LayoutView",
            "align_content": null,
            "align_items": null,
            "align_self": null,
            "border": null,
            "bottom": null,
            "display": "inline-flex",
            "flex": null,
            "flex_flow": "row wrap",
            "grid_area": null,
            "grid_auto_columns": null,
            "grid_auto_flow": null,
            "grid_auto_rows": null,
            "grid_column": null,
            "grid_gap": null,
            "grid_row": null,
            "grid_template_areas": null,
            "grid_template_columns": null,
            "grid_template_rows": null,
            "height": null,
            "justify_content": null,
            "justify_items": null,
            "left": null,
            "margin": null,
            "max_height": null,
            "max_width": null,
            "min_height": null,
            "min_width": null,
            "object_fit": null,
            "object_position": null,
            "order": null,
            "overflow": null,
            "overflow_x": null,
            "overflow_y": null,
            "padding": null,
            "right": null,
            "top": null,
            "visibility": null,
            "width": "100%"
          }
        },
        "50998c71b775458ea339cc7596856966": {
          "model_module": "@jupyter-widgets/base",
          "model_name": "LayoutModel",
          "model_module_version": "1.2.0",
          "state": {
            "_model_module": "@jupyter-widgets/base",
            "_model_module_version": "1.2.0",
            "_model_name": "LayoutModel",
            "_view_count": null,
            "_view_module": "@jupyter-widgets/base",
            "_view_module_version": "1.2.0",
            "_view_name": "LayoutView",
            "align_content": null,
            "align_items": null,
            "align_self": null,
            "border": null,
            "bottom": null,
            "display": null,
            "flex": null,
            "flex_flow": null,
            "grid_area": null,
            "grid_auto_columns": null,
            "grid_auto_flow": null,
            "grid_auto_rows": null,
            "grid_column": null,
            "grid_gap": null,
            "grid_row": null,
            "grid_template_areas": null,
            "grid_template_columns": null,
            "grid_template_rows": null,
            "height": null,
            "justify_content": null,
            "justify_items": null,
            "left": null,
            "margin": null,
            "max_height": null,
            "max_width": null,
            "min_height": null,
            "min_width": null,
            "object_fit": null,
            "object_position": null,
            "order": null,
            "overflow": null,
            "overflow_x": null,
            "overflow_y": null,
            "padding": null,
            "right": null,
            "top": null,
            "visibility": null,
            "width": null
          }
        },
        "d37236f82c38403283eacd4ef277f7f9": {
          "model_module": "@jupyter-widgets/controls",
          "model_name": "DescriptionStyleModel",
          "model_module_version": "1.5.0",
          "state": {
            "_model_module": "@jupyter-widgets/controls",
            "_model_module_version": "1.5.0",
            "_model_name": "DescriptionStyleModel",
            "_view_count": null,
            "_view_module": "@jupyter-widgets/base",
            "_view_module_version": "1.2.0",
            "_view_name": "StyleView",
            "description_width": ""
          }
        },
        "420d2ed8e8004e36abba4b02adf8e85c": {
          "model_module": "@jupyter-widgets/base",
          "model_name": "LayoutModel",
          "model_module_version": "1.2.0",
          "state": {
            "_model_module": "@jupyter-widgets/base",
            "_model_module_version": "1.2.0",
            "_model_name": "LayoutModel",
            "_view_count": null,
            "_view_module": "@jupyter-widgets/base",
            "_view_module_version": "1.2.0",
            "_view_name": "LayoutView",
            "align_content": null,
            "align_items": null,
            "align_self": null,
            "border": null,
            "bottom": null,
            "display": null,
            "flex": "2",
            "flex_flow": null,
            "grid_area": null,
            "grid_auto_columns": null,
            "grid_auto_flow": null,
            "grid_auto_rows": null,
            "grid_column": null,
            "grid_gap": null,
            "grid_row": null,
            "grid_template_areas": null,
            "grid_template_columns": null,
            "grid_template_rows": null,
            "height": null,
            "justify_content": null,
            "justify_items": null,
            "left": null,
            "margin": null,
            "max_height": null,
            "max_width": null,
            "min_height": null,
            "min_width": null,
            "object_fit": null,
            "object_position": null,
            "order": null,
            "overflow": null,
            "overflow_x": null,
            "overflow_y": null,
            "padding": null,
            "right": null,
            "top": null,
            "visibility": null,
            "width": null
          }
        },
        "75c7c7accd2942e99d028120f2d43cdd": {
          "model_module": "@jupyter-widgets/controls",
          "model_name": "ProgressStyleModel",
          "model_module_version": "1.5.0",
          "state": {
            "_model_module": "@jupyter-widgets/controls",
            "_model_module_version": "1.5.0",
            "_model_name": "ProgressStyleModel",
            "_view_count": null,
            "_view_module": "@jupyter-widgets/base",
            "_view_module_version": "1.2.0",
            "_view_name": "StyleView",
            "bar_color": null,
            "description_width": ""
          }
        },
        "851e23fd6e114b5d85a31bd8e004785d": {
          "model_module": "@jupyter-widgets/base",
          "model_name": "LayoutModel",
          "model_module_version": "1.2.0",
          "state": {
            "_model_module": "@jupyter-widgets/base",
            "_model_module_version": "1.2.0",
            "_model_name": "LayoutModel",
            "_view_count": null,
            "_view_module": "@jupyter-widgets/base",
            "_view_module_version": "1.2.0",
            "_view_name": "LayoutView",
            "align_content": null,
            "align_items": null,
            "align_self": null,
            "border": null,
            "bottom": null,
            "display": null,
            "flex": null,
            "flex_flow": null,
            "grid_area": null,
            "grid_auto_columns": null,
            "grid_auto_flow": null,
            "grid_auto_rows": null,
            "grid_column": null,
            "grid_gap": null,
            "grid_row": null,
            "grid_template_areas": null,
            "grid_template_columns": null,
            "grid_template_rows": null,
            "height": null,
            "justify_content": null,
            "justify_items": null,
            "left": null,
            "margin": null,
            "max_height": null,
            "max_width": null,
            "min_height": null,
            "min_width": null,
            "object_fit": null,
            "object_position": null,
            "order": null,
            "overflow": null,
            "overflow_x": null,
            "overflow_y": null,
            "padding": null,
            "right": null,
            "top": null,
            "visibility": null,
            "width": null
          }
        },
        "938bf81547044304be13b8436e947402": {
          "model_module": "@jupyter-widgets/controls",
          "model_name": "DescriptionStyleModel",
          "model_module_version": "1.5.0",
          "state": {
            "_model_module": "@jupyter-widgets/controls",
            "_model_module_version": "1.5.0",
            "_model_name": "DescriptionStyleModel",
            "_view_count": null,
            "_view_module": "@jupyter-widgets/base",
            "_view_module_version": "1.2.0",
            "_view_name": "StyleView",
            "description_width": ""
          }
        }
      }
    }
  },
  "nbformat": 4,
  "nbformat_minor": 0
}