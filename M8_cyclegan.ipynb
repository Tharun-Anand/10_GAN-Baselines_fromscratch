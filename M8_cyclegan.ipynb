{
 "cells": [
  {
   "cell_type": "markdown",
   "id": "de916a6d",
   "metadata": {
    "papermill": {
     "duration": 0.014131,
     "end_time": "2023-05-11T04:40:04.302081",
     "exception": false,
     "start_time": "2023-05-11T04:40:04.287950",
     "status": "completed"
    },
    "tags": []
   },
   "source": [
    "# Cycle GAN (pytorch lightning + Weights and Biases)    \n",
    "\n",
    "---  \n",
    "\n",
    "* *Comfort arises from familiarity or precisely knowing where's what!*\n",
    "\n",
    "* So, why not use the same framework for all your CV/AI projects with near perfect experiment logging while being lightning fast?\n",
    "\n",
    "\n",
    "> Aryan Garg   \n",
    "\n",
    "\n",
    "**Note:**\n",
    "1. You'll need an account on [Weights & Biases](https://wandb.ai/site). Don't worry, it's free! \n",
    "\n",
    "**References:**\n",
    "1. [Tutorial: Cycle GAN from Scratch by Song Seung Won](https://www.kaggle.com/code/songseungwon/cyclegan-tutorial-from-scratch-monet-to-photo)"
   ]
  },
  {
   "cell_type": "code",
   "execution_count": 1,
   "id": "98b77f0f",
   "metadata": {
    "execution": {
     "iopub.execute_input": "2023-05-11T04:40:04.331547Z",
     "iopub.status.busy": "2023-05-11T04:40:04.330784Z",
     "iopub.status.idle": "2023-05-11T04:40:04.342131Z",
     "shell.execute_reply": "2023-05-11T04:40:04.341329Z"
    },
    "papermill": {
     "duration": 0.028241,
     "end_time": "2023-05-11T04:40:04.344085",
     "exception": false,
     "start_time": "2023-05-11T04:40:04.315844",
     "status": "completed"
    },
    "tags": []
   },
   "outputs": [],
   "source": [
    "SUBMIT_NB = True"
   ]
  },
  {
   "cell_type": "markdown",
   "id": "72b89db8",
   "metadata": {
    "papermill": {
     "duration": 0.013365,
     "end_time": "2023-05-11T04:40:04.370958",
     "exception": false,
     "start_time": "2023-05-11T04:40:04.357593",
     "status": "completed"
    },
    "tags": []
   },
   "source": [
    "## Imports"
   ]
  },
  {
   "cell_type": "markdown",
   "id": "ae905386",
   "metadata": {
    "papermill": {
     "duration": 0.013223,
     "end_time": "2023-05-11T04:40:04.397677",
     "exception": false,
     "start_time": "2023-05-11T04:40:04.384454",
     "status": "completed"
    },
    "tags": []
   },
   "source": [
    "### wandb (WARNING: interactive cell)"
   ]
  },
  {
   "cell_type": "code",
   "execution_count": 2,
   "id": "e429bcf2",
   "metadata": {
    "execution": {
     "iopub.execute_input": "2023-05-11T04:40:04.427339Z",
     "iopub.status.busy": "2023-05-11T04:40:04.426415Z",
     "iopub.status.idle": "2023-05-11T04:40:04.432105Z",
     "shell.execute_reply": "2023-05-11T04:40:04.431302Z"
    },
    "papermill": {
     "duration": 0.02259,
     "end_time": "2023-05-11T04:40:04.434035",
     "exception": false,
     "start_time": "2023-05-11T04:40:04.411445",
     "status": "completed"
    },
    "tags": []
   },
   "outputs": [],
   "source": [
    "if not SUBMIT_NB:\n",
    "    !pip -qqq install wandb pytorch-lightning torchmetrics\n",
    "\n",
    "    import wandb\n",
    "    from pytorch_lightning.loggers import WandbLogger\n",
    "\n",
    "    wandb.login()"
   ]
  },
  {
   "cell_type": "markdown",
   "id": "83af8d8f",
   "metadata": {
    "papermill": {
     "duration": 0.013356,
     "end_time": "2023-05-11T04:40:04.461048",
     "exception": false,
     "start_time": "2023-05-11T04:40:04.447692",
     "status": "completed"
    },
    "tags": []
   },
   "source": [
    "### Lightning"
   ]
  },
  {
   "cell_type": "code",
   "execution_count": 3,
   "id": "422df426",
   "metadata": {
    "execution": {
     "iopub.execute_input": "2023-05-11T04:40:04.489917Z",
     "iopub.status.busy": "2023-05-11T04:40:04.489620Z",
     "iopub.status.idle": "2023-05-11T04:40:35.974555Z",
     "shell.execute_reply": "2023-05-11T04:40:35.973605Z"
    },
    "papermill": {
     "duration": 31.501967,
     "end_time": "2023-05-11T04:40:35.976957",
     "exception": false,
     "start_time": "2023-05-11T04:40:04.474990",
     "status": "completed"
    },
    "tags": []
   },
   "outputs": [
    {
     "name": "stdout",
     "output_type": "stream",
     "text": [
      "[!] Couldn't find pytorch-lightning.\n",
      "Installing it...\n",
      "\n",
      "Collecting lightning\r\n",
      "  Downloading lightning-2.0.2-py3-none-any.whl (1.8 MB)\r\n",
      "\u001b[2K     \u001b[90m━━━━━━━━━━━━━━━━━━━━━━━━━━━━━━━━━━━━━━━━\u001b[0m \u001b[32m1.8/1.8 MB\u001b[0m \u001b[31m31.5 MB/s\u001b[0m eta \u001b[36m0:00:00\u001b[0m\r\n",
      "\u001b[?25hCollecting fastapi<0.89.0,>=0.69.0\r\n",
      "  Downloading fastapi-0.88.0-py3-none-any.whl (55 kB)\r\n",
      "\u001b[2K     \u001b[90m━━━━━━━━━━━━━━━━━━━━━━━━━━━━━━━━━━━━━━━━\u001b[0m \u001b[32m55.5/55.5 kB\u001b[0m \u001b[31m5.6 MB/s\u001b[0m eta \u001b[36m0:00:00\u001b[0m\r\n",
      "\u001b[?25hCollecting croniter<1.4.0,>=1.3.0\r\n",
      "  Downloading croniter-1.3.14-py2.py3-none-any.whl (18 kB)\r\n",
      "Requirement already satisfied: beautifulsoup4<6.0,>=4.8.0 in /opt/conda/lib/python3.10/site-packages (from lightning) (4.12.2)\r\n",
      "Requirement already satisfied: fsspec<2024.0,>=2022.5.0 in /opt/conda/lib/python3.10/site-packages (from lightning) (2023.4.0)\r\n",
      "Requirement already satisfied: PyYAML<8.0,>=5.4 in /opt/conda/lib/python3.10/site-packages (from lightning) (6.0)\r\n",
      "Requirement already satisfied: click<10.0 in /opt/conda/lib/python3.10/site-packages (from lightning) (8.1.3)\r\n",
      "Collecting deepdiff<8.0,>=5.7.0\r\n",
      "  Downloading deepdiff-6.3.0-py3-none-any.whl (69 kB)\r\n",
      "\u001b[2K     \u001b[90m━━━━━━━━━━━━━━━━━━━━━━━━━━━━━━━━━━━━━━━━\u001b[0m \u001b[32m69.7/69.7 kB\u001b[0m \u001b[31m7.5 MB/s\u001b[0m eta \u001b[36m0:00:00\u001b[0m\r\n",
      "\u001b[?25hRequirement already satisfied: arrow<3.0,>=1.2.0 in /opt/conda/lib/python3.10/site-packages (from lightning) (1.2.3)\r\n",
      "Requirement already satisfied: packaging in /opt/conda/lib/python3.10/site-packages (from lightning) (21.3)\r\n",
      "Requirement already satisfied: psutil<7.0 in /opt/conda/lib/python3.10/site-packages (from lightning) (5.9.4)\r\n",
      "Requirement already satisfied: numpy<3.0,>=1.17.2 in /opt/conda/lib/python3.10/site-packages (from lightning) (1.23.5)\r\n",
      "Requirement already satisfied: rich<15.0,>=12.3.0 in /opt/conda/lib/python3.10/site-packages (from lightning) (13.3.3)\r\n",
      "Requirement already satisfied: pytorch-lightning in /opt/conda/lib/python3.10/site-packages (from lightning) (2.0.1.post0)\r\n",
      "Collecting dateutils<2.0\r\n",
      "  Downloading dateutils-0.6.12-py2.py3-none-any.whl (5.7 kB)\r\n",
      "Requirement already satisfied: lightning-utilities<2.0,>=0.7.0 in /opt/conda/lib/python3.10/site-packages (from lightning) (0.8.0)\r\n",
      "Requirement already satisfied: tqdm<6.0,>=4.57.0 in /opt/conda/lib/python3.10/site-packages (from lightning) (4.64.1)\r\n",
      "Requirement already satisfied: typing-extensions<6.0,>=4.0.0 in /opt/conda/lib/python3.10/site-packages (from lightning) (4.5.0)\r\n",
      "Requirement already satisfied: pydantic<4.0,>=1.7.4 in /opt/conda/lib/python3.10/site-packages (from lightning) (1.10.7)\r\n",
      "Requirement already satisfied: torchmetrics<2.0,>=0.7.0 in /opt/conda/lib/python3.10/site-packages (from lightning) (0.11.4)\r\n",
      "Collecting inquirer<5.0,>=2.10.0\r\n",
      "  Downloading inquirer-3.1.3-py3-none-any.whl (18 kB)\r\n",
      "Requirement already satisfied: traitlets<7.0,>=5.3.0 in /opt/conda/lib/python3.10/site-packages (from lightning) (5.9.0)\r\n",
      "Requirement already satisfied: urllib3<3.0 in /opt/conda/lib/python3.10/site-packages (from lightning) (1.26.15)\r\n",
      "Collecting lightning-cloud>=0.5.34\r\n",
      "  Downloading lightning_cloud-0.5.34-py3-none-any.whl (557 kB)\r\n",
      "\u001b[2K     \u001b[90m━━━━━━━━━━━━━━━━━━━━━━━━━━━━━━━━━━━━━━\u001b[0m \u001b[32m557.1/557.1 kB\u001b[0m \u001b[31m40.3 MB/s\u001b[0m eta \u001b[36m0:00:00\u001b[0m\r\n",
      "\u001b[?25hRequirement already satisfied: starlette in /opt/conda/lib/python3.10/site-packages (from lightning) (0.26.1)\r\n",
      "Collecting starsessions<2.0,>=1.2.1\r\n",
      "  Downloading starsessions-1.3.0-py3-none-any.whl (10 kB)\r\n",
      "Requirement already satisfied: websockets<12.0 in /opt/conda/lib/python3.10/site-packages (from lightning) (11.0.2)\r\n",
      "Requirement already satisfied: Jinja2<5.0 in /opt/conda/lib/python3.10/site-packages (from lightning) (3.1.2)\r\n",
      "Requirement already satisfied: requests<4.0 in /opt/conda/lib/python3.10/site-packages (from lightning) (2.28.2)\r\n",
      "Requirement already satisfied: torch<4.0,>=1.11.0 in /opt/conda/lib/python3.10/site-packages (from lightning) (2.0.0)\r\n",
      "Requirement already satisfied: websocket-client<3.0 in /opt/conda/lib/python3.10/site-packages (from lightning) (1.5.1)\r\n",
      "Requirement already satisfied: uvicorn<2.0 in /opt/conda/lib/python3.10/site-packages (from lightning) (0.21.1)\r\n",
      "Requirement already satisfied: python-dateutil>=2.7.0 in /opt/conda/lib/python3.10/site-packages (from arrow<3.0,>=1.2.0->lightning) (2.8.2)\r\n",
      "Requirement already satisfied: soupsieve>1.2 in /opt/conda/lib/python3.10/site-packages (from beautifulsoup4<6.0,>=4.8.0->lightning) (2.4)\r\n",
      "Requirement already satisfied: pytz in /opt/conda/lib/python3.10/site-packages (from dateutils<2.0->lightning) (2023.3)\r\n",
      "Collecting ordered-set<4.2.0,>=4.0.2\r\n",
      "  Downloading ordered_set-4.1.0-py3-none-any.whl (7.6 kB)\r\n",
      "Collecting starlette\r\n",
      "  Downloading starlette-0.22.0-py3-none-any.whl (64 kB)\r\n",
      "\u001b[2K     \u001b[90m━━━━━━━━━━━━━━━━━━━━━━━━━━━━━━━━━━━━━━━━\u001b[0m \u001b[32m64.3/64.3 kB\u001b[0m \u001b[31m6.4 MB/s\u001b[0m eta \u001b[36m0:00:00\u001b[0m\r\n",
      "\u001b[?25hRequirement already satisfied: anyio<5,>=3.4.0 in /opt/conda/lib/python3.10/site-packages (from starlette->lightning) (3.6.2)\r\n",
      "Requirement already satisfied: aiohttp!=4.0.0a0,!=4.0.0a1 in /opt/conda/lib/python3.10/site-packages (from fsspec<2024.0,>=2022.5.0->lightning) (3.8.4)\r\n",
      "Collecting readchar>=3.0.6\r\n",
      "  Downloading readchar-4.0.5-py3-none-any.whl (8.5 kB)\r\n",
      "Requirement already satisfied: blessed>=1.19.0 in /opt/conda/lib/python3.10/site-packages (from inquirer<5.0,>=2.10.0->lightning) (1.20.0)\r\n",
      "Collecting python-editor>=1.0.4\r\n",
      "  Downloading python_editor-1.0.4-py3-none-any.whl (4.9 kB)\r\n",
      "Requirement already satisfied: MarkupSafe>=2.0 in /opt/conda/lib/python3.10/site-packages (from Jinja2<5.0->lightning) (2.1.2)\r\n",
      "Requirement already satisfied: pyjwt in /opt/conda/lib/python3.10/site-packages (from lightning-cloud>=0.5.34->lightning) (2.6.0)\r\n",
      "Requirement already satisfied: six in /opt/conda/lib/python3.10/site-packages (from lightning-cloud>=0.5.34->lightning) (1.16.0)\r\n",
      "Collecting python-multipart\r\n",
      "  Downloading python_multipart-0.0.6-py3-none-any.whl (45 kB)\r\n",
      "\u001b[2K     \u001b[90m━━━━━━━━━━━━━━━━━━━━━━━━━━━━━━━━━━━━━━━━\u001b[0m \u001b[32m45.7/45.7 kB\u001b[0m \u001b[31m4.2 MB/s\u001b[0m eta \u001b[36m0:00:00\u001b[0m\r\n",
      "\u001b[?25hRequirement already satisfied: pyparsing!=3.0.5,>=2.0.2 in /opt/conda/lib/python3.10/site-packages (from packaging->lightning) (3.0.9)\r\n",
      "Requirement already satisfied: charset-normalizer<4,>=2 in /opt/conda/lib/python3.10/site-packages (from requests<4.0->lightning) (2.1.1)\r\n",
      "Requirement already satisfied: idna<4,>=2.5 in /opt/conda/lib/python3.10/site-packages (from requests<4.0->lightning) (3.4)\r\n",
      "Requirement already satisfied: certifi>=2017.4.17 in /opt/conda/lib/python3.10/site-packages (from requests<4.0->lightning) (2022.12.7)\r\n",
      "Requirement already satisfied: pygments<3.0.0,>=2.13.0 in /opt/conda/lib/python3.10/site-packages (from rich<15.0,>=12.3.0->lightning) (2.15.0)\r\n",
      "Requirement already satisfied: markdown-it-py<3.0.0,>=2.2.0 in /opt/conda/lib/python3.10/site-packages (from rich<15.0,>=12.3.0->lightning) (2.2.0)\r\n",
      "Requirement already satisfied: itsdangerous<3.0.0,>=2.0.1 in /opt/conda/lib/python3.10/site-packages (from starsessions<2.0,>=1.2.1->lightning) (2.1.2)\r\n",
      "Requirement already satisfied: sympy in /opt/conda/lib/python3.10/site-packages (from torch<4.0,>=1.11.0->lightning) (1.11.1)\r\n",
      "Requirement already satisfied: networkx in /opt/conda/lib/python3.10/site-packages (from torch<4.0,>=1.11.0->lightning) (3.1)\r\n",
      "Requirement already satisfied: filelock in /opt/conda/lib/python3.10/site-packages (from torch<4.0,>=1.11.0->lightning) (3.11.0)\r\n",
      "Requirement already satisfied: h11>=0.8 in /opt/conda/lib/python3.10/site-packages (from uvicorn<2.0->lightning) (0.14.0)\r\n",
      "Requirement already satisfied: frozenlist>=1.1.1 in /opt/conda/lib/python3.10/site-packages (from aiohttp!=4.0.0a0,!=4.0.0a1->fsspec<2024.0,>=2022.5.0->lightning) (1.3.3)\r\n",
      "Requirement already satisfied: attrs>=17.3.0 in /opt/conda/lib/python3.10/site-packages (from aiohttp!=4.0.0a0,!=4.0.0a1->fsspec<2024.0,>=2022.5.0->lightning) (22.2.0)\r\n",
      "Requirement already satisfied: aiosignal>=1.1.2 in /opt/conda/lib/python3.10/site-packages (from aiohttp!=4.0.0a0,!=4.0.0a1->fsspec<2024.0,>=2022.5.0->lightning) (1.3.1)\r\n",
      "Requirement already satisfied: yarl<2.0,>=1.0 in /opt/conda/lib/python3.10/site-packages (from aiohttp!=4.0.0a0,!=4.0.0a1->fsspec<2024.0,>=2022.5.0->lightning) (1.8.2)\r\n",
      "Requirement already satisfied: multidict<7.0,>=4.5 in /opt/conda/lib/python3.10/site-packages (from aiohttp!=4.0.0a0,!=4.0.0a1->fsspec<2024.0,>=2022.5.0->lightning) (6.0.4)\r\n",
      "Requirement already satisfied: async-timeout<5.0,>=4.0.0a3 in /opt/conda/lib/python3.10/site-packages (from aiohttp!=4.0.0a0,!=4.0.0a1->fsspec<2024.0,>=2022.5.0->lightning) (4.0.2)\r\n",
      "Requirement already satisfied: sniffio>=1.1 in /opt/conda/lib/python3.10/site-packages (from anyio<5,>=3.4.0->starlette->lightning) (1.3.0)\r\n",
      "Requirement already satisfied: wcwidth>=0.1.4 in /opt/conda/lib/python3.10/site-packages (from blessed>=1.19.0->inquirer<5.0,>=2.10.0->lightning) (0.2.6)\r\n",
      "Requirement already satisfied: mdurl~=0.1 in /opt/conda/lib/python3.10/site-packages (from markdown-it-py<3.0.0,>=2.2.0->rich<15.0,>=12.3.0->lightning) (0.1.2)\r\n",
      "Requirement already satisfied: setuptools>=41.0 in /opt/conda/lib/python3.10/site-packages (from readchar>=3.0.6->inquirer<5.0,>=2.10.0->lightning) (59.8.0)\r\n",
      "Requirement already satisfied: mpmath>=0.19 in /opt/conda/lib/python3.10/site-packages (from sympy->torch<4.0,>=1.11.0->lightning) (1.3.0)\r\n",
      "Installing collected packages: python-editor, readchar, python-multipart, ordered-set, starlette, inquirer, deepdiff, dateutils, croniter, starsessions, fastapi, lightning-cloud, lightning\r\n",
      "  Attempting uninstall: starlette\r\n",
      "    Found existing installation: starlette 0.26.1\r\n",
      "    Uninstalling starlette-0.26.1:\r\n",
      "      Successfully uninstalled starlette-0.26.1\r\n",
      "  Attempting uninstall: fastapi\r\n",
      "    Found existing installation: fastapi 0.95.0\r\n",
      "    Uninstalling fastapi-0.95.0:\r\n",
      "      Successfully uninstalled fastapi-0.95.0\r\n",
      "Successfully installed croniter-1.3.14 dateutils-0.6.12 deepdiff-6.3.0 fastapi-0.88.0 inquirer-3.1.3 lightning-2.0.2 lightning-cloud-0.5.34 ordered-set-4.1.0 python-editor-1.0.4 python-multipart-0.0.6 readchar-4.0.5 starlette-0.22.0 starsessions-1.3.0\r\n",
      "\u001b[33mWARNING: Running pip as the 'root' user can result in broken permissions and conflicting behaviour with the system package manager. It is recommended to use a virtual environment instead: https://pip.pypa.io/warnings/venv\u001b[0m\u001b[33m\r\n",
      "\u001b[0m"
     ]
    },
    {
     "name": "stderr",
     "output_type": "stream",
     "text": [
      "/opt/conda/lib/python3.10/site-packages/scipy/__init__.py:146: UserWarning: A NumPy version >=1.16.5 and <1.23.0 is required for this version of SciPy (detected version 1.23.5\n",
      "  warnings.warn(f\"A NumPy version >={np_minversion} and <{np_maxversion}\"\n"
     ]
    }
   ],
   "source": [
    "try:\n",
    "    import lightning.pytorch as pl\n",
    "except:\n",
    "    print(\"[!] Couldn't find pytorch-lightning.\\nInstalling it...\\n\")\n",
    "    !pip install lightning\n",
    "    import lightning.pytorch as pl"
   ]
  },
  {
   "cell_type": "code",
   "execution_count": 4,
   "id": "3638adbb",
   "metadata": {
    "execution": {
     "iopub.execute_input": "2023-05-11T04:40:36.012202Z",
     "iopub.status.busy": "2023-05-11T04:40:36.011882Z",
     "iopub.status.idle": "2023-05-11T04:40:36.016451Z",
     "shell.execute_reply": "2023-05-11T04:40:36.015448Z"
    },
    "papermill": {
     "duration": 0.024749,
     "end_time": "2023-05-11T04:40:36.018748",
     "exception": false,
     "start_time": "2023-05-11T04:40:35.993999",
     "status": "completed"
    },
    "tags": []
   },
   "outputs": [],
   "source": [
    "from lightning.pytorch.utilities.model_summary import ModelSummary"
   ]
  },
  {
   "cell_type": "code",
   "execution_count": 5,
   "id": "0e373f2c",
   "metadata": {
    "execution": {
     "iopub.execute_input": "2023-05-11T04:40:36.053460Z",
     "iopub.status.busy": "2023-05-11T04:40:36.053161Z",
     "iopub.status.idle": "2023-05-11T04:40:37.248850Z",
     "shell.execute_reply": "2023-05-11T04:40:37.247902Z"
    },
    "papermill": {
     "duration": 1.215792,
     "end_time": "2023-05-11T04:40:37.251181",
     "exception": false,
     "start_time": "2023-05-11T04:40:36.035389",
     "status": "completed"
    },
    "tags": []
   },
   "outputs": [],
   "source": [
    "from pytorch_lightning import seed_everything"
   ]
  },
  {
   "cell_type": "markdown",
   "id": "40925227",
   "metadata": {
    "papermill": {
     "duration": 0.01642,
     "end_time": "2023-05-11T04:40:37.286642",
     "exception": false,
     "start_time": "2023-05-11T04:40:37.270222",
     "status": "completed"
    },
    "tags": []
   },
   "source": [
    "### Standard imports"
   ]
  },
  {
   "cell_type": "code",
   "execution_count": 6,
   "id": "1e2f7318",
   "metadata": {
    "execution": {
     "iopub.execute_input": "2023-05-11T04:40:37.321629Z",
     "iopub.status.busy": "2023-05-11T04:40:37.320936Z",
     "iopub.status.idle": "2023-05-11T04:40:37.497373Z",
     "shell.execute_reply": "2023-05-11T04:40:37.496416Z"
    },
    "papermill": {
     "duration": 0.196859,
     "end_time": "2023-05-11T04:40:37.500036",
     "exception": false,
     "start_time": "2023-05-11T04:40:37.303177",
     "status": "completed"
    },
    "tags": []
   },
   "outputs": [],
   "source": [
    "import os\n",
    "import shutil\n",
    "import pathlib\n",
    "\n",
    "import PIL\n",
    "from PIL import Image\n",
    "import numpy as np\n",
    "import cv2 as cv\n",
    "import random\n",
    "import matplotlib.pyplot as plt\n",
    "from tqdm.auto import tqdm\n",
    "\n",
    "import torch\n",
    "import torch.nn as nn\n",
    "import torch.nn.functional as F\n",
    "from torch import optim\n",
    "\n",
    "from torch.utils.data import Dataset, DataLoader, random_split\n",
    "\n",
    "import torchvision\n",
    "from torchvision import datasets"
   ]
  },
  {
   "cell_type": "code",
   "execution_count": 7,
   "id": "2ddde38b",
   "metadata": {
    "execution": {
     "iopub.execute_input": "2023-05-11T04:40:37.536145Z",
     "iopub.status.busy": "2023-05-11T04:40:37.535217Z",
     "iopub.status.idle": "2023-05-11T04:40:37.540854Z",
     "shell.execute_reply": "2023-05-11T04:40:37.539986Z"
    },
    "papermill": {
     "duration": 0.025721,
     "end_time": "2023-05-11T04:40:37.542798",
     "exception": false,
     "start_time": "2023-05-11T04:40:37.517077",
     "status": "completed"
    },
    "tags": []
   },
   "outputs": [],
   "source": [
    "import torchvision.transforms as T\n",
    "from torchvision.transforms import Compose, ToTensor, Resize\n",
    "from torchvision.utils import make_grid"
   ]
  },
  {
   "cell_type": "markdown",
   "id": "d92d41e3",
   "metadata": {
    "papermill": {
     "duration": 0.016465,
     "end_time": "2023-05-11T04:40:37.576255",
     "exception": false,
     "start_time": "2023-05-11T04:40:37.559790",
     "status": "completed"
    },
    "tags": []
   },
   "source": [
    "### Torchmetrics \n",
    "\n",
    "*Not needed.*     \n",
    "\n",
    "But just in case if we decide to use a metric to draw some insights!      \n",
    "\n",
    "Especially: FID since the competition evaluates on **Memorization-Informed FID**"
   ]
  },
  {
   "cell_type": "code",
   "execution_count": 8,
   "id": "99a51bd7",
   "metadata": {
    "execution": {
     "iopub.execute_input": "2023-05-11T04:40:37.611703Z",
     "iopub.status.busy": "2023-05-11T04:40:37.611353Z",
     "iopub.status.idle": "2023-05-11T04:40:37.616622Z",
     "shell.execute_reply": "2023-05-11T04:40:37.615557Z"
    },
    "papermill": {
     "duration": 0.025584,
     "end_time": "2023-05-11T04:40:37.618773",
     "exception": false,
     "start_time": "2023-05-11T04:40:37.593189",
     "status": "completed"
    },
    "tags": []
   },
   "outputs": [],
   "source": [
    "try:\n",
    "    import torchmetrics\n",
    "except:\n",
    "    print(f\"[!] Torchmetrics couldn't be imported.\\nInstalling...\")\n",
    "    !pip install torchmetrics"
   ]
  },
  {
   "cell_type": "markdown",
   "id": "9bd11fba",
   "metadata": {
    "papermill": {
     "duration": 0.016476,
     "end_time": "2023-05-11T04:40:37.652451",
     "exception": false,
     "start_time": "2023-05-11T04:40:37.635975",
     "status": "completed"
    },
    "tags": []
   },
   "source": [
    "### Custom Utilities (Not many lol)"
   ]
  },
  {
   "cell_type": "code",
   "execution_count": 9,
   "id": "4db57458",
   "metadata": {
    "execution": {
     "iopub.execute_input": "2023-05-11T04:40:37.687212Z",
     "iopub.status.busy": "2023-05-11T04:40:37.686856Z",
     "iopub.status.idle": "2023-05-11T04:40:37.692286Z",
     "shell.execute_reply": "2023-05-11T04:40:37.691396Z"
    },
    "papermill": {
     "duration": 0.025349,
     "end_time": "2023-05-11T04:40:37.694259",
     "exception": false,
     "start_time": "2023-05-11T04:40:37.668910",
     "status": "completed"
    },
    "tags": []
   },
   "outputs": [],
   "source": [
    "# Folder Utilities ----------------------------\n",
    "\n",
    "## Create dir if it doesn't exist\n",
    "def create_dir(dir_name):\n",
    "    if not os.path.exists(f'/content/{dir_name}'):\n",
    "        os.mkdir(f'/content/{dir_name}')\n",
    "\n",
    "## Delete dir: checkpoints\n",
    "def delete_dir(dir_name):\n",
    "    if os.path.isdir(f'/content/{dir_name}'):\n",
    "        shutil.rmtree(f'/content/{dir_name}')"
   ]
  },
  {
   "cell_type": "markdown",
   "id": "c7ceb6a5",
   "metadata": {
    "papermill": {
     "duration": 0.016178,
     "end_time": "2023-05-11T04:40:37.727017",
     "exception": false,
     "start_time": "2023-05-11T04:40:37.710839",
     "status": "completed"
    },
    "tags": []
   },
   "source": [
    "--- \n",
    "\n",
    "## Config File (logged to wandb), Seeds & Devices"
   ]
  },
  {
   "cell_type": "code",
   "execution_count": 10,
   "id": "4d9d264c",
   "metadata": {
    "execution": {
     "iopub.execute_input": "2023-05-11T04:40:37.762432Z",
     "iopub.status.busy": "2023-05-11T04:40:37.760849Z",
     "iopub.status.idle": "2023-05-11T04:40:37.767391Z",
     "shell.execute_reply": "2023-05-11T04:40:37.766583Z"
    },
    "papermill": {
     "duration": 0.026021,
     "end_time": "2023-05-11T04:40:37.769374",
     "exception": false,
     "start_time": "2023-05-11T04:40:37.743353",
     "status": "completed"
    },
    "tags": []
   },
   "outputs": [],
   "source": [
    "# Log this config file to wandb\n",
    "CONFIG = dict(\n",
    "    seed=42,\n",
    "    DATA_ROOT = '/kaggle/input/gan-getting-started/',\n",
    "    BATCH_SIZE = 32,\n",
    "    WORKERS = 2,\n",
    "    IMG_SIZE = (256,256,3),\n",
    "    NUM_EPOCHS = 20,\n",
    "    lr = 0.0002,\n",
    "    b1 = 0.5,\n",
    "    b2 = 0.999,\n",
    "    disc_steps=1,\n",
    "    checkpoint_path='/kaggle/working/',\n",
    "    )"
   ]
  },
  {
   "cell_type": "code",
   "execution_count": 11,
   "id": "9c13543b",
   "metadata": {
    "execution": {
     "iopub.execute_input": "2023-05-11T04:40:37.804846Z",
     "iopub.status.busy": "2023-05-11T04:40:37.803435Z",
     "iopub.status.idle": "2023-05-11T04:40:37.816345Z",
     "shell.execute_reply": "2023-05-11T04:40:37.815471Z"
    },
    "papermill": {
     "duration": 0.03236,
     "end_time": "2023-05-11T04:40:37.818325",
     "exception": false,
     "start_time": "2023-05-11T04:40:37.785965",
     "status": "completed"
    },
    "tags": []
   },
   "outputs": [
    {
     "data": {
      "text/plain": [
       "42"
      ]
     },
     "execution_count": 11,
     "metadata": {},
     "output_type": "execute_result"
    }
   ],
   "source": [
    "seed_everything(CONFIG['seed'])"
   ]
  },
  {
   "cell_type": "code",
   "execution_count": 12,
   "id": "09965872",
   "metadata": {
    "execution": {
     "iopub.execute_input": "2023-05-11T04:40:37.854214Z",
     "iopub.status.busy": "2023-05-11T04:40:37.852739Z",
     "iopub.status.idle": "2023-05-11T04:40:37.868505Z",
     "shell.execute_reply": "2023-05-11T04:40:37.867565Z"
    },
    "papermill": {
     "duration": 0.035408,
     "end_time": "2023-05-11T04:40:37.870462",
     "exception": false,
     "start_time": "2023-05-11T04:40:37.835054",
     "status": "completed"
    },
    "tags": []
   },
   "outputs": [
    {
     "data": {
      "text/plain": [
       "device(type='cuda')"
      ]
     },
     "execution_count": 12,
     "metadata": {},
     "output_type": "execute_result"
    }
   ],
   "source": [
    "# device = torch.device('cpu')\n",
    "if torch.cuda.is_available():\n",
    "    device = torch.device('cuda')\n",
    "else:\n",
    "    device = torch.device('cpu')\n",
    "\n",
    "device"
   ]
  },
  {
   "cell_type": "markdown",
   "id": "92b0ccdf",
   "metadata": {
    "papermill": {
     "duration": 0.016605,
     "end_time": "2023-05-11T04:40:37.903795",
     "exception": false,
     "start_time": "2023-05-11T04:40:37.887190",
     "status": "completed"
    },
    "tags": []
   },
   "source": [
    "---   \n",
    "\n",
    "## Transforms"
   ]
  },
  {
   "cell_type": "code",
   "execution_count": 13,
   "id": "bd3c8c89",
   "metadata": {
    "execution": {
     "iopub.execute_input": "2023-05-11T04:40:37.939826Z",
     "iopub.status.busy": "2023-05-11T04:40:37.938270Z",
     "iopub.status.idle": "2023-05-11T04:40:37.943769Z",
     "shell.execute_reply": "2023-05-11T04:40:37.942912Z"
    },
    "papermill": {
     "duration": 0.025279,
     "end_time": "2023-05-11T04:40:37.945670",
     "exception": false,
     "start_time": "2023-05-11T04:40:37.920391",
     "status": "completed"
    },
    "tags": []
   },
   "outputs": [],
   "source": [
    "train_transform_album = Compose([T.Resize((256,256)),ToTensor()])\n",
    "#         A.SmallestMaxSize(max_size=160),\n",
    "#         A.ShiftScaleRotate(shift_limit=0.05, scale_limit=0.05, rotate_limit=15, p=0.5),\n",
    "#         A.RandomCrop(height=128, width=128),\n",
    "#         A.RGBShift(r_shift_limit=15, g_shift_limit=15, b_shift_limit=15, p=0.5),\n",
    "#         A.RandomBrightnessContrast(p=0.5),\n",
    "#         A.Normalize(mean=(0.485, 0.456, 0.406), std=(0.229, 0.224, 0.225)),"
   ]
  },
  {
   "cell_type": "markdown",
   "id": "8628353a",
   "metadata": {
    "papermill": {
     "duration": 0.016497,
     "end_time": "2023-05-11T04:40:37.979134",
     "exception": false,
     "start_time": "2023-05-11T04:40:37.962637",
     "status": "completed"
    },
    "tags": []
   },
   "source": [
    "---  \n",
    "\n",
    "## Dataset   \n",
    "\n",
    "### !! Use LightningDataModule this time? !!\n",
    "\n",
    "\n",
    "**Reqs:**\n",
    "1. Sort images and load aligned dataset (domA_img, domB_img)"
   ]
  },
  {
   "cell_type": "code",
   "execution_count": 14,
   "id": "954db846",
   "metadata": {
    "execution": {
     "iopub.execute_input": "2023-05-11T04:40:38.015752Z",
     "iopub.status.busy": "2023-05-11T04:40:38.013971Z",
     "iopub.status.idle": "2023-05-11T04:40:38.023512Z",
     "shell.execute_reply": "2023-05-11T04:40:38.022641Z"
    },
    "papermill": {
     "duration": 0.029581,
     "end_time": "2023-05-11T04:40:38.025545",
     "exception": false,
     "start_time": "2023-05-11T04:40:37.995964",
     "status": "completed"
    },
    "tags": []
   },
   "outputs": [],
   "source": [
    "class MonetDataset(Dataset):\n",
    "    def __init__(self, \n",
    "                 root_dir: str = None, \n",
    "                 cust_transform = Compose([ToTensor()]), \n",
    "                 isTrain: bool = True):\n",
    "        \n",
    "        super(MonetDataset).__init__()\n",
    "        self.root = root_dir\n",
    "        self.files_Y = os.listdir(self.root+\"monet_jpg/\")\n",
    "        start = np.random.randint(0,6701)\n",
    "        end = start+300\n",
    "        self.files_X = os.listdir(self.root+\"photo_jpg/\")[start:end]\n",
    "        self.transform = cust_transform\n",
    "        self.isTrain = isTrain\n",
    "        \n",
    "    def __getitem__(self, idx):\n",
    "        photo_X = Image.open(self.root+\"photo_jpg/\"+self.files_X[idx])\n",
    "        photo_Y = Image.open(self.root+\"monet_jpg/\"+self.files_Y[idx])\n",
    "        \n",
    "        item_X = self.transform(photo_X)\n",
    "        item_Y = self.transform(photo_Y)\n",
    "        \n",
    "        return (item_X, item_Y) # Photo , Monet\n",
    "    \n",
    "    def __len__(self):\n",
    "#         print(\"Monet:\",len(self.files_Y),\"Photo:\",len(self.files_X))\n",
    "        return max(len(self.files_Y), len(self.files_X))"
   ]
  },
  {
   "cell_type": "code",
   "execution_count": 15,
   "id": "9496e56d",
   "metadata": {
    "execution": {
     "iopub.execute_input": "2023-05-11T04:40:38.060871Z",
     "iopub.status.busy": "2023-05-11T04:40:38.060528Z",
     "iopub.status.idle": "2023-05-11T04:40:38.066126Z",
     "shell.execute_reply": "2023-05-11T04:40:38.065259Z"
    },
    "papermill": {
     "duration": 0.025811,
     "end_time": "2023-05-11T04:40:38.068141",
     "exception": false,
     "start_time": "2023-05-11T04:40:38.042330",
     "status": "completed"
    },
    "tags": []
   },
   "outputs": [],
   "source": [
    "if not SUBMIT_NB:\n",
    "    all_data = MonetDataset(CONFIG['DATA_ROOT'], cust_transform=train_transform_album)\n",
    "    real, monet = next(iter(all_data))\n",
    "\n",
    "    image_grid = torch.cat((real, monet), 1)\n",
    "    plt.imshow(image_grid.cpu().permute(1,2,0))\n",
    "    plt.title(\"top: real | bottom: monet\")\n",
    "    plt.axis('off')\n",
    "    plt.show()"
   ]
  },
  {
   "cell_type": "code",
   "execution_count": 16,
   "id": "e86ea63e",
   "metadata": {
    "execution": {
     "iopub.execute_input": "2023-05-11T04:40:38.104375Z",
     "iopub.status.busy": "2023-05-11T04:40:38.102819Z",
     "iopub.status.idle": "2023-05-11T04:40:38.107978Z",
     "shell.execute_reply": "2023-05-11T04:40:38.107119Z"
    },
    "papermill": {
     "duration": 0.024991,
     "end_time": "2023-05-11T04:40:38.109960",
     "exception": false,
     "start_time": "2023-05-11T04:40:38.084969",
     "status": "completed"
    },
    "tags": []
   },
   "outputs": [],
   "source": [
    "if not SUBMIT_NB:\n",
    "    print(real.shape, real.dtype)\n",
    "    print(len(all_data))"
   ]
  },
  {
   "cell_type": "code",
   "execution_count": 17,
   "id": "9565a4c1",
   "metadata": {
    "execution": {
     "iopub.execute_input": "2023-05-11T04:40:38.144984Z",
     "iopub.status.busy": "2023-05-11T04:40:38.144650Z",
     "iopub.status.idle": "2023-05-11T04:40:38.152508Z",
     "shell.execute_reply": "2023-05-11T04:40:38.151641Z"
    },
    "papermill": {
     "duration": 0.027609,
     "end_time": "2023-05-11T04:40:38.154503",
     "exception": false,
     "start_time": "2023-05-11T04:40:38.126894",
     "status": "completed"
    },
    "tags": []
   },
   "outputs": [],
   "source": [
    "class MonetDataModule(pl.LightningDataModule):\n",
    "    def __init__(self, data_dir: str = None, batch_size: int = 1):\n",
    "        super().__init__()\n",
    "        self.data_dir = data_dir\n",
    "        self.batch_size = batch_size\n",
    "        \n",
    "    def prepare_data(self):\n",
    "        pass\n",
    "\n",
    "    def setup(self, stage: str):\n",
    "        if stage == 'fit':\n",
    "            self.train_data = MonetDataset(CONFIG['DATA_ROOT'], isTrain=True)\n",
    "        elif stage == 'test': \n",
    "            # Not implemented anything different from above (training dataset)... \n",
    "            # This is just to highlight how the datamodule can be used for general purposes.\n",
    "            self.test_data = MonetDataset(CONFIG['DATA_ROOT'], isTrain=False)\n",
    "            \n",
    "    def train_dataloader(self):\n",
    "        return DataLoader(self.train_data, shuffle=True, batch_size=self.batch_size)\n",
    "    \n",
    "    def test_dataloader(self):\n",
    "        return DataLoader(self.test_data, shuffle=True, batch_size=self.batch_size)\n",
    "\n",
    "    def teardown(self, stage: str):\n",
    "        pass"
   ]
  },
  {
   "cell_type": "markdown",
   "id": "d8faf0b1",
   "metadata": {
    "papermill": {
     "duration": 0.016448,
     "end_time": "2023-05-11T04:40:38.187737",
     "exception": false,
     "start_time": "2023-05-11T04:40:38.171289",
     "status": "completed"
    },
    "tags": []
   },
   "source": [
    "---   \n",
    "\n",
    "## Architecture"
   ]
  },
  {
   "cell_type": "code",
   "execution_count": 18,
   "id": "54217947",
   "metadata": {
    "execution": {
     "iopub.execute_input": "2023-05-11T04:40:38.223481Z",
     "iopub.status.busy": "2023-05-11T04:40:38.222037Z",
     "iopub.status.idle": "2023-05-11T04:40:49.737711Z",
     "shell.execute_reply": "2023-05-11T04:40:49.736470Z"
    },
    "papermill": {
     "duration": 11.536099,
     "end_time": "2023-05-11T04:40:49.740382",
     "exception": false,
     "start_time": "2023-05-11T04:40:38.204283",
     "status": "completed"
    },
    "tags": []
   },
   "outputs": [
    {
     "name": "stdout",
     "output_type": "stream",
     "text": [
      "Collecting torchsummary\r\n",
      "  Downloading torchsummary-1.5.1-py3-none-any.whl (2.8 kB)\r\n",
      "Installing collected packages: torchsummary\r\n",
      "Successfully installed torchsummary-1.5.1\r\n",
      "\u001b[33mWARNING: Running pip as the 'root' user can result in broken permissions and conflicting behaviour with the system package manager. It is recommended to use a virtual environment instead: https://pip.pypa.io/warnings/venv\u001b[0m\u001b[33m\r\n",
      "\u001b[0m"
     ]
    }
   ],
   "source": [
    "!pip install torchsummary"
   ]
  },
  {
   "cell_type": "code",
   "execution_count": 19,
   "id": "eb5a1b1d",
   "metadata": {
    "execution": {
     "iopub.execute_input": "2023-05-11T04:40:49.777017Z",
     "iopub.status.busy": "2023-05-11T04:40:49.776660Z",
     "iopub.status.idle": "2023-05-11T04:40:49.786157Z",
     "shell.execute_reply": "2023-05-11T04:40:49.785272Z"
    },
    "papermill": {
     "duration": 0.030136,
     "end_time": "2023-05-11T04:40:49.788150",
     "exception": false,
     "start_time": "2023-05-11T04:40:49.758014",
     "status": "completed"
    },
    "tags": []
   },
   "outputs": [],
   "source": [
    "from torchvision import models\n",
    "from torchsummary import summary"
   ]
  },
  {
   "cell_type": "markdown",
   "id": "6c766514",
   "metadata": {
    "papermill": {
     "duration": 0.017261,
     "end_time": "2023-05-11T04:40:49.822504",
     "exception": false,
     "start_time": "2023-05-11T04:40:49.805243",
     "status": "completed"
    },
    "tags": []
   },
   "source": [
    "### Residual Generator"
   ]
  },
  {
   "cell_type": "markdown",
   "id": "924f578a",
   "metadata": {
    "papermill": {
     "duration": 0.016901,
     "end_time": "2023-05-11T04:40:49.856607",
     "exception": false,
     "start_time": "2023-05-11T04:40:49.839706",
     "status": "completed"
    },
    "tags": []
   },
   "source": [
    "Note to self:    \n",
    "\n",
    "nn.conv2d(in_f, out_f, k,s,p)    \n",
    "\n",
    "k -> kernel_size    \n",
    "s -> stride (default: 1)    \n",
    "p -> padding (default: 0)  "
   ]
  },
  {
   "cell_type": "code",
   "execution_count": 20,
   "id": "8a62ee64",
   "metadata": {
    "execution": {
     "iopub.execute_input": "2023-05-11T04:40:49.893089Z",
     "iopub.status.busy": "2023-05-11T04:40:49.892089Z",
     "iopub.status.idle": "2023-05-11T04:40:49.899465Z",
     "shell.execute_reply": "2023-05-11T04:40:49.898617Z"
    },
    "papermill": {
     "duration": 0.027542,
     "end_time": "2023-05-11T04:40:49.901322",
     "exception": false,
     "start_time": "2023-05-11T04:40:49.873780",
     "status": "completed"
    },
    "tags": []
   },
   "outputs": [],
   "source": [
    "class ResBlk(nn.Module):\n",
    "    def __init__(self, in_features):\n",
    "        super().__init__()\n",
    "        self.model = nn.Sequential(\n",
    "            # Alpha blk begin --------------\n",
    "            nn.ReflectionPad2d(1),\n",
    "            nn.Conv2d(in_features, in_features, 3, 1, 0),\n",
    "            nn.InstanceNorm2d(in_features),\n",
    "            # Alpha blk end   --------------\n",
    "            nn.ReLU(inplace=True),\n",
    "            nn.ReflectionPad2d(1),\n",
    "            nn.Conv2d(in_features, in_features, 3, 1, 0),\n",
    "            nn.InstanceNorm2d(in_features),\n",
    "        )\n",
    "    \n",
    "    def forward(self, x):\n",
    "        return self.model(x) + x"
   ]
  },
  {
   "cell_type": "code",
   "execution_count": 21,
   "id": "b52f2048",
   "metadata": {
    "execution": {
     "iopub.execute_input": "2023-05-11T04:40:49.937374Z",
     "iopub.status.busy": "2023-05-11T04:40:49.936529Z",
     "iopub.status.idle": "2023-05-11T04:40:49.947926Z",
     "shell.execute_reply": "2023-05-11T04:40:49.947057Z"
    },
    "papermill": {
     "duration": 0.031381,
     "end_time": "2023-05-11T04:40:49.949910",
     "exception": false,
     "start_time": "2023-05-11T04:40:49.918529",
     "status": "completed"
    },
    "tags": []
   },
   "outputs": [],
   "source": [
    "class ResGen(nn.Module):\n",
    "    def __init__(self, channels, out_features=64, num_residual_blocks=9):\n",
    "        super().__init__()\n",
    "        self.c = channels\n",
    "        self.out_f = out_features\n",
    "        self.num_resBlks = num_residual_blocks\n",
    "        \n",
    "        # Alpha blk\n",
    "        self.model = [nn.ReflectionPad2d(self.c), \n",
    "                      nn.Conv2d(self.c, self.out_f, 7, 1, 0), \n",
    "                      nn.InstanceNorm2d(self.out_f)]\n",
    "        self.model += [nn.ReLU(inplace=True)]\n",
    "        \n",
    "        # Downsampler: Add 2 Beta blocks\n",
    "        out_f2 = None\n",
    "        for i in range(2):\n",
    "            out_f2 = 2*self.out_f\n",
    "            self.model += [nn.Conv2d(self.out_f, out_f2, 3,2,1), \n",
    "                           nn.InstanceNorm2d(out_f2), \n",
    "                           nn.ReLU(inplace=True)]\n",
    "            self.out_f = out_f2\n",
    "            \n",
    "        # Add residual blocks defined in the cell above\n",
    "        for i in range(self.num_resBlks):\n",
    "            self.model += [ResBlk(in_features=out_f2)]\n",
    "            \n",
    "        # Upsampler: Add 2 Gamma Blocks\n",
    "        in_up = out_f2\n",
    "        for i in range(2):\n",
    "            out_f2 //= 2\n",
    "            self.model += [nn.Upsample(scale_factor=2),\n",
    "                           nn.Conv2d(in_up, out_f2, 3,1,1),\n",
    "                           nn.ReLU(inplace=True)\n",
    "                          ]\n",
    "            in_up = out_f2\n",
    "            \n",
    "        # Output layer:\n",
    "        self.model += [nn.ReflectionPad2d(self.c), \n",
    "                       nn.Conv2d(out_f2, self.c ,7, 1, 0), \n",
    "                       nn.Tanh()]\n",
    "        \n",
    "        self.model = nn.Sequential(*self.model)\n",
    "        \n",
    "    def forward(self, x):\n",
    "        return self.model(x)"
   ]
  },
  {
   "cell_type": "code",
   "execution_count": 22,
   "id": "8f9bb298",
   "metadata": {
    "execution": {
     "iopub.execute_input": "2023-05-11T04:40:49.986190Z",
     "iopub.status.busy": "2023-05-11T04:40:49.985277Z",
     "iopub.status.idle": "2023-05-11T04:40:57.340548Z",
     "shell.execute_reply": "2023-05-11T04:40:57.336913Z"
    },
    "papermill": {
     "duration": 7.37551,
     "end_time": "2023-05-11T04:40:57.342769",
     "exception": false,
     "start_time": "2023-05-11T04:40:49.967259",
     "status": "completed"
    },
    "tags": []
   },
   "outputs": [
    {
     "name": "stdout",
     "output_type": "stream",
     "text": [
      "----------------------------------------------------------------\n",
      "        Layer (type)               Output Shape         Param #\n",
      "================================================================\n",
      "   ReflectionPad2d-1          [-1, 3, 262, 262]               0\n",
      "            Conv2d-2         [-1, 64, 256, 256]           9,472\n",
      "    InstanceNorm2d-3         [-1, 64, 256, 256]               0\n",
      "              ReLU-4         [-1, 64, 256, 256]               0\n",
      "            Conv2d-5        [-1, 128, 128, 128]          73,856\n",
      "    InstanceNorm2d-6        [-1, 128, 128, 128]               0\n",
      "              ReLU-7        [-1, 128, 128, 128]               0\n",
      "            Conv2d-8          [-1, 256, 64, 64]         295,168\n",
      "    InstanceNorm2d-9          [-1, 256, 64, 64]               0\n",
      "             ReLU-10          [-1, 256, 64, 64]               0\n",
      "  ReflectionPad2d-11          [-1, 256, 66, 66]               0\n",
      "           Conv2d-12          [-1, 256, 64, 64]         590,080\n",
      "   InstanceNorm2d-13          [-1, 256, 64, 64]               0\n",
      "             ReLU-14          [-1, 256, 64, 64]               0\n",
      "  ReflectionPad2d-15          [-1, 256, 66, 66]               0\n",
      "           Conv2d-16          [-1, 256, 64, 64]         590,080\n",
      "   InstanceNorm2d-17          [-1, 256, 64, 64]               0\n",
      "           ResBlk-18          [-1, 256, 64, 64]               0\n",
      "  ReflectionPad2d-19          [-1, 256, 66, 66]               0\n",
      "           Conv2d-20          [-1, 256, 64, 64]         590,080\n",
      "   InstanceNorm2d-21          [-1, 256, 64, 64]               0\n",
      "             ReLU-22          [-1, 256, 64, 64]               0\n",
      "  ReflectionPad2d-23          [-1, 256, 66, 66]               0\n",
      "           Conv2d-24          [-1, 256, 64, 64]         590,080\n",
      "   InstanceNorm2d-25          [-1, 256, 64, 64]               0\n",
      "           ResBlk-26          [-1, 256, 64, 64]               0\n",
      "  ReflectionPad2d-27          [-1, 256, 66, 66]               0\n",
      "           Conv2d-28          [-1, 256, 64, 64]         590,080\n",
      "   InstanceNorm2d-29          [-1, 256, 64, 64]               0\n",
      "             ReLU-30          [-1, 256, 64, 64]               0\n",
      "  ReflectionPad2d-31          [-1, 256, 66, 66]               0\n",
      "           Conv2d-32          [-1, 256, 64, 64]         590,080\n",
      "   InstanceNorm2d-33          [-1, 256, 64, 64]               0\n",
      "           ResBlk-34          [-1, 256, 64, 64]               0\n",
      "  ReflectionPad2d-35          [-1, 256, 66, 66]               0\n",
      "           Conv2d-36          [-1, 256, 64, 64]         590,080\n",
      "   InstanceNorm2d-37          [-1, 256, 64, 64]               0\n",
      "             ReLU-38          [-1, 256, 64, 64]               0\n",
      "  ReflectionPad2d-39          [-1, 256, 66, 66]               0\n",
      "           Conv2d-40          [-1, 256, 64, 64]         590,080\n",
      "   InstanceNorm2d-41          [-1, 256, 64, 64]               0\n",
      "           ResBlk-42          [-1, 256, 64, 64]               0\n",
      "  ReflectionPad2d-43          [-1, 256, 66, 66]               0\n",
      "           Conv2d-44          [-1, 256, 64, 64]         590,080\n",
      "   InstanceNorm2d-45          [-1, 256, 64, 64]               0\n",
      "             ReLU-46          [-1, 256, 64, 64]               0\n",
      "  ReflectionPad2d-47          [-1, 256, 66, 66]               0\n",
      "           Conv2d-48          [-1, 256, 64, 64]         590,080\n",
      "   InstanceNorm2d-49          [-1, 256, 64, 64]               0\n",
      "           ResBlk-50          [-1, 256, 64, 64]               0\n",
      "  ReflectionPad2d-51          [-1, 256, 66, 66]               0\n",
      "           Conv2d-52          [-1, 256, 64, 64]         590,080\n",
      "   InstanceNorm2d-53          [-1, 256, 64, 64]               0\n",
      "             ReLU-54          [-1, 256, 64, 64]               0\n",
      "  ReflectionPad2d-55          [-1, 256, 66, 66]               0\n",
      "           Conv2d-56          [-1, 256, 64, 64]         590,080\n",
      "   InstanceNorm2d-57          [-1, 256, 64, 64]               0\n",
      "           ResBlk-58          [-1, 256, 64, 64]               0\n",
      "  ReflectionPad2d-59          [-1, 256, 66, 66]               0\n",
      "           Conv2d-60          [-1, 256, 64, 64]         590,080\n",
      "   InstanceNorm2d-61          [-1, 256, 64, 64]               0\n",
      "             ReLU-62          [-1, 256, 64, 64]               0\n",
      "  ReflectionPad2d-63          [-1, 256, 66, 66]               0\n",
      "           Conv2d-64          [-1, 256, 64, 64]         590,080\n",
      "   InstanceNorm2d-65          [-1, 256, 64, 64]               0\n",
      "           ResBlk-66          [-1, 256, 64, 64]               0\n",
      "  ReflectionPad2d-67          [-1, 256, 66, 66]               0\n",
      "           Conv2d-68          [-1, 256, 64, 64]         590,080\n",
      "   InstanceNorm2d-69          [-1, 256, 64, 64]               0\n",
      "             ReLU-70          [-1, 256, 64, 64]               0\n",
      "  ReflectionPad2d-71          [-1, 256, 66, 66]               0\n",
      "           Conv2d-72          [-1, 256, 64, 64]         590,080\n",
      "   InstanceNorm2d-73          [-1, 256, 64, 64]               0\n",
      "           ResBlk-74          [-1, 256, 64, 64]               0\n",
      "  ReflectionPad2d-75          [-1, 256, 66, 66]               0\n",
      "           Conv2d-76          [-1, 256, 64, 64]         590,080\n",
      "   InstanceNorm2d-77          [-1, 256, 64, 64]               0\n",
      "             ReLU-78          [-1, 256, 64, 64]               0\n",
      "  ReflectionPad2d-79          [-1, 256, 66, 66]               0\n",
      "           Conv2d-80          [-1, 256, 64, 64]         590,080\n",
      "   InstanceNorm2d-81          [-1, 256, 64, 64]               0\n",
      "           ResBlk-82          [-1, 256, 64, 64]               0\n",
      "         Upsample-83        [-1, 256, 128, 128]               0\n",
      "           Conv2d-84        [-1, 128, 128, 128]         295,040\n",
      "             ReLU-85        [-1, 128, 128, 128]               0\n",
      "         Upsample-86        [-1, 128, 256, 256]               0\n",
      "           Conv2d-87         [-1, 64, 256, 256]          73,792\n",
      "             ReLU-88         [-1, 64, 256, 256]               0\n",
      "  ReflectionPad2d-89         [-1, 64, 262, 262]               0\n",
      "           Conv2d-90          [-1, 3, 256, 256]           9,411\n",
      "             Tanh-91          [-1, 3, 256, 256]               0\n",
      "================================================================\n",
      "Total params: 11,378,179\n",
      "Trainable params: 11,378,179\n",
      "Non-trainable params: 0\n",
      "----------------------------------------------------------------\n",
      "Input size (MB): 0.75\n",
      "Forward/backward pass size (MB): 983.23\n",
      "Params size (MB): 43.40\n",
      "Estimated Total Size (MB): 1027.38\n",
      "----------------------------------------------------------------\n"
     ]
    }
   ],
   "source": [
    "resgen = ResGen(channels=3).to(device)\n",
    "summary(resgen, (3, 256, 256))"
   ]
  },
  {
   "cell_type": "markdown",
   "id": "ebf64301",
   "metadata": {
    "papermill": {
     "duration": 0.017289,
     "end_time": "2023-05-11T04:40:57.377703",
     "exception": false,
     "start_time": "2023-05-11T04:40:57.360414",
     "status": "completed"
    },
    "tags": []
   },
   "source": [
    "### PatchGAN Discriminator"
   ]
  },
  {
   "cell_type": "code",
   "execution_count": 23,
   "id": "1c98fada",
   "metadata": {
    "execution": {
     "iopub.execute_input": "2023-05-11T04:40:57.414721Z",
     "iopub.status.busy": "2023-05-11T04:40:57.413995Z",
     "iopub.status.idle": "2023-05-11T04:40:57.422528Z",
     "shell.execute_reply": "2023-05-11T04:40:57.421688Z"
    },
    "papermill": {
     "duration": 0.02942,
     "end_time": "2023-05-11T04:40:57.424620",
     "exception": false,
     "start_time": "2023-05-11T04:40:57.395200",
     "status": "completed"
    },
    "tags": []
   },
   "outputs": [],
   "source": [
    "class patchDisc(nn.Module):\n",
    "    def __init__(self, channels):\n",
    "        super().__init__()\n",
    "        \n",
    "        self.c = channels\n",
    "        def disc_block(in_f, out_f):\n",
    "            return [nn.Conv2d(in_f, out_f, 4,2,1), nn.InstanceNorm2d(out_f), nn.LeakyReLU(0.2, inplace=True)]\n",
    "        \n",
    "        # PatchGAN calculation done by hand\n",
    "        self.output_shape = (1, 16, 16)\n",
    "        \n",
    "        self.model = nn.Sequential(\n",
    "            *disc_block(self.c, 64),\n",
    "            *disc_block(64, 128),\n",
    "            *disc_block(128, 256),\n",
    "            *disc_block(256, 512),\n",
    "            nn.ZeroPad2d((1,0,1,0)),\n",
    "            nn.Conv2d(512, 1, 4,1,1)\n",
    "        )\n",
    "    \n",
    "        \n",
    "    def forward(self, x):\n",
    "        return self.model(x)"
   ]
  },
  {
   "cell_type": "code",
   "execution_count": 24,
   "id": "41e5f4e8",
   "metadata": {
    "execution": {
     "iopub.execute_input": "2023-05-11T04:40:57.460834Z",
     "iopub.status.busy": "2023-05-11T04:40:57.460508Z",
     "iopub.status.idle": "2023-05-11T04:40:57.465163Z",
     "shell.execute_reply": "2023-05-11T04:40:57.464286Z"
    },
    "papermill": {
     "duration": 0.025162,
     "end_time": "2023-05-11T04:40:57.467337",
     "exception": false,
     "start_time": "2023-05-11T04:40:57.442175",
     "status": "completed"
    },
    "tags": []
   },
   "outputs": [],
   "source": [
    "if not SUBMIT_NB:\n",
    "    pdisc = patchDisc(3).to(device)\n",
    "    summary(pdisc, (3,256,256))"
   ]
  },
  {
   "cell_type": "markdown",
   "id": "f4534c7b",
   "metadata": {
    "papermill": {
     "duration": 0.017303,
     "end_time": "2023-05-11T04:40:57.502000",
     "exception": false,
     "start_time": "2023-05-11T04:40:57.484697",
     "status": "completed"
    },
    "tags": []
   },
   "source": [
    "---   \n",
    "\n",
    "## Lightning Recipe"
   ]
  },
  {
   "cell_type": "code",
   "execution_count": 25,
   "id": "2f53f102",
   "metadata": {
    "execution": {
     "iopub.execute_input": "2023-05-11T04:40:57.538778Z",
     "iopub.status.busy": "2023-05-11T04:40:57.538400Z",
     "iopub.status.idle": "2023-05-11T04:40:57.565308Z",
     "shell.execute_reply": "2023-05-11T04:40:57.564406Z"
    },
    "papermill": {
     "duration": 0.048203,
     "end_time": "2023-05-11T04:40:57.567638",
     "exception": false,
     "start_time": "2023-05-11T04:40:57.519435",
     "status": "completed"
    },
    "tags": []
   },
   "outputs": [],
   "source": [
    "class LIT_cycle(pl.LightningModule):\n",
    "    \n",
    "    def __init__(self, Gen_XY=None, Gen_YX=None, D_X=None, D_Y=None, \n",
    "                 lr: float = 1e-3, b1: float = 0.5, b2: float = 0.999, channels=3, disc_steps=1):\n",
    "        super().__init__()\n",
    "        \n",
    "        assert Gen_XY is not None, \"Pass the generator: X -> Y !\"\n",
    "        assert Gen_YX is not None, \"Pass the generator: Y -> X !\"\n",
    "        assert D_X is not None, \"Pass the patch-discriminator: X !\"\n",
    "        assert D_Y is not None, \"Pass the patch-discriminator: Y !\"\n",
    "        \n",
    "        self.save_hyperparameters(ignore=[])\n",
    "        self.automatic_optimization = False\n",
    "        \n",
    "        self.g_xy = Gen_XY\n",
    "        self.g_yx = Gen_YX\n",
    "        self.dx = D_X\n",
    "        self.dy = D_Y\n",
    "        self.channels = channels\n",
    "        \n",
    "        self.criterion_GAN = torch.nn.MSELoss().to(device)\n",
    "        self.cycle_loss = torch.nn.L1Loss().to(device)\n",
    "        self.identity_loss = torch.nn.L1Loss().to(device)\n",
    "        \n",
    "        \n",
    "    def configure_optimizers(self):\n",
    "        lr = self.hparams.lr # .hparams is accessed from the args passed to this core Lightning module :)\n",
    "        b1 = self.hparams.b1\n",
    "        b2 = self.hparams.b2\n",
    "        \n",
    "        # chain the two generator optimizers so that:\n",
    "        # both generators are updated together (using the same optimizer instance)!\n",
    "        from itertools import chain\n",
    "        optim_g = torch.optim.Adam(chain(self.g_xy.parameters(), self.g_yx.parameters()), lr=lr, betas=(b1,b2))\n",
    "        \n",
    "        optim_dx = torch.optim.Adam(self.dx.parameters(), lr=lr, betas=(b1,b2))\n",
    "        optim_dy = torch.optim.Adam(self.dy.parameters(), lr=lr, betas=(b1,b2))\n",
    "        \n",
    "        # Second list is for returning any lr-schedulers that you might want to use!\n",
    "        return [optim_g, optim_dx, optim_dy], []\n",
    "    \n",
    "    \n",
    "    def forward(self, z, toDomain='x'):\n",
    "        if toDomain == 'x':\n",
    "            return self.g_yx(z)\n",
    "        else:\n",
    "            return self.g_xy(z)\n",
    "        \n",
    "\n",
    "    def training_step(self, batch, idx):\n",
    "        real_X, real_Y = batch\n",
    "        real_X, real_Y = real_X.to(device), real_Y.to(device)\n",
    "        \n",
    "        valid = torch.Tensor(np.ones((real_X.size(0), *self.dx.output_shape))).to(device)\n",
    "        fake = torch.Tensor(np.zeros((real_X.size(0), *self.dx.output_shape))).to(device)\n",
    "        \n",
    "        opt_g, opt_dx, opt_dy = self.optimizers()\n",
    "        \n",
    "        # Train G:\n",
    "        self.toggle_optimizer(opt_g)\n",
    "        \n",
    "        # TODO: Compute loss:\n",
    "        out_x = self.g_yx(real_X)\n",
    "        out_y = self.g_xy(real_Y)\n",
    "#         print(out_x.shape, out_y.shape)\n",
    "        \n",
    "        loss_id_X = self.identity_loss(out_x, real_X)\n",
    "        loss_id_Y = self.identity_loss(out_y, real_Y)\n",
    "        loss_identity = (loss_id_X + loss_id_Y)/2\n",
    "        \n",
    "        # GAN Loss\n",
    "        fake_Y = self.g_xy(real_X)\n",
    "        loss_GAN_XY = self.criterion_GAN(self.dy(fake_Y), valid) # tricking the 'fake-Y' into 'real-Y'\n",
    "        fake_X = self.g_yx(real_Y)\n",
    "        loss_GAN_YX = self.criterion_GAN(self.dx(fake_X), valid) # tricking the 'fake-X' into 'real-X'\n",
    "        \n",
    "        loss_GAN = (loss_GAN_XY + loss_GAN_YX)/2\n",
    "        \n",
    "        # Cycle Loss\n",
    "        recov_X = self.g_yx(fake_Y) # recov_X is fake-photo that is generated by fake-monet-drawing \n",
    "        loss_cycle_X = self.cycle_loss(recov_X, real_X) # Reduces the difference between the restored image and the real image\n",
    "        recov_Y = self.g_xy(fake_X)\n",
    "        loss_cycle_Y = self.cycle_loss(recov_Y, real_Y)\n",
    "        \n",
    "        loss_cycle = (loss_cycle_X + loss_cycle_Y)/2.\n",
    "        \n",
    "        # Total loss:         \n",
    "        g_loss = loss_GAN + (10.0*loss_cycle) + (5.0*loss_identity) # multiply by weights suggested by paper-authors\n",
    "        \n",
    "        # Gradient step:\n",
    "        self.manual_backward(g_loss)\n",
    "        opt_g.step()\n",
    "        opt_g.zero_grad()\n",
    "        \n",
    "        self.untoggle_optimizer(opt_g)\n",
    "        \n",
    "        # Train Discriminator\n",
    "        for i in range(self.hparams.disc_steps): # is kept at 1, usually\n",
    "            # Toggle dx\n",
    "            self.toggle_optimizer(opt_dx)\n",
    "            # Compute losses for dx:\n",
    "            loss_real = self.criterion_GAN(self.dx(real_X), valid) # Discriminate real images as real\n",
    "            loss_fake = self.criterion_GAN(self.dx(fake_X.detach()), fake) # Discriminate fake images as fake\n",
    "        \n",
    "            dx_loss = (loss_real + loss_fake)/2.\n",
    "            \n",
    "            self.manual_backward(dx_loss)\n",
    "            opt_dx.step()\n",
    "            opt_dx.zero_grad()\n",
    "            self.untoggle_optimizer(opt_dx)\n",
    "            \n",
    "            # Toggle dy\n",
    "            self.toggle_optimizer(opt_dy)\n",
    "            # Compute losses for dy\n",
    "            loss_real = self.criterion_GAN(self.dy(real_Y), valid) # Discriminate real images as real\n",
    "            loss_fake = self.criterion_GAN(self.dy(fake_Y.detach()), fake) # Discriminate fake images as fake\n",
    "        \n",
    "            dy_loss = (loss_real + loss_fake)/2.\n",
    "            \n",
    "            self.manual_backward(dy_loss)\n",
    "            opt_dy.step()\n",
    "            opt_dy.zero_grad()\n",
    "            self.untoggle_optimizer(opt_dy)\n",
    "            \n",
    "            tot_d_loss = (dx_loss + dy_loss)/2.\n",
    "        \n",
    "        if not SUBMIT_NB:\n",
    "            self.logger.experiment.log({\"Gen. Monet\":[wandb.Image(make_grid(fake_Y[0].cpu()), caption=\"Gen Monet\")]})\n",
    "            self.logger.experiment.log({\"Gen. Photo\":[wandb.Image(make_grid(fake_X[0].cpu()), caption=\"Gen Photo\")]})\n",
    "            self.log_dict({\"g_loss\": g_loss, \"dx_loss\": dx_loss, \"dy_loss\": dy_loss, \"tot_d_loss\": tot_d_loss}, \n",
    "                      on_step=True, \n",
    "                      on_epoch=True, \n",
    "                      prog_bar=True, \n",
    "                      logger=True)"
   ]
  },
  {
   "cell_type": "code",
   "execution_count": 26,
   "id": "731445a9",
   "metadata": {
    "execution": {
     "iopub.execute_input": "2023-05-11T04:40:57.615228Z",
     "iopub.status.busy": "2023-05-11T04:40:57.614242Z",
     "iopub.status.idle": "2023-05-11T04:40:58.085612Z",
     "shell.execute_reply": "2023-05-11T04:40:58.084474Z"
    },
    "papermill": {
     "duration": 0.502316,
     "end_time": "2023-05-11T04:40:58.087767",
     "exception": false,
     "start_time": "2023-05-11T04:40:57.585451",
     "status": "completed"
    },
    "tags": []
   },
   "outputs": [
    {
     "name": "stderr",
     "output_type": "stream",
     "text": [
      "/opt/conda/lib/python3.10/site-packages/lightning/pytorch/utilities/parsing.py:197: UserWarning: Attribute 'Gen_XY' is an instance of `nn.Module` and is already saved during checkpointing. It is recommended to ignore them using `self.save_hyperparameters(ignore=['Gen_XY'])`.\n",
      "  rank_zero_warn(\n",
      "/opt/conda/lib/python3.10/site-packages/lightning/pytorch/utilities/parsing.py:197: UserWarning: Attribute 'Gen_YX' is an instance of `nn.Module` and is already saved during checkpointing. It is recommended to ignore them using `self.save_hyperparameters(ignore=['Gen_YX'])`.\n",
      "  rank_zero_warn(\n",
      "/opt/conda/lib/python3.10/site-packages/lightning/pytorch/utilities/parsing.py:197: UserWarning: Attribute 'D_X' is an instance of `nn.Module` and is already saved during checkpointing. It is recommended to ignore them using `self.save_hyperparameters(ignore=['D_X'])`.\n",
      "  rank_zero_warn(\n",
      "/opt/conda/lib/python3.10/site-packages/lightning/pytorch/utilities/parsing.py:197: UserWarning: Attribute 'D_Y' is an instance of `nn.Module` and is already saved during checkpointing. It is recommended to ignore them using `self.save_hyperparameters(ignore=['D_Y'])`.\n",
      "  rank_zero_warn(\n"
     ]
    }
   ],
   "source": [
    "# Init Recipe\n",
    "cycle_gan = LIT_cycle(Gen_XY=ResGen(3), \n",
    "                      Gen_YX=ResGen(3), \n",
    "                      D_X=patchDisc(3), \n",
    "                      D_Y=patchDisc(3), \n",
    "                      lr=CONFIG['lr'], \n",
    "                      b1=CONFIG['b1'],\n",
    "                      b2=CONFIG['b2'],\n",
    "                      channels=CONFIG['IMG_SIZE'][2],\n",
    "                      disc_steps=CONFIG['disc_steps']\n",
    "                     )\n",
    "\n",
    "# summary = ModelSummary(cycle_gan, max_depth=-1)\n",
    "# print(summary)"
   ]
  },
  {
   "cell_type": "markdown",
   "id": "dfdab39e",
   "metadata": {
    "papermill": {
     "duration": 0.01726,
     "end_time": "2023-05-11T04:40:58.122858",
     "exception": false,
     "start_time": "2023-05-11T04:40:58.105598",
     "status": "completed"
    },
    "tags": []
   },
   "source": [
    "---   \n",
    "\n",
    "## Logger: Project Name, Run Name, Config file logging etc."
   ]
  },
  {
   "cell_type": "code",
   "execution_count": 27,
   "id": "6b9f54f2",
   "metadata": {
    "execution": {
     "iopub.execute_input": "2023-05-11T04:40:58.158975Z",
     "iopub.status.busy": "2023-05-11T04:40:58.158628Z",
     "iopub.status.idle": "2023-05-11T04:40:58.163278Z",
     "shell.execute_reply": "2023-05-11T04:40:58.162294Z"
    },
    "papermill": {
     "duration": 0.025152,
     "end_time": "2023-05-11T04:40:58.165310",
     "exception": false,
     "start_time": "2023-05-11T04:40:58.140158",
     "status": "completed"
    },
    "tags": []
   },
   "outputs": [],
   "source": [
    "if not SUBMIT_NB:\n",
    "    wandb.login()"
   ]
  },
  {
   "cell_type": "code",
   "execution_count": 28,
   "id": "3a1e651d",
   "metadata": {
    "execution": {
     "iopub.execute_input": "2023-05-11T04:40:58.201769Z",
     "iopub.status.busy": "2023-05-11T04:40:58.200919Z",
     "iopub.status.idle": "2023-05-11T04:40:58.206047Z",
     "shell.execute_reply": "2023-05-11T04:40:58.205248Z"
    },
    "papermill": {
     "duration": 0.025316,
     "end_time": "2023-05-11T04:40:58.208027",
     "exception": false,
     "start_time": "2023-05-11T04:40:58.182711",
     "status": "completed"
    },
    "tags": []
   },
   "outputs": [],
   "source": [
    "if not SUBMIT_NB:\n",
    "    wandb_logger = WandbLogger(project='M8-cycleGAN', \n",
    "                           name='exp-2_20eps',\n",
    "                           config=CONFIG,\n",
    "                           job_type='train',\n",
    "                           log_model=\"all\")"
   ]
  },
  {
   "cell_type": "markdown",
   "id": "a461458d",
   "metadata": {
    "papermill": {
     "duration": 0.01717,
     "end_time": "2023-05-11T04:40:58.242454",
     "exception": false,
     "start_time": "2023-05-11T04:40:58.225284",
     "status": "completed"
    },
    "tags": []
   },
   "source": [
    "---    \n",
    "\n",
    "## Trainer Callbacks"
   ]
  },
  {
   "cell_type": "code",
   "execution_count": 29,
   "id": "065f01c8",
   "metadata": {
    "execution": {
     "iopub.execute_input": "2023-05-11T04:40:58.278782Z",
     "iopub.status.busy": "2023-05-11T04:40:58.277934Z",
     "iopub.status.idle": "2023-05-11T04:40:58.289174Z",
     "shell.execute_reply": "2023-05-11T04:40:58.288333Z"
    },
    "papermill": {
     "duration": 0.031462,
     "end_time": "2023-05-11T04:40:58.291160",
     "exception": false,
     "start_time": "2023-05-11T04:40:58.259698",
     "status": "completed"
    },
    "tags": []
   },
   "outputs": [],
   "source": [
    "from pytorch_lightning import Callback\n",
    "from lightning.pytorch.callbacks import DeviceStatsMonitor, TQDMProgressBar, ModelCheckpoint, EarlyStopping, LearningRateMonitor\n",
    "\n",
    "# Checkpoint\n",
    "checkpoint_callback = ModelCheckpoint(dirpath=CONFIG['checkpoint_path'],\n",
    "                                      filename='{epoch}-{g_loss:.3f}',\n",
    "                                      monitor='g_loss',\n",
    "                                      save_top_k=-1,\n",
    "                                      save_last=True,\n",
    "                                      save_weights_only=True,\n",
    "                                      verbose=True,\n",
    "                                      mode='min')\n",
    "\n",
    "# Exp2: Learning Rate Monitor\n",
    "lr_monitor = LearningRateMonitor(logging_interval='step', log_momentum=False)\n",
    "\n",
    "# Earlystopping\n",
    "# earlystopping = EarlyStopping(monitor='val_d_acc', patience=3, mode='min')"
   ]
  },
  {
   "cell_type": "markdown",
   "id": "c47a2d42",
   "metadata": {
    "papermill": {
     "duration": 0.017161,
     "end_time": "2023-05-11T04:40:58.325613",
     "exception": false,
     "start_time": "2023-05-11T04:40:58.308452",
     "status": "completed"
    },
    "tags": []
   },
   "source": [
    "---   \n",
    "\n",
    "## Trainer"
   ]
  },
  {
   "cell_type": "code",
   "execution_count": 30,
   "id": "d8078dc9",
   "metadata": {
    "execution": {
     "iopub.execute_input": "2023-05-11T04:40:58.362981Z",
     "iopub.status.busy": "2023-05-11T04:40:58.361445Z",
     "iopub.status.idle": "2023-05-11T04:40:58.895335Z",
     "shell.execute_reply": "2023-05-11T04:40:58.894349Z"
    },
    "papermill": {
     "duration": 0.555303,
     "end_time": "2023-05-11T04:40:58.898226",
     "exception": false,
     "start_time": "2023-05-11T04:40:58.342923",
     "status": "completed"
    },
    "tags": []
   },
   "outputs": [],
   "source": [
    "if SUBMIT_NB:\n",
    "    logger_name = False\n",
    "    callbacks_lst = []\n",
    "else:\n",
    "    logger_name = wandb_logger\n",
    "    callbacks_lst = [TQDMProgressBar(refresh_rate=100), checkpoint_callback, lr_monitor]\n",
    "trainer = pl.Trainer(fast_dev_run=False,    # For debugging purposes\n",
    "                     log_every_n_steps=1,   # set the logging frequency\n",
    "                     accelerator='auto',    # Precedence: tpu > gpu >> cpu\n",
    "                     devices=\"auto\",        # all\n",
    "                     max_epochs= CONFIG['NUM_EPOCHS'], # CONFIG['NUM_EPOCHS'],\n",
    "                     callbacks=callbacks_lst,\n",
    "                     logger=logger_name,    # wandb <3 OR False for NB submission\n",
    "                    )"
   ]
  },
  {
   "cell_type": "markdown",
   "id": "44112afe",
   "metadata": {
    "papermill": {
     "duration": 0.01828,
     "end_time": "2023-05-11T04:40:58.935889",
     "exception": false,
     "start_time": "2023-05-11T04:40:58.917609",
     "status": "completed"
    },
    "tags": []
   },
   "source": [
    "---  \n",
    "\n",
    "## Training"
   ]
  },
  {
   "cell_type": "markdown",
   "id": "43d85171",
   "metadata": {
    "papermill": {
     "duration": 0.018299,
     "end_time": "2023-05-11T04:40:58.972623",
     "exception": false,
     "start_time": "2023-05-11T04:40:58.954324",
     "status": "completed"
    },
    "tags": []
   },
   "source": [
    "**TODO:** Replace CustomDataset calling with: MonetDataModule Implementation"
   ]
  },
  {
   "cell_type": "code",
   "execution_count": 31,
   "id": "5e1a679b",
   "metadata": {
    "execution": {
     "iopub.execute_input": "2023-05-11T04:40:59.009803Z",
     "iopub.status.busy": "2023-05-11T04:40:59.008988Z",
     "iopub.status.idle": "2023-05-11T04:40:59.363349Z",
     "shell.execute_reply": "2023-05-11T04:40:59.362338Z"
    },
    "papermill": {
     "duration": 0.37518,
     "end_time": "2023-05-11T04:40:59.365801",
     "exception": false,
     "start_time": "2023-05-11T04:40:58.990621",
     "status": "completed"
    },
    "tags": []
   },
   "outputs": [],
   "source": [
    "monet_data = MonetDataset(CONFIG['DATA_ROOT'], isTrain=True)\n",
    "train_loader = DataLoader(monet_data, batch_size=1, shuffle=True)"
   ]
  },
  {
   "cell_type": "code",
   "execution_count": 32,
   "id": "16fee003",
   "metadata": {
    "execution": {
     "iopub.execute_input": "2023-05-11T04:40:59.402534Z",
     "iopub.status.busy": "2023-05-11T04:40:59.402217Z",
     "iopub.status.idle": "2023-05-11T04:40:59.406475Z",
     "shell.execute_reply": "2023-05-11T04:40:59.405503Z"
    },
    "papermill": {
     "duration": 0.024559,
     "end_time": "2023-05-11T04:40:59.408433",
     "exception": false,
     "start_time": "2023-05-11T04:40:59.383874",
     "status": "completed"
    },
    "tags": []
   },
   "outputs": [],
   "source": [
    "# trainer.fit(cycle_gan, train_loader)"
   ]
  },
  {
   "cell_type": "markdown",
   "id": "3808d418",
   "metadata": {
    "papermill": {
     "duration": 0.017065,
     "end_time": "2023-05-11T04:40:59.442799",
     "exception": false,
     "start_time": "2023-05-11T04:40:59.425734",
     "status": "completed"
    },
    "tags": []
   },
   "source": [
    "## Finish Logging"
   ]
  },
  {
   "cell_type": "code",
   "execution_count": 33,
   "id": "3ff3a3ab",
   "metadata": {
    "execution": {
     "iopub.execute_input": "2023-05-11T04:40:59.478675Z",
     "iopub.status.busy": "2023-05-11T04:40:59.478344Z",
     "iopub.status.idle": "2023-05-11T04:40:59.482868Z",
     "shell.execute_reply": "2023-05-11T04:40:59.481880Z"
    },
    "papermill": {
     "duration": 0.025139,
     "end_time": "2023-05-11T04:40:59.485182",
     "exception": false,
     "start_time": "2023-05-11T04:40:59.460043",
     "status": "completed"
    },
    "tags": []
   },
   "outputs": [],
   "source": [
    "if not SUBMIT_NB:\n",
    "    wandb.finish()\n",
    "    print(\"Finished W&B session\")"
   ]
  },
  {
   "cell_type": "markdown",
   "id": "023ed447",
   "metadata": {
    "papermill": {
     "duration": 0.017146,
     "end_time": "2023-05-11T04:40:59.519808",
     "exception": false,
     "start_time": "2023-05-11T04:40:59.502662",
     "status": "completed"
    },
    "tags": []
   },
   "source": [
    "---\n",
    "\n",
    "\n",
    "## Submission (eval steps, logging & zipping results)"
   ]
  },
  {
   "cell_type": "code",
   "execution_count": 34,
   "id": "4819a778",
   "metadata": {
    "execution": {
     "iopub.execute_input": "2023-05-11T04:40:59.555740Z",
     "iopub.status.busy": "2023-05-11T04:40:59.555402Z",
     "iopub.status.idle": "2023-05-11T04:41:00.764685Z",
     "shell.execute_reply": "2023-05-11T04:41:00.763725Z"
    },
    "papermill": {
     "duration": 1.230109,
     "end_time": "2023-05-11T04:41:00.767130",
     "exception": false,
     "start_time": "2023-05-11T04:40:59.537021",
     "status": "completed"
    },
    "tags": []
   },
   "outputs": [],
   "source": [
    "cycle_20 = LIT_cycle.load_from_checkpoint(\"/kaggle/input/cycle-gan-checkpoint-20-epochs/cycle_checkpoint_20.ckpt\", \n",
    "                                          map_location=device)\n",
    "# summary = ModelSummary(cycle_20, max_depth=-1)\n",
    "# print(summary)\n",
    "\n"
   ]
  },
  {
   "cell_type": "code",
   "execution_count": 35,
   "id": "a5487e47",
   "metadata": {
    "execution": {
     "iopub.execute_input": "2023-05-11T04:41:00.804737Z",
     "iopub.status.busy": "2023-05-11T04:41:00.804383Z",
     "iopub.status.idle": "2023-05-11T04:41:00.828388Z",
     "shell.execute_reply": "2023-05-11T04:41:00.827469Z"
    },
    "papermill": {
     "duration": 0.047217,
     "end_time": "2023-05-11T04:41:00.832525",
     "exception": false,
     "start_time": "2023-05-11T04:41:00.785308",
     "status": "completed"
    },
    "tags": []
   },
   "outputs": [
    {
     "name": "stdout",
     "output_type": "stream",
     "text": [
      "----------------------------------------------------------------\n",
      "        Layer (type)               Output Shape         Param #\n",
      "================================================================\n",
      "   ReflectionPad2d-1          [-1, 3, 262, 262]               0\n",
      "            Conv2d-2         [-1, 64, 256, 256]           9,472\n",
      "    InstanceNorm2d-3         [-1, 64, 256, 256]               0\n",
      "              ReLU-4         [-1, 64, 256, 256]               0\n",
      "            Conv2d-5        [-1, 128, 128, 128]          73,856\n",
      "    InstanceNorm2d-6        [-1, 128, 128, 128]               0\n",
      "              ReLU-7        [-1, 128, 128, 128]               0\n",
      "            Conv2d-8          [-1, 256, 64, 64]         295,168\n",
      "    InstanceNorm2d-9          [-1, 256, 64, 64]               0\n",
      "             ReLU-10          [-1, 256, 64, 64]               0\n",
      "  ReflectionPad2d-11          [-1, 256, 66, 66]               0\n",
      "           Conv2d-12          [-1, 256, 64, 64]         590,080\n",
      "   InstanceNorm2d-13          [-1, 256, 64, 64]               0\n",
      "             ReLU-14          [-1, 256, 64, 64]               0\n",
      "  ReflectionPad2d-15          [-1, 256, 66, 66]               0\n",
      "           Conv2d-16          [-1, 256, 64, 64]         590,080\n",
      "   InstanceNorm2d-17          [-1, 256, 64, 64]               0\n",
      "           ResBlk-18          [-1, 256, 64, 64]               0\n",
      "  ReflectionPad2d-19          [-1, 256, 66, 66]               0\n",
      "           Conv2d-20          [-1, 256, 64, 64]         590,080\n",
      "   InstanceNorm2d-21          [-1, 256, 64, 64]               0\n",
      "             ReLU-22          [-1, 256, 64, 64]               0\n",
      "  ReflectionPad2d-23          [-1, 256, 66, 66]               0\n",
      "           Conv2d-24          [-1, 256, 64, 64]         590,080\n",
      "   InstanceNorm2d-25          [-1, 256, 64, 64]               0\n",
      "           ResBlk-26          [-1, 256, 64, 64]               0\n",
      "  ReflectionPad2d-27          [-1, 256, 66, 66]               0\n",
      "           Conv2d-28          [-1, 256, 64, 64]         590,080\n",
      "   InstanceNorm2d-29          [-1, 256, 64, 64]               0\n",
      "             ReLU-30          [-1, 256, 64, 64]               0\n",
      "  ReflectionPad2d-31          [-1, 256, 66, 66]               0\n",
      "           Conv2d-32          [-1, 256, 64, 64]         590,080\n",
      "   InstanceNorm2d-33          [-1, 256, 64, 64]               0\n",
      "           ResBlk-34          [-1, 256, 64, 64]               0\n",
      "  ReflectionPad2d-35          [-1, 256, 66, 66]               0\n",
      "           Conv2d-36          [-1, 256, 64, 64]         590,080\n",
      "   InstanceNorm2d-37          [-1, 256, 64, 64]               0\n",
      "             ReLU-38          [-1, 256, 64, 64]               0\n",
      "  ReflectionPad2d-39          [-1, 256, 66, 66]               0\n",
      "           Conv2d-40          [-1, 256, 64, 64]         590,080\n",
      "   InstanceNorm2d-41          [-1, 256, 64, 64]               0\n",
      "           ResBlk-42          [-1, 256, 64, 64]               0\n",
      "  ReflectionPad2d-43          [-1, 256, 66, 66]               0\n",
      "           Conv2d-44          [-1, 256, 64, 64]         590,080\n",
      "   InstanceNorm2d-45          [-1, 256, 64, 64]               0\n",
      "             ReLU-46          [-1, 256, 64, 64]               0\n",
      "  ReflectionPad2d-47          [-1, 256, 66, 66]               0\n",
      "           Conv2d-48          [-1, 256, 64, 64]         590,080\n",
      "   InstanceNorm2d-49          [-1, 256, 64, 64]               0\n",
      "           ResBlk-50          [-1, 256, 64, 64]               0\n",
      "  ReflectionPad2d-51          [-1, 256, 66, 66]               0\n",
      "           Conv2d-52          [-1, 256, 64, 64]         590,080\n",
      "   InstanceNorm2d-53          [-1, 256, 64, 64]               0\n",
      "             ReLU-54          [-1, 256, 64, 64]               0\n",
      "  ReflectionPad2d-55          [-1, 256, 66, 66]               0\n",
      "           Conv2d-56          [-1, 256, 64, 64]         590,080\n",
      "   InstanceNorm2d-57          [-1, 256, 64, 64]               0\n",
      "           ResBlk-58          [-1, 256, 64, 64]               0\n",
      "  ReflectionPad2d-59          [-1, 256, 66, 66]               0\n",
      "           Conv2d-60          [-1, 256, 64, 64]         590,080\n",
      "   InstanceNorm2d-61          [-1, 256, 64, 64]               0\n",
      "             ReLU-62          [-1, 256, 64, 64]               0\n",
      "  ReflectionPad2d-63          [-1, 256, 66, 66]               0\n",
      "           Conv2d-64          [-1, 256, 64, 64]         590,080\n",
      "   InstanceNorm2d-65          [-1, 256, 64, 64]               0\n",
      "           ResBlk-66          [-1, 256, 64, 64]               0\n",
      "  ReflectionPad2d-67          [-1, 256, 66, 66]               0\n",
      "           Conv2d-68          [-1, 256, 64, 64]         590,080\n",
      "   InstanceNorm2d-69          [-1, 256, 64, 64]               0\n",
      "             ReLU-70          [-1, 256, 64, 64]               0\n",
      "  ReflectionPad2d-71          [-1, 256, 66, 66]               0\n",
      "           Conv2d-72          [-1, 256, 64, 64]         590,080\n",
      "   InstanceNorm2d-73          [-1, 256, 64, 64]               0\n",
      "           ResBlk-74          [-1, 256, 64, 64]               0\n",
      "  ReflectionPad2d-75          [-1, 256, 66, 66]               0\n",
      "           Conv2d-76          [-1, 256, 64, 64]         590,080\n",
      "   InstanceNorm2d-77          [-1, 256, 64, 64]               0\n",
      "             ReLU-78          [-1, 256, 64, 64]               0\n",
      "  ReflectionPad2d-79          [-1, 256, 66, 66]               0\n",
      "           Conv2d-80          [-1, 256, 64, 64]         590,080\n",
      "   InstanceNorm2d-81          [-1, 256, 64, 64]               0\n",
      "           ResBlk-82          [-1, 256, 64, 64]               0\n",
      "         Upsample-83        [-1, 256, 128, 128]               0\n",
      "           Conv2d-84        [-1, 128, 128, 128]         295,040\n",
      "             ReLU-85        [-1, 128, 128, 128]               0\n",
      "         Upsample-86        [-1, 128, 256, 256]               0\n",
      "           Conv2d-87         [-1, 64, 256, 256]          73,792\n",
      "             ReLU-88         [-1, 64, 256, 256]               0\n",
      "  ReflectionPad2d-89         [-1, 64, 262, 262]               0\n",
      "           Conv2d-90          [-1, 3, 256, 256]           9,411\n",
      "             Tanh-91          [-1, 3, 256, 256]               0\n",
      "================================================================\n",
      "Total params: 11,378,179\n",
      "Trainable params: 11,378,179\n",
      "Non-trainable params: 0\n",
      "----------------------------------------------------------------\n",
      "Input size (MB): 0.75\n",
      "Forward/backward pass size (MB): 983.23\n",
      "Params size (MB): 43.40\n",
      "Estimated Total Size (MB): 1027.38\n",
      "----------------------------------------------------------------\n"
     ]
    }
   ],
   "source": [
    "from torchvision import models\n",
    "from torchsummary import summary\n",
    "summary(cycle_20.g_xy, (3,256,256))"
   ]
  },
  {
   "cell_type": "code",
   "execution_count": 36,
   "id": "ff344dd5",
   "metadata": {
    "execution": {
     "iopub.execute_input": "2023-05-11T04:41:00.870088Z",
     "iopub.status.busy": "2023-05-11T04:41:00.869449Z",
     "iopub.status.idle": "2023-05-11T04:41:03.824794Z",
     "shell.execute_reply": "2023-05-11T04:41:03.823413Z"
    },
    "papermill": {
     "duration": 2.976818,
     "end_time": "2023-05-11T04:41:03.827414",
     "exception": false,
     "start_time": "2023-05-11T04:41:00.850596",
     "status": "completed"
    },
    "tags": []
   },
   "outputs": [],
   "source": [
    "! rm -rf ../images\n",
    "! rm -rf /kaggle/working/images.zip\n",
    "! mkdir ../images"
   ]
  },
  {
   "cell_type": "code",
   "execution_count": 37,
   "id": "03978eac",
   "metadata": {
    "execution": {
     "iopub.execute_input": "2023-05-11T04:41:03.865350Z",
     "iopub.status.busy": "2023-05-11T04:41:03.864307Z",
     "iopub.status.idle": "2023-05-11T04:41:03.870381Z",
     "shell.execute_reply": "2023-05-11T04:41:03.869493Z"
    },
    "papermill": {
     "duration": 0.027007,
     "end_time": "2023-05-11T04:41:03.872372",
     "exception": false,
     "start_time": "2023-05-11T04:41:03.845365",
     "status": "completed"
    },
    "tags": []
   },
   "outputs": [],
   "source": [
    "inf_transform = Compose([T.Resize((256,256)), ToTensor()])"
   ]
  },
  {
   "cell_type": "code",
   "execution_count": 38,
   "id": "7ab792c5",
   "metadata": {
    "execution": {
     "iopub.execute_input": "2023-05-11T04:41:03.909131Z",
     "iopub.status.busy": "2023-05-11T04:41:03.908376Z",
     "iopub.status.idle": "2023-05-11T04:43:42.788034Z",
     "shell.execute_reply": "2023-05-11T04:43:42.787007Z"
    },
    "papermill": {
     "duration": 158.900074,
     "end_time": "2023-05-11T04:43:42.790065",
     "exception": false,
     "start_time": "2023-05-11T04:41:03.889991",
     "status": "completed"
    },
    "tags": []
   },
   "outputs": [
    {
     "data": {
      "application/vnd.jupyter.widget-view+json": {
       "model_id": "ef2d76dd0ef944689c66d889413fcb89",
       "version_major": 2,
       "version_minor": 0
      },
      "text/plain": [
       "  0%|          | 0/7038 [00:00<?, ?it/s]"
      ]
     },
     "metadata": {},
     "output_type": "display_data"
    }
   ],
   "source": [
    "photo_dir = \"/kaggle/input/gan-getting-started/photo_jpg\"\n",
    "cycle_gan.eval()\n",
    "with torch.inference_mode():\n",
    "    for i, img_file in enumerate(tqdm(os.listdir(photo_dir))):\n",
    "        img = inf_transform(Image.open(photo_dir+\"/\"+img_file)).to(device)\n",
    "        img = img[None, :, :, :]\n",
    "        prediction = cycle_20.g_xy(img).cpu()\n",
    "        prediction = prediction[0]\n",
    "        \n",
    "        im = T.ToPILImage()(prediction).convert('RGB')\n",
    "        im.save(\"../images/\" + str(i+1) + \".jpg\")   "
   ]
  },
  {
   "cell_type": "code",
   "execution_count": 39,
   "id": "ebac1fcc",
   "metadata": {
    "execution": {
     "iopub.execute_input": "2023-05-11T04:43:42.827900Z",
     "iopub.status.busy": "2023-05-11T04:43:42.827300Z",
     "iopub.status.idle": "2023-05-11T04:43:42.832011Z",
     "shell.execute_reply": "2023-05-11T04:43:42.831153Z"
    },
    "papermill": {
     "duration": 0.025573,
     "end_time": "2023-05-11T04:43:42.834005",
     "exception": false,
     "start_time": "2023-05-11T04:43:42.808432",
     "status": "completed"
    },
    "tags": []
   },
   "outputs": [],
   "source": [
    "import shutil"
   ]
  },
  {
   "cell_type": "code",
   "execution_count": 40,
   "id": "b42e5124",
   "metadata": {
    "execution": {
     "iopub.execute_input": "2023-05-11T04:43:42.871285Z",
     "iopub.status.busy": "2023-05-11T04:43:42.870491Z",
     "iopub.status.idle": "2023-05-11T04:43:47.140487Z",
     "shell.execute_reply": "2023-05-11T04:43:47.139484Z"
    },
    "papermill": {
     "duration": 4.290747,
     "end_time": "2023-05-11T04:43:47.142532",
     "exception": false,
     "start_time": "2023-05-11T04:43:42.851785",
     "status": "completed"
    },
    "tags": []
   },
   "outputs": [
    {
     "data": {
      "text/plain": [
       "'/kaggle/working/images.zip'"
      ]
     },
     "execution_count": 40,
     "metadata": {},
     "output_type": "execute_result"
    }
   ],
   "source": [
    "shutil.make_archive(\"/kaggle/working/images\", 'zip', \"/kaggle/images\")"
   ]
  }
 ],
 "metadata": {
  "kernelspec": {
   "display_name": "Python 3",
   "language": "python",
   "name": "python3"
  },
  "language_info": {
   "codemirror_mode": {
    "name": "ipython",
    "version": 3
   },
   "file_extension": ".py",
   "mimetype": "text/x-python",
   "name": "python",
   "nbconvert_exporter": "python",
   "pygments_lexer": "ipython3",
   "version": "3.10.10"
  },
  "papermill": {
   "default_parameters": {},
   "duration": 236.860203,
   "end_time": "2023-05-11T04:43:50.574133",
   "environment_variables": {},
   "exception": null,
   "input_path": "__notebook__.ipynb",
   "output_path": "__notebook__.ipynb",
   "parameters": {},
   "start_time": "2023-05-11T04:39:53.713930",
   "version": "2.4.0"
  },
  "widgets": {
   "application/vnd.jupyter.widget-state+json": {
    "state": {
     "3e713d6fc53e44b1a4bc80d1aded9f39": {
      "model_module": "@jupyter-widgets/base",
      "model_module_version": "1.2.0",
      "model_name": "LayoutModel",
      "state": {
       "_model_module": "@jupyter-widgets/base",
       "_model_module_version": "1.2.0",
       "_model_name": "LayoutModel",
       "_view_count": null,
       "_view_module": "@jupyter-widgets/base",
       "_view_module_version": "1.2.0",
       "_view_name": "LayoutView",
       "align_content": null,
       "align_items": null,
       "align_self": null,
       "border": null,
       "bottom": null,
       "display": null,
       "flex": null,
       "flex_flow": null,
       "grid_area": null,
       "grid_auto_columns": null,
       "grid_auto_flow": null,
       "grid_auto_rows": null,
       "grid_column": null,
       "grid_gap": null,
       "grid_row": null,
       "grid_template_areas": null,
       "grid_template_columns": null,
       "grid_template_rows": null,
       "height": null,
       "justify_content": null,
       "justify_items": null,
       "left": null,
       "margin": null,
       "max_height": null,
       "max_width": null,
       "min_height": null,
       "min_width": null,
       "object_fit": null,
       "object_position": null,
       "order": null,
       "overflow": null,
       "overflow_x": null,
       "overflow_y": null,
       "padding": null,
       "right": null,
       "top": null,
       "visibility": null,
       "width": null
      }
     },
     "6622734732e84f2d84b00eeaa9ba59f1": {
      "model_module": "@jupyter-widgets/controls",
      "model_module_version": "1.5.0",
      "model_name": "ProgressStyleModel",
      "state": {
       "_model_module": "@jupyter-widgets/controls",
       "_model_module_version": "1.5.0",
       "_model_name": "ProgressStyleModel",
       "_view_count": null,
       "_view_module": "@jupyter-widgets/base",
       "_view_module_version": "1.2.0",
       "_view_name": "StyleView",
       "bar_color": null,
       "description_width": ""
      }
     },
     "7aab18d9641d4101b5a8005466feb2b4": {
      "model_module": "@jupyter-widgets/base",
      "model_module_version": "1.2.0",
      "model_name": "LayoutModel",
      "state": {
       "_model_module": "@jupyter-widgets/base",
       "_model_module_version": "1.2.0",
       "_model_name": "LayoutModel",
       "_view_count": null,
       "_view_module": "@jupyter-widgets/base",
       "_view_module_version": "1.2.0",
       "_view_name": "LayoutView",
       "align_content": null,
       "align_items": null,
       "align_self": null,
       "border": null,
       "bottom": null,
       "display": null,
       "flex": null,
       "flex_flow": null,
       "grid_area": null,
       "grid_auto_columns": null,
       "grid_auto_flow": null,
       "grid_auto_rows": null,
       "grid_column": null,
       "grid_gap": null,
       "grid_row": null,
       "grid_template_areas": null,
       "grid_template_columns": null,
       "grid_template_rows": null,
       "height": null,
       "justify_content": null,
       "justify_items": null,
       "left": null,
       "margin": null,
       "max_height": null,
       "max_width": null,
       "min_height": null,
       "min_width": null,
       "object_fit": null,
       "object_position": null,
       "order": null,
       "overflow": null,
       "overflow_x": null,
       "overflow_y": null,
       "padding": null,
       "right": null,
       "top": null,
       "visibility": null,
       "width": null
      }
     },
     "9d845c4289b84fd7ac87d012394365de": {
      "model_module": "@jupyter-widgets/controls",
      "model_module_version": "1.5.0",
      "model_name": "DescriptionStyleModel",
      "state": {
       "_model_module": "@jupyter-widgets/controls",
       "_model_module_version": "1.5.0",
       "_model_name": "DescriptionStyleModel",
       "_view_count": null,
       "_view_module": "@jupyter-widgets/base",
       "_view_module_version": "1.2.0",
       "_view_name": "StyleView",
       "description_width": ""
      }
     },
     "addf2a2a16554451bba7eb062759f4eb": {
      "model_module": "@jupyter-widgets/base",
      "model_module_version": "1.2.0",
      "model_name": "LayoutModel",
      "state": {
       "_model_module": "@jupyter-widgets/base",
       "_model_module_version": "1.2.0",
       "_model_name": "LayoutModel",
       "_view_count": null,
       "_view_module": "@jupyter-widgets/base",
       "_view_module_version": "1.2.0",
       "_view_name": "LayoutView",
       "align_content": null,
       "align_items": null,
       "align_self": null,
       "border": null,
       "bottom": null,
       "display": null,
       "flex": null,
       "flex_flow": null,
       "grid_area": null,
       "grid_auto_columns": null,
       "grid_auto_flow": null,
       "grid_auto_rows": null,
       "grid_column": null,
       "grid_gap": null,
       "grid_row": null,
       "grid_template_areas": null,
       "grid_template_columns": null,
       "grid_template_rows": null,
       "height": null,
       "justify_content": null,
       "justify_items": null,
       "left": null,
       "margin": null,
       "max_height": null,
       "max_width": null,
       "min_height": null,
       "min_width": null,
       "object_fit": null,
       "object_position": null,
       "order": null,
       "overflow": null,
       "overflow_x": null,
       "overflow_y": null,
       "padding": null,
       "right": null,
       "top": null,
       "visibility": null,
       "width": null
      }
     },
     "c485b5f0981c4839b08aef4fd4a8d62f": {
      "model_module": "@jupyter-widgets/controls",
      "model_module_version": "1.5.0",
      "model_name": "FloatProgressModel",
      "state": {
       "_dom_classes": [],
       "_model_module": "@jupyter-widgets/controls",
       "_model_module_version": "1.5.0",
       "_model_name": "FloatProgressModel",
       "_view_count": null,
       "_view_module": "@jupyter-widgets/controls",
       "_view_module_version": "1.5.0",
       "_view_name": "ProgressView",
       "bar_style": "success",
       "description": "",
       "description_tooltip": null,
       "layout": "IPY_MODEL_7aab18d9641d4101b5a8005466feb2b4",
       "max": 7038.0,
       "min": 0.0,
       "orientation": "horizontal",
       "style": "IPY_MODEL_6622734732e84f2d84b00eeaa9ba59f1",
       "value": 7038.0
      }
     },
     "d106a0317bdf46de8e9b4c901d39ebda": {
      "model_module": "@jupyter-widgets/controls",
      "model_module_version": "1.5.0",
      "model_name": "DescriptionStyleModel",
      "state": {
       "_model_module": "@jupyter-widgets/controls",
       "_model_module_version": "1.5.0",
       "_model_name": "DescriptionStyleModel",
       "_view_count": null,
       "_view_module": "@jupyter-widgets/base",
       "_view_module_version": "1.2.0",
       "_view_name": "StyleView",
       "description_width": ""
      }
     },
     "e134b16c4f074dfdb01321dc6b69b31c": {
      "model_module": "@jupyter-widgets/controls",
      "model_module_version": "1.5.0",
      "model_name": "HTMLModel",
      "state": {
       "_dom_classes": [],
       "_model_module": "@jupyter-widgets/controls",
       "_model_module_version": "1.5.0",
       "_model_name": "HTMLModel",
       "_view_count": null,
       "_view_module": "@jupyter-widgets/controls",
       "_view_module_version": "1.5.0",
       "_view_name": "HTMLView",
       "description": "",
       "description_tooltip": null,
       "layout": "IPY_MODEL_3e713d6fc53e44b1a4bc80d1aded9f39",
       "placeholder": "​",
       "style": "IPY_MODEL_d106a0317bdf46de8e9b4c901d39ebda",
       "value": " 7038/7038 [02:38&lt;00:00, 41.40it/s]"
      }
     },
     "e2e8e09dde934acc973468a412646bfe": {
      "model_module": "@jupyter-widgets/controls",
      "model_module_version": "1.5.0",
      "model_name": "HTMLModel",
      "state": {
       "_dom_classes": [],
       "_model_module": "@jupyter-widgets/controls",
       "_model_module_version": "1.5.0",
       "_model_name": "HTMLModel",
       "_view_count": null,
       "_view_module": "@jupyter-widgets/controls",
       "_view_module_version": "1.5.0",
       "_view_name": "HTMLView",
       "description": "",
       "description_tooltip": null,
       "layout": "IPY_MODEL_addf2a2a16554451bba7eb062759f4eb",
       "placeholder": "​",
       "style": "IPY_MODEL_9d845c4289b84fd7ac87d012394365de",
       "value": "100%"
      }
     },
     "ef2d76dd0ef944689c66d889413fcb89": {
      "model_module": "@jupyter-widgets/controls",
      "model_module_version": "1.5.0",
      "model_name": "HBoxModel",
      "state": {
       "_dom_classes": [],
       "_model_module": "@jupyter-widgets/controls",
       "_model_module_version": "1.5.0",
       "_model_name": "HBoxModel",
       "_view_count": null,
       "_view_module": "@jupyter-widgets/controls",
       "_view_module_version": "1.5.0",
       "_view_name": "HBoxView",
       "box_style": "",
       "children": [
        "IPY_MODEL_e2e8e09dde934acc973468a412646bfe",
        "IPY_MODEL_c485b5f0981c4839b08aef4fd4a8d62f",
        "IPY_MODEL_e134b16c4f074dfdb01321dc6b69b31c"
       ],
       "layout": "IPY_MODEL_fc38df0397924a66b8de91f030e59c17"
      }
     },
     "fc38df0397924a66b8de91f030e59c17": {
      "model_module": "@jupyter-widgets/base",
      "model_module_version": "1.2.0",
      "model_name": "LayoutModel",
      "state": {
       "_model_module": "@jupyter-widgets/base",
       "_model_module_version": "1.2.0",
       "_model_name": "LayoutModel",
       "_view_count": null,
       "_view_module": "@jupyter-widgets/base",
       "_view_module_version": "1.2.0",
       "_view_name": "LayoutView",
       "align_content": null,
       "align_items": null,
       "align_self": null,
       "border": null,
       "bottom": null,
       "display": null,
       "flex": null,
       "flex_flow": null,
       "grid_area": null,
       "grid_auto_columns": null,
       "grid_auto_flow": null,
       "grid_auto_rows": null,
       "grid_column": null,
       "grid_gap": null,
       "grid_row": null,
       "grid_template_areas": null,
       "grid_template_columns": null,
       "grid_template_rows": null,
       "height": null,
       "justify_content": null,
       "justify_items": null,
       "left": null,
       "margin": null,
       "max_height": null,
       "max_width": null,
       "min_height": null,
       "min_width": null,
       "object_fit": null,
       "object_position": null,
       "order": null,
       "overflow": null,
       "overflow_x": null,
       "overflow_y": null,
       "padding": null,
       "right": null,
       "top": null,
       "visibility": null,
       "width": null
      }
     }
    },
    "version_major": 2,
    "version_minor": 0
   }
  }
 },
 "nbformat": 4,
 "nbformat_minor": 5
}
